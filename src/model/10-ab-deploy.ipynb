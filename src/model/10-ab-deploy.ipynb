{
 "cells": [
  {
   "cell_type": "markdown",
   "metadata": {
    "ExecuteTime": {
     "end_time": "2021-03-27T20:58:22.276780Z",
     "start_time": "2021-03-27T20:58:22.274533Z"
    }
   },
   "source": [
    "## <font color='red'>**PA005: High Value Customer Identification**</font>"
   ]
  },
  {
   "cell_type": "markdown",
   "metadata": {
    "heading_collapsed": true,
    "hide_input": true
   },
   "source": [
    "# 0.0. Imports"
   ]
  },
  {
   "cell_type": "code",
   "execution_count": 81,
   "metadata": {
    "ExecuteTime": {
     "end_time": "2022-11-09T09:37:51.437759Z",
     "start_time": "2022-11-09T09:37:51.434280Z"
    },
    "hidden": true
   },
   "outputs": [],
   "source": [
    "import re\n",
    "import numpy   as np\n",
    "import pandas  as pd\n",
    "import seaborn as sns\n",
    "\n",
    "import umap.umap_ as umap\n",
    "\n",
    "from matplotlib import pyplot as plt\n",
    "\n",
    "from sklearn import cluster       as c\n",
    "from sklearn import metrics       as m\n",
    "from sklearn import ensemble      as en\n",
    "from sklearn import preprocessing as pp\n",
    "from sklearn import decomposition as dd\n",
    "from sklearn import manifold      as mn\n",
    "from sklearn import mixture       as mx\n",
    "\n",
    "from plotly import express as px\n",
    "from scipy.cluster import hierarchy as hc\n",
    "from sqlalchemy import create_engine"
   ]
  },
  {
   "cell_type": "markdown",
   "metadata": {
    "hidden": true
   },
   "source": [
    "## 0.2. Load dataset"
   ]
  },
  {
   "cell_type": "code",
   "execution_count": 2,
   "metadata": {
    "ExecuteTime": {
     "end_time": "2022-11-09T09:17:49.964361Z",
     "start_time": "2022-11-09T09:17:49.958042Z"
    },
    "hidden": true
   },
   "outputs": [
    {
     "data": {
      "text/plain": [
       "'/home/alessandra/repos/insiders_clustering_ecommerce/notebooks'"
      ]
     },
     "execution_count": 2,
     "metadata": {},
     "output_type": "execute_result"
    }
   ],
   "source": [
    "pwd"
   ]
  },
  {
   "cell_type": "code",
   "execution_count": 5,
   "metadata": {
    "ExecuteTime": {
     "end_time": "2022-11-09T09:20:04.807280Z",
     "start_time": "2022-11-09T09:20:04.335269Z"
    },
    "hidden": true
   },
   "outputs": [],
   "source": [
    "# load data\n",
    "path = r'/home/alessandra/repos/insiders_clustering_ecommerce'## linux\n",
    "#path = r'C:/Users/Utente77/repos/insiders_clustering_ecommerce' ##windows\n",
    "\n",
    "df_raw = pd.read_csv( path + '/data/raw/Ecommerce.csv' )\n",
    "# drop extra column\n",
    "df_raw = df_raw.drop( columns=['Unnamed: 8'], axis=1 )"
   ]
  },
  {
   "cell_type": "markdown",
   "metadata": {
    "heading_collapsed": true
   },
   "source": [
    "# <font color='red'> 1.0. Descrição dos dados </font>"
   ]
  },
  {
   "cell_type": "code",
   "execution_count": 6,
   "metadata": {
    "ExecuteTime": {
     "end_time": "2022-11-09T09:20:10.654566Z",
     "start_time": "2022-11-09T09:20:10.638800Z"
    },
    "hidden": true
   },
   "outputs": [],
   "source": [
    "df1 = df_raw.copy()"
   ]
  },
  {
   "cell_type": "code",
   "execution_count": 7,
   "metadata": {
    "ExecuteTime": {
     "end_time": "2022-11-09T09:20:18.740610Z",
     "start_time": "2022-11-09T09:20:18.656034Z"
    },
    "hidden": true
   },
   "outputs": [
    {
     "data": {
      "text/html": [
       "<div>\n",
       "<style scoped>\n",
       "    .dataframe tbody tr th:only-of-type {\n",
       "        vertical-align: middle;\n",
       "    }\n",
       "\n",
       "    .dataframe tbody tr th {\n",
       "        vertical-align: top;\n",
       "    }\n",
       "\n",
       "    .dataframe thead th {\n",
       "        text-align: right;\n",
       "    }\n",
       "</style>\n",
       "<table border=\"1\" class=\"dataframe\">\n",
       "  <thead>\n",
       "    <tr style=\"text-align: right;\">\n",
       "      <th></th>\n",
       "      <th>InvoiceNo</th>\n",
       "      <th>StockCode</th>\n",
       "      <th>Description</th>\n",
       "      <th>Quantity</th>\n",
       "      <th>InvoiceDate</th>\n",
       "      <th>UnitPrice</th>\n",
       "      <th>CustomerID</th>\n",
       "      <th>Country</th>\n",
       "    </tr>\n",
       "  </thead>\n",
       "  <tbody>\n",
       "    <tr>\n",
       "      <th>0</th>\n",
       "      <td>536365</td>\n",
       "      <td>85123A</td>\n",
       "      <td>WHITE HANGING HEART T-LIGHT HOLDER</td>\n",
       "      <td>6</td>\n",
       "      <td>29-Nov-16</td>\n",
       "      <td>2.55</td>\n",
       "      <td>17850.0</td>\n",
       "      <td>United Kingdom</td>\n",
       "    </tr>\n",
       "    <tr>\n",
       "      <th>1</th>\n",
       "      <td>536365</td>\n",
       "      <td>71053</td>\n",
       "      <td>WHITE METAL LANTERN</td>\n",
       "      <td>6</td>\n",
       "      <td>29-Nov-16</td>\n",
       "      <td>3.39</td>\n",
       "      <td>17850.0</td>\n",
       "      <td>United Kingdom</td>\n",
       "    </tr>\n",
       "    <tr>\n",
       "      <th>2</th>\n",
       "      <td>536365</td>\n",
       "      <td>84406B</td>\n",
       "      <td>CREAM CUPID HEARTS COAT HANGER</td>\n",
       "      <td>8</td>\n",
       "      <td>29-Nov-16</td>\n",
       "      <td>2.75</td>\n",
       "      <td>17850.0</td>\n",
       "      <td>United Kingdom</td>\n",
       "    </tr>\n",
       "    <tr>\n",
       "      <th>3</th>\n",
       "      <td>536365</td>\n",
       "      <td>84029G</td>\n",
       "      <td>KNITTED UNION FLAG HOT WATER BOTTLE</td>\n",
       "      <td>6</td>\n",
       "      <td>29-Nov-16</td>\n",
       "      <td>3.39</td>\n",
       "      <td>17850.0</td>\n",
       "      <td>United Kingdom</td>\n",
       "    </tr>\n",
       "    <tr>\n",
       "      <th>4</th>\n",
       "      <td>536365</td>\n",
       "      <td>84029E</td>\n",
       "      <td>RED WOOLLY HOTTIE WHITE HEART.</td>\n",
       "      <td>6</td>\n",
       "      <td>29-Nov-16</td>\n",
       "      <td>3.39</td>\n",
       "      <td>17850.0</td>\n",
       "      <td>United Kingdom</td>\n",
       "    </tr>\n",
       "  </tbody>\n",
       "</table>\n",
       "</div>"
      ],
      "text/plain": [
       "  InvoiceNo StockCode                          Description  Quantity  \\\n",
       "0    536365    85123A   WHITE HANGING HEART T-LIGHT HOLDER         6   \n",
       "1    536365     71053                  WHITE METAL LANTERN         6   \n",
       "2    536365    84406B       CREAM CUPID HEARTS COAT HANGER         8   \n",
       "3    536365    84029G  KNITTED UNION FLAG HOT WATER BOTTLE         6   \n",
       "4    536365    84029E       RED WOOLLY HOTTIE WHITE HEART.         6   \n",
       "\n",
       "  InvoiceDate  UnitPrice  CustomerID         Country  \n",
       "0   29-Nov-16       2.55     17850.0  United Kingdom  \n",
       "1   29-Nov-16       3.39     17850.0  United Kingdom  \n",
       "2   29-Nov-16       2.75     17850.0  United Kingdom  \n",
       "3   29-Nov-16       3.39     17850.0  United Kingdom  \n",
       "4   29-Nov-16       3.39     17850.0  United Kingdom  "
      ]
     },
     "execution_count": 7,
     "metadata": {},
     "output_type": "execute_result"
    }
   ],
   "source": [
    "df1.head()"
   ]
  },
  {
   "cell_type": "code",
   "execution_count": null,
   "metadata": {
    "hidden": true
   },
   "outputs": [],
   "source": []
  },
  {
   "cell_type": "markdown",
   "metadata": {
    "hidden": true
   },
   "source": [
    "## 1.1. Rename columuns"
   ]
  },
  {
   "cell_type": "code",
   "execution_count": 8,
   "metadata": {
    "ExecuteTime": {
     "end_time": "2022-11-09T09:20:18.763061Z",
     "start_time": "2022-11-09T09:20:18.742381Z"
    },
    "hidden": true
   },
   "outputs": [],
   "source": [
    "cols_new = ['invoice_no', 'stock_code', 'description', 'quantity', 'invoice_date', 'unit_price', 'customer_id', 'country']\n",
    "df1.columns = cols_new"
   ]
  },
  {
   "cell_type": "markdown",
   "metadata": {
    "hidden": true
   },
   "source": [
    "## 1.2. Data dimensions"
   ]
  },
  {
   "cell_type": "code",
   "execution_count": 9,
   "metadata": {
    "ExecuteTime": {
     "end_time": "2022-11-09T09:20:18.768661Z",
     "start_time": "2022-11-09T09:20:18.764774Z"
    },
    "hidden": true
   },
   "outputs": [
    {
     "name": "stdout",
     "output_type": "stream",
     "text": [
      "Number of rows: 541909\n",
      "Number of cols: 8\n"
     ]
    }
   ],
   "source": [
    "print( 'Number of rows: {}'.format( df1.shape[0] ) )\n",
    "print( 'Number of cols: {}'.format( df1.shape[1] ) )"
   ]
  },
  {
   "cell_type": "markdown",
   "metadata": {
    "hidden": true
   },
   "source": [
    "## 1.3. Data types"
   ]
  },
  {
   "cell_type": "code",
   "execution_count": 10,
   "metadata": {
    "ExecuteTime": {
     "end_time": "2022-11-09T09:20:18.809977Z",
     "start_time": "2022-11-09T09:20:18.805822Z"
    },
    "hidden": true
   },
   "outputs": [
    {
     "data": {
      "text/plain": [
       "invoice_no       object\n",
       "stock_code       object\n",
       "description      object\n",
       "quantity          int64\n",
       "invoice_date     object\n",
       "unit_price      float64\n",
       "customer_id     float64\n",
       "country          object\n",
       "dtype: object"
      ]
     },
     "execution_count": 10,
     "metadata": {},
     "output_type": "execute_result"
    }
   ],
   "source": [
    "df1.dtypes"
   ]
  },
  {
   "cell_type": "markdown",
   "metadata": {
    "hidden": true
   },
   "source": [
    "## 1.4. Check NA"
   ]
  },
  {
   "cell_type": "code",
   "execution_count": 11,
   "metadata": {
    "ExecuteTime": {
     "end_time": "2022-11-09T09:20:19.100436Z",
     "start_time": "2022-11-09T09:20:18.869632Z"
    },
    "hidden": true
   },
   "outputs": [
    {
     "data": {
      "text/plain": [
       "invoice_no           0\n",
       "stock_code           0\n",
       "description       1454\n",
       "quantity             0\n",
       "invoice_date         0\n",
       "unit_price           0\n",
       "customer_id     135080\n",
       "country              0\n",
       "dtype: int64"
      ]
     },
     "execution_count": 11,
     "metadata": {},
     "output_type": "execute_result"
    }
   ],
   "source": [
    "df1.isna().sum()"
   ]
  },
  {
   "cell_type": "markdown",
   "metadata": {
    "hidden": true
   },
   "source": [
    "## 1.5. Replace NA"
   ]
  },
  {
   "cell_type": "code",
   "execution_count": 12,
   "metadata": {
    "ExecuteTime": {
     "end_time": "2022-11-09T09:20:19.141823Z",
     "start_time": "2022-11-09T09:20:19.101922Z"
    },
    "hidden": true
   },
   "outputs": [],
   "source": [
    "# Precisamos resolver o problema do NA"
   ]
  },
  {
   "cell_type": "code",
   "execution_count": 13,
   "metadata": {
    "ExecuteTime": {
     "end_time": "2022-11-09T09:20:19.203032Z",
     "start_time": "2022-11-09T09:20:19.143147Z"
    },
    "hidden": true
   },
   "outputs": [],
   "source": [
    "df_missing = df1.loc[df1['customer_id'].isna(), :]\n",
    "df_not_missing = df1.loc[~df1['customer_id'].isna(), :]"
   ]
  },
  {
   "cell_type": "code",
   "execution_count": 14,
   "metadata": {
    "ExecuteTime": {
     "end_time": "2022-11-09T09:20:19.368482Z",
     "start_time": "2022-11-09T09:20:19.204765Z"
    },
    "hidden": true
   },
   "outputs": [],
   "source": [
    "# create reference\n",
    "df_backup = pd.DataFrame( df_missing['invoice_no'].drop_duplicates() )\n",
    "df_backup['customer_id'] = np.arange( 19000, 19000+len( df_backup ), 1)\n",
    "\n",
    "# merge original with reference dataframe\n",
    "df1 = pd.merge( df1, df_backup, on='invoice_no', how='left' )\n",
    "\n",
    "# coalesce \n",
    "df1['customer_id'] = df1['customer_id_x'].combine_first( df1['customer_id_y'] )\n",
    "\n",
    "# drop extra columns\n",
    "df1 = df1.drop( columns=['customer_id_x', 'customer_id_y'], axis=1 )"
   ]
  },
  {
   "cell_type": "code",
   "execution_count": 15,
   "metadata": {
    "ExecuteTime": {
     "end_time": "2022-11-09T09:20:19.611542Z",
     "start_time": "2022-11-09T09:20:19.369651Z"
    },
    "hidden": true
   },
   "outputs": [
    {
     "data": {
      "text/plain": [
       "invoice_no         0\n",
       "stock_code         0\n",
       "description     1454\n",
       "quantity           0\n",
       "invoice_date       0\n",
       "unit_price         0\n",
       "country            0\n",
       "customer_id        0\n",
       "dtype: int64"
      ]
     },
     "execution_count": 15,
     "metadata": {},
     "output_type": "execute_result"
    }
   ],
   "source": [
    "df1.isna().sum()"
   ]
  },
  {
   "cell_type": "markdown",
   "metadata": {
    "hidden": true
   },
   "source": [
    "## 1.6. Change dtypes"
   ]
  },
  {
   "cell_type": "code",
   "execution_count": 16,
   "metadata": {
    "ExecuteTime": {
     "end_time": "2022-11-09T09:20:19.665317Z",
     "start_time": "2022-11-09T09:20:19.612599Z"
    },
    "hidden": true
   },
   "outputs": [
    {
     "data": {
      "text/html": [
       "<div>\n",
       "<style scoped>\n",
       "    .dataframe tbody tr th:only-of-type {\n",
       "        vertical-align: middle;\n",
       "    }\n",
       "\n",
       "    .dataframe tbody tr th {\n",
       "        vertical-align: top;\n",
       "    }\n",
       "\n",
       "    .dataframe thead th {\n",
       "        text-align: right;\n",
       "    }\n",
       "</style>\n",
       "<table border=\"1\" class=\"dataframe\">\n",
       "  <thead>\n",
       "    <tr style=\"text-align: right;\">\n",
       "      <th></th>\n",
       "      <th>invoice_no</th>\n",
       "      <th>stock_code</th>\n",
       "      <th>description</th>\n",
       "      <th>quantity</th>\n",
       "      <th>invoice_date</th>\n",
       "      <th>unit_price</th>\n",
       "      <th>country</th>\n",
       "      <th>customer_id</th>\n",
       "    </tr>\n",
       "  </thead>\n",
       "  <tbody>\n",
       "    <tr>\n",
       "      <th>0</th>\n",
       "      <td>536365</td>\n",
       "      <td>85123A</td>\n",
       "      <td>WHITE HANGING HEART T-LIGHT HOLDER</td>\n",
       "      <td>6</td>\n",
       "      <td>2016-11-29</td>\n",
       "      <td>2.55</td>\n",
       "      <td>United Kingdom</td>\n",
       "      <td>17850</td>\n",
       "    </tr>\n",
       "    <tr>\n",
       "      <th>1</th>\n",
       "      <td>536365</td>\n",
       "      <td>71053</td>\n",
       "      <td>WHITE METAL LANTERN</td>\n",
       "      <td>6</td>\n",
       "      <td>2016-11-29</td>\n",
       "      <td>3.39</td>\n",
       "      <td>United Kingdom</td>\n",
       "      <td>17850</td>\n",
       "    </tr>\n",
       "    <tr>\n",
       "      <th>2</th>\n",
       "      <td>536365</td>\n",
       "      <td>84406B</td>\n",
       "      <td>CREAM CUPID HEARTS COAT HANGER</td>\n",
       "      <td>8</td>\n",
       "      <td>2016-11-29</td>\n",
       "      <td>2.75</td>\n",
       "      <td>United Kingdom</td>\n",
       "      <td>17850</td>\n",
       "    </tr>\n",
       "    <tr>\n",
       "      <th>3</th>\n",
       "      <td>536365</td>\n",
       "      <td>84029G</td>\n",
       "      <td>KNITTED UNION FLAG HOT WATER BOTTLE</td>\n",
       "      <td>6</td>\n",
       "      <td>2016-11-29</td>\n",
       "      <td>3.39</td>\n",
       "      <td>United Kingdom</td>\n",
       "      <td>17850</td>\n",
       "    </tr>\n",
       "    <tr>\n",
       "      <th>4</th>\n",
       "      <td>536365</td>\n",
       "      <td>84029E</td>\n",
       "      <td>RED WOOLLY HOTTIE WHITE HEART.</td>\n",
       "      <td>6</td>\n",
       "      <td>2016-11-29</td>\n",
       "      <td>3.39</td>\n",
       "      <td>United Kingdom</td>\n",
       "      <td>17850</td>\n",
       "    </tr>\n",
       "  </tbody>\n",
       "</table>\n",
       "</div>"
      ],
      "text/plain": [
       "  invoice_no stock_code                          description  quantity  \\\n",
       "0     536365     85123A   WHITE HANGING HEART T-LIGHT HOLDER         6   \n",
       "1     536365      71053                  WHITE METAL LANTERN         6   \n",
       "2     536365     84406B       CREAM CUPID HEARTS COAT HANGER         8   \n",
       "3     536365     84029G  KNITTED UNION FLAG HOT WATER BOTTLE         6   \n",
       "4     536365     84029E       RED WOOLLY HOTTIE WHITE HEART.         6   \n",
       "\n",
       "  invoice_date  unit_price         country  customer_id  \n",
       "0   2016-11-29        2.55  United Kingdom        17850  \n",
       "1   2016-11-29        3.39  United Kingdom        17850  \n",
       "2   2016-11-29        2.75  United Kingdom        17850  \n",
       "3   2016-11-29        3.39  United Kingdom        17850  \n",
       "4   2016-11-29        3.39  United Kingdom        17850  "
      ]
     },
     "execution_count": 16,
     "metadata": {},
     "output_type": "execute_result"
    }
   ],
   "source": [
    "# invoice date\n",
    "df1['invoice_date'] = pd.to_datetime( df1['invoice_date'], format='%d-%b-%y' )\n",
    "\n",
    "# customer id\n",
    "df1['customer_id'] = df1['customer_id'].astype( int )\n",
    "df1.head()"
   ]
  },
  {
   "cell_type": "code",
   "execution_count": 17,
   "metadata": {
    "ExecuteTime": {
     "end_time": "2022-11-09T09:20:19.670272Z",
     "start_time": "2022-11-09T09:20:19.666398Z"
    },
    "hidden": true
   },
   "outputs": [
    {
     "data": {
      "text/plain": [
       "invoice_no              object\n",
       "stock_code              object\n",
       "description             object\n",
       "quantity                 int64\n",
       "invoice_date    datetime64[ns]\n",
       "unit_price             float64\n",
       "country                 object\n",
       "customer_id              int64\n",
       "dtype: object"
      ]
     },
     "execution_count": 17,
     "metadata": {},
     "output_type": "execute_result"
    }
   ],
   "source": [
    "df1.dtypes"
   ]
  },
  {
   "cell_type": "markdown",
   "metadata": {
    "hidden": true
   },
   "source": [
    "## 1.7. Descriptive Statistics"
   ]
  },
  {
   "cell_type": "code",
   "execution_count": 18,
   "metadata": {
    "ExecuteTime": {
     "end_time": "2022-11-09T09:20:19.679742Z",
     "start_time": "2022-11-09T09:20:19.671527Z"
    },
    "hidden": true
   },
   "outputs": [],
   "source": [
    "num_attributes = df1.select_dtypes( include=['int64', 'float64'] )\n",
    "cat_attributes = df1.select_dtypes( exclude=['int64', 'float64', 'datetime64[ns]'] )"
   ]
  },
  {
   "cell_type": "markdown",
   "metadata": {
    "hidden": true
   },
   "source": [
    "### 1.7.1. Numerical Attributs"
   ]
  },
  {
   "cell_type": "code",
   "execution_count": 19,
   "metadata": {
    "ExecuteTime": {
     "end_time": "2022-11-09T09:20:19.781049Z",
     "start_time": "2022-11-09T09:20:19.681360Z"
    },
    "hidden": true
   },
   "outputs": [
    {
     "data": {
      "text/html": [
       "<div>\n",
       "<style scoped>\n",
       "    .dataframe tbody tr th:only-of-type {\n",
       "        vertical-align: middle;\n",
       "    }\n",
       "\n",
       "    .dataframe tbody tr th {\n",
       "        vertical-align: top;\n",
       "    }\n",
       "\n",
       "    .dataframe thead th {\n",
       "        text-align: right;\n",
       "    }\n",
       "</style>\n",
       "<table border=\"1\" class=\"dataframe\">\n",
       "  <thead>\n",
       "    <tr style=\"text-align: right;\">\n",
       "      <th></th>\n",
       "      <th>attributes</th>\n",
       "      <th>min</th>\n",
       "      <th>max</th>\n",
       "      <th>range</th>\n",
       "      <th>mean</th>\n",
       "      <th>mediana</th>\n",
       "      <th>std</th>\n",
       "      <th>skew</th>\n",
       "      <th>kurtosis</th>\n",
       "    </tr>\n",
       "  </thead>\n",
       "  <tbody>\n",
       "    <tr>\n",
       "      <th>0</th>\n",
       "      <td>quantity</td>\n",
       "      <td>-80995.00</td>\n",
       "      <td>80995.0</td>\n",
       "      <td>161990.00</td>\n",
       "      <td>9.552250</td>\n",
       "      <td>3.00</td>\n",
       "      <td>218.080957</td>\n",
       "      <td>-0.264076</td>\n",
       "      <td>119769.160031</td>\n",
       "    </tr>\n",
       "    <tr>\n",
       "      <th>1</th>\n",
       "      <td>unit_price</td>\n",
       "      <td>-11062.06</td>\n",
       "      <td>38970.0</td>\n",
       "      <td>50032.06</td>\n",
       "      <td>4.611114</td>\n",
       "      <td>2.08</td>\n",
       "      <td>96.759764</td>\n",
       "      <td>186.506972</td>\n",
       "      <td>59005.719097</td>\n",
       "    </tr>\n",
       "    <tr>\n",
       "      <th>2</th>\n",
       "      <td>customer_id</td>\n",
       "      <td>12346.00</td>\n",
       "      <td>22709.0</td>\n",
       "      <td>10363.00</td>\n",
       "      <td>16688.840453</td>\n",
       "      <td>16249.00</td>\n",
       "      <td>2911.408666</td>\n",
       "      <td>0.487449</td>\n",
       "      <td>-0.804287</td>\n",
       "    </tr>\n",
       "  </tbody>\n",
       "</table>\n",
       "</div>"
      ],
      "text/plain": [
       "    attributes       min      max      range          mean   mediana  \\\n",
       "0     quantity -80995.00  80995.0  161990.00      9.552250      3.00   \n",
       "1   unit_price -11062.06  38970.0   50032.06      4.611114      2.08   \n",
       "2  customer_id  12346.00  22709.0   10363.00  16688.840453  16249.00   \n",
       "\n",
       "           std        skew       kurtosis  \n",
       "0   218.080957   -0.264076  119769.160031  \n",
       "1    96.759764  186.506972   59005.719097  \n",
       "2  2911.408666    0.487449      -0.804287  "
      ]
     },
     "execution_count": 19,
     "metadata": {},
     "output_type": "execute_result"
    }
   ],
   "source": [
    "# central tendency - mean, median\n",
    "ct1 = pd.DataFrame( num_attributes.apply( np.mean ) ).T\n",
    "ct2 = pd.DataFrame( num_attributes.apply( np.median ) ).T\n",
    "             \n",
    "# dispersion - desvio padrão, minimo, maximo, range, skew, kurtosis\n",
    "d1 = pd.DataFrame( num_attributes.apply( np.std ) ).T\n",
    "d2 = pd.DataFrame( num_attributes.apply( np.min ) ).T\n",
    "d3 = pd.DataFrame( num_attributes.apply( np.max ) ).T\n",
    "d4 = pd.DataFrame( num_attributes.apply( lambda x: x.max() - x.min() ) ).T\n",
    "d5 = pd.DataFrame( num_attributes.apply( lambda x: x.skew() ) ).T\n",
    "d6 = pd.DataFrame( num_attributes.apply( lambda x: x.kurtosis() ) ).T\n",
    "\n",
    "# concatenate\n",
    "m1 = pd.concat( [d2, d3, d4, ct1, ct2, d1, d5, d6] ).T.reset_index()\n",
    "m1.columns = ['attributes', 'min', 'max', 'range', 'mean', 'mediana', 'std', 'skew', 'kurtosis']\n",
    "m1"
   ]
  },
  {
   "cell_type": "markdown",
   "metadata": {
    "hidden": true
   },
   "source": [
    "### 1.7.2. Categorical Attributs"
   ]
  },
  {
   "cell_type": "markdown",
   "metadata": {
    "hidden": true
   },
   "source": [
    "#### Invoice No"
   ]
  },
  {
   "cell_type": "code",
   "execution_count": 20,
   "metadata": {
    "ExecuteTime": {
     "end_time": "2022-11-09T09:20:20.131914Z",
     "start_time": "2022-11-09T09:20:19.783110Z"
    },
    "hidden": true
   },
   "outputs": [
    {
     "name": "stdout",
     "output_type": "stream",
     "text": [
      "Total number of invoices: 9291\n",
      "Total number of negative quantity: 9288\n"
     ]
    }
   ],
   "source": [
    "# problema: Temos invoice com letras e numeros\n",
    "#df1['invoice_no'].astype( int )\n",
    "\n",
    "# identficacao: \n",
    "df_letter_invoices = df1.loc[df1['invoice_no'].apply( lambda x: bool( re.search( '[^0-9]+', x ) ) ), :]\n",
    "df_letter_invoices.head()\n",
    "\n",
    "print( 'Total number of invoices: {}'.format( len( df_letter_invoices ) ) )\n",
    "print( 'Total number of negative quantity: {}'.format( len( df_letter_invoices[ df_letter_invoices['quantity'] < 0 ] ) ) )"
   ]
  },
  {
   "cell_type": "markdown",
   "metadata": {
    "hidden": true
   },
   "source": [
    "#### Stock Code"
   ]
  },
  {
   "cell_type": "code",
   "execution_count": 21,
   "metadata": {
    "ExecuteTime": {
     "end_time": "2022-11-09T09:20:20.461585Z",
     "start_time": "2022-11-09T09:20:20.133167Z"
    },
    "hidden": true
   },
   "outputs": [
    {
     "data": {
      "text/plain": [
       "array(['POST', 'D', 'DOT', 'M', 'S', 'AMAZONFEE', 'm', 'DCGSSBOY',\n",
       "       'DCGSSGIRL', 'PADS', 'B', 'CRUK'], dtype=object)"
      ]
     },
     "execution_count": 21,
     "metadata": {},
     "output_type": "execute_result"
    }
   ],
   "source": [
    "# check stock codes only characters\n",
    "df1.loc[df1['stock_code'].apply( lambda x: bool( re.search( '^[a-zA-Z]+$', x ) ) ), 'stock_code'].unique()\n",
    "\n",
    "# Acão:\n",
    "## 1. Remove stock_code in ['POST', 'D', 'M', 'PADS', 'DOT', 'CRUK']"
   ]
  },
  {
   "cell_type": "markdown",
   "metadata": {
    "heading_collapsed": true
   },
   "source": [
    "# <font color='red'> 2.0. Filtragem de Variáveis </font>"
   ]
  },
  {
   "cell_type": "code",
   "execution_count": 22,
   "metadata": {
    "ExecuteTime": {
     "end_time": "2022-11-09T09:20:20.485487Z",
     "start_time": "2022-11-09T09:20:20.462964Z"
    },
    "hidden": true
   },
   "outputs": [],
   "source": [
    "df2 = df1.copy()"
   ]
  },
  {
   "cell_type": "code",
   "execution_count": 23,
   "metadata": {
    "ExecuteTime": {
     "end_time": "2022-11-09T09:20:20.491140Z",
     "start_time": "2022-11-09T09:20:20.486669Z"
    },
    "hidden": true
   },
   "outputs": [
    {
     "data": {
      "text/plain": [
       "invoice_no              object\n",
       "stock_code              object\n",
       "description             object\n",
       "quantity                 int64\n",
       "invoice_date    datetime64[ns]\n",
       "unit_price             float64\n",
       "country                 object\n",
       "customer_id              int64\n",
       "dtype: object"
      ]
     },
     "execution_count": 23,
     "metadata": {},
     "output_type": "execute_result"
    }
   ],
   "source": [
    "df2.dtypes"
   ]
  },
  {
   "cell_type": "code",
   "execution_count": 24,
   "metadata": {
    "ExecuteTime": {
     "end_time": "2022-11-09T09:20:20.731554Z",
     "start_time": "2022-11-09T09:20:20.492423Z"
    },
    "hidden": true
   },
   "outputs": [],
   "source": [
    "# === Numerical attributes ====\n",
    "df2 = df2.loc[df2['unit_price'] >= 0.04, :]\n",
    "\n",
    "# === Categorical attributes ====\n",
    "df2 = df2[~df2['stock_code'].isin( ['POST', 'D', 'DOT', 'M', 'S', 'AMAZONFEE', 'm', 'DCGSSBOY', 'DCGSSGIRL', 'PADS', 'B', 'CRUK'] ) ]\n",
    "\n",
    "# description\n",
    "df2 = df2.drop( columns='description', axis=1 )\n",
    "\n",
    "# map -  \n",
    "df2 = df2[~df2['country'].isin( ['European Community', 'Unspecified' ] ) ]\n",
    "\n",
    "# bad users\n",
    "df2 = df2[~df2['customer_id'].isin( [16446] )]\n",
    "\n",
    "# quantity\n",
    "df2_returns = df2.loc[df1['quantity'] < 0, :]\n",
    "df2_purchases = df2.loc[df1['quantity'] >= 0, :]"
   ]
  },
  {
   "cell_type": "markdown",
   "metadata": {
    "heading_collapsed": true
   },
   "source": [
    "# <font color='red'> 3.0. Feature Engineering </font>"
   ]
  },
  {
   "cell_type": "code",
   "execution_count": 25,
   "metadata": {
    "ExecuteTime": {
     "end_time": "2022-11-09T09:20:20.791351Z",
     "start_time": "2022-11-09T09:20:20.733157Z"
    },
    "hidden": true
   },
   "outputs": [],
   "source": [
    "df3 = df2.copy()"
   ]
  },
  {
   "cell_type": "markdown",
   "metadata": {
    "hidden": true
   },
   "source": [
    "## 3.1. Feature Creation"
   ]
  },
  {
   "cell_type": "code",
   "execution_count": 26,
   "metadata": {
    "ExecuteTime": {
     "end_time": "2022-11-09T09:20:20.841179Z",
     "start_time": "2022-11-09T09:20:20.792999Z"
    },
    "hidden": true
   },
   "outputs": [],
   "source": [
    "# data reference\n",
    "df_ref = df3.drop( ['invoice_no', 'stock_code', 'quantity', 'invoice_date', 'unit_price', 'country'], axis=1 ).drop_duplicates( ignore_index=True )"
   ]
  },
  {
   "cell_type": "code",
   "execution_count": 27,
   "metadata": {
    "ExecuteTime": {
     "end_time": "2022-11-09T09:20:20.848936Z",
     "start_time": "2022-11-09T09:20:20.842601Z"
    },
    "hidden": true
   },
   "outputs": [
    {
     "data": {
      "text/plain": [
       "(5786, 1)"
      ]
     },
     "execution_count": 27,
     "metadata": {},
     "output_type": "execute_result"
    }
   ],
   "source": [
    "df_ref.shape"
   ]
  },
  {
   "cell_type": "code",
   "execution_count": 28,
   "metadata": {
    "ExecuteTime": {
     "end_time": "2022-11-09T09:20:20.856048Z",
     "start_time": "2022-11-09T09:20:20.850789Z"
    },
    "hidden": true
   },
   "outputs": [
    {
     "data": {
      "text/plain": [
       "customer_id    0\n",
       "dtype: int64"
      ]
     },
     "execution_count": 28,
     "metadata": {},
     "output_type": "execute_result"
    }
   ],
   "source": [
    "df_ref.isna().sum()"
   ]
  },
  {
   "cell_type": "markdown",
   "metadata": {
    "hidden": true
   },
   "source": [
    "### 3.1.1. Gross Revenue"
   ]
  },
  {
   "cell_type": "code",
   "execution_count": 29,
   "metadata": {
    "ExecuteTime": {
     "end_time": "2022-11-09T09:20:21.266104Z",
     "start_time": "2022-11-09T09:20:20.857206Z"
    },
    "hidden": true
   },
   "outputs": [
    {
     "name": "stderr",
     "output_type": "stream",
     "text": [
      "/tmp/ipykernel_6284/206990356.py:2: SettingWithCopyWarning: \n",
      "A value is trying to be set on a copy of a slice from a DataFrame.\n",
      "Try using .loc[row_indexer,col_indexer] = value instead\n",
      "\n",
      "See the caveats in the documentation: https://pandas.pydata.org/pandas-docs/stable/user_guide/indexing.html#returning-a-view-versus-a-copy\n",
      "  df2_purchases.loc[:, 'gross_revenue'] = df2_purchases.loc[:, 'quantity'] * df2_purchases.loc[:, 'unit_price']\n"
     ]
    },
    {
     "data": {
      "text/plain": [
       "customer_id       0\n",
       "gross_revenue    91\n",
       "dtype: int64"
      ]
     },
     "execution_count": 29,
     "metadata": {},
     "output_type": "execute_result"
    }
   ],
   "source": [
    "# Gross Revenue ( Faturamento ) quantity * price\n",
    "df2_purchases.loc[:, 'gross_revenue'] = df2_purchases.loc[:, 'quantity'] * df2_purchases.loc[:, 'unit_price']\n",
    "\n",
    "# Monetary\n",
    "df_monetary = df2_purchases.loc[:, ['customer_id', 'gross_revenue']].groupby( 'customer_id' ).sum().reset_index()\n",
    "df_ref = pd.merge( df_ref, df_monetary, on='customer_id', how='left' )\n",
    "df_ref.isna().sum()"
   ]
  },
  {
   "cell_type": "markdown",
   "metadata": {
    "hidden": true
   },
   "source": [
    "### 3.1.2. Recency - Day from last purchase"
   ]
  },
  {
   "cell_type": "code",
   "execution_count": 30,
   "metadata": {
    "ExecuteTime": {
     "end_time": "2022-11-09T09:20:21.289158Z",
     "start_time": "2022-11-09T09:20:21.267919Z"
    },
    "hidden": true
   },
   "outputs": [
    {
     "data": {
      "text/plain": [
       "customer_id       0\n",
       "gross_revenue    91\n",
       "recency_days     91\n",
       "dtype: int64"
      ]
     },
     "execution_count": 30,
     "metadata": {},
     "output_type": "execute_result"
    }
   ],
   "source": [
    "# Recency - Last day purchase\n",
    "df_recency = df2_purchases.loc[:, ['customer_id', 'invoice_date']].groupby( 'customer_id' ).max().reset_index()\n",
    "df_recency['recency_days'] = ( df2['invoice_date'].max() - df_recency['invoice_date'] ).dt.days\n",
    "df_recency = df_recency[['customer_id', 'recency_days']].copy()\n",
    "df_ref = pd.merge( df_ref, df_recency, on='customer_id', how='left' )\n",
    "df_ref.isna().sum()"
   ]
  },
  {
   "cell_type": "markdown",
   "metadata": {
    "hidden": true
   },
   "source": [
    "### 3.1.5. Quantity of products purchased "
   ]
  },
  {
   "cell_type": "code",
   "execution_count": 31,
   "metadata": {
    "ExecuteTime": {
     "end_time": "2022-11-09T09:20:21.353657Z",
     "start_time": "2022-11-09T09:20:21.290247Z"
    },
    "hidden": true
   },
   "outputs": [
    {
     "data": {
      "text/plain": [
       "customer_id       0\n",
       "gross_revenue    91\n",
       "recency_days     91\n",
       "qtde_products    91\n",
       "dtype: int64"
      ]
     },
     "execution_count": 31,
     "metadata": {},
     "output_type": "execute_result"
    }
   ],
   "source": [
    "# Numero de produtos\n",
    "df_freq = (df2_purchases.loc[:, ['customer_id', 'stock_code']].groupby( 'customer_id' ).count()\n",
    "                                                           .reset_index()\n",
    "                                                           .rename( columns={'stock_code': 'qtde_products'} ) )\n",
    "df_ref = pd.merge( df_ref, df_freq, on='customer_id', how='left' )\n",
    "df_ref.isna().sum()"
   ]
  },
  {
   "cell_type": "markdown",
   "metadata": {
    "hidden": true
   },
   "source": [
    "### 3.1.8. Frequency Purchase "
   ]
  },
  {
   "cell_type": "code",
   "execution_count": 32,
   "metadata": {
    "ExecuteTime": {
     "end_time": "2022-11-09T09:20:22.333360Z",
     "start_time": "2022-11-09T09:20:21.354848Z"
    },
    "hidden": true
   },
   "outputs": [
    {
     "data": {
      "text/plain": [
       "customer_id       0\n",
       "gross_revenue    91\n",
       "recency_days     91\n",
       "qtde_products    91\n",
       "frequency        91\n",
       "dtype: int64"
      ]
     },
     "execution_count": 32,
     "metadata": {},
     "output_type": "execute_result"
    }
   ],
   "source": [
    "df_aux = ( df2_purchases[['customer_id', 'invoice_no', 'invoice_date']].drop_duplicates()\n",
    "                                                             .groupby( 'customer_id')\n",
    "                                                             .agg( max_ = ( 'invoice_date', 'max' ), \n",
    "                                                                   min_ = ( 'invoice_date', 'min' ),\n",
    "                                                                   days_= ( 'invoice_date', lambda x: ( ( x.max() - x.min() ).days ) + 1 ),\n",
    "                                                                   buy_ = ( 'invoice_no', 'count' ) ) ).reset_index()\n",
    "# Frequency\n",
    "df_aux['frequency'] = df_aux[['buy_', 'days_']].apply( lambda x: x['buy_'] / x['days_'] if  x['days_'] != 0 else 0, axis=1 )\n",
    "\n",
    "# Merge\n",
    "df_ref = pd.merge( df_ref, df_aux[['customer_id', 'frequency']], on='customer_id', how='left' )\n",
    "\n",
    "df_ref.isna().sum()"
   ]
  },
  {
   "cell_type": "markdown",
   "metadata": {
    "hidden": true
   },
   "source": [
    "### 3.1.9. Number of Returns "
   ]
  },
  {
   "cell_type": "code",
   "execution_count": 33,
   "metadata": {
    "ExecuteTime": {
     "end_time": "2022-11-09T09:20:22.350501Z",
     "start_time": "2022-11-09T09:20:22.335633Z"
    },
    "hidden": true
   },
   "outputs": [
    {
     "data": {
      "text/plain": [
       "customer_id       0\n",
       "gross_revenue    91\n",
       "recency_days     91\n",
       "qtde_products    91\n",
       "frequency        91\n",
       "qtde_returns      0\n",
       "dtype: int64"
      ]
     },
     "execution_count": 33,
     "metadata": {},
     "output_type": "execute_result"
    }
   ],
   "source": [
    "# Number of Returns\n",
    "df_returns = df2_returns[['customer_id', 'quantity']].groupby( 'customer_id' ).sum().reset_index().rename( columns={'quantity':'qtde_returns'} )\n",
    "df_returns['qtde_returns'] = df_returns['qtde_returns'] * -1\n",
    "\n",
    "df_ref = pd.merge( df_ref, df_returns, how='left', on='customer_id' )\n",
    "df_ref.loc[df_ref['qtde_returns'].isna(), 'qtde_returns'] = 0\n",
    "\n",
    "df_ref.isna().sum()"
   ]
  },
  {
   "cell_type": "markdown",
   "metadata": {
    "heading_collapsed": true
   },
   "source": [
    "# <font color='red'> 4.0. EDA ( Exploratory Data Analysis ) </font>"
   ]
  },
  {
   "cell_type": "code",
   "execution_count": 34,
   "metadata": {
    "ExecuteTime": {
     "end_time": "2022-11-09T09:20:22.358155Z",
     "start_time": "2022-11-09T09:20:22.352041Z"
    },
    "hidden": true
   },
   "outputs": [
    {
     "data": {
      "text/plain": [
       "customer_id      0\n",
       "gross_revenue    0\n",
       "recency_days     0\n",
       "qtde_products    0\n",
       "frequency        0\n",
       "qtde_returns     0\n",
       "dtype: int64"
      ]
     },
     "execution_count": 34,
     "metadata": {},
     "output_type": "execute_result"
    }
   ],
   "source": [
    "df4 = df_ref.dropna()\n",
    "df4.isna().sum()"
   ]
  },
  {
   "cell_type": "markdown",
   "metadata": {
    "hidden": true
   },
   "source": [
    "## 4.3. Estudo do Espaço"
   ]
  },
  {
   "cell_type": "code",
   "execution_count": 35,
   "metadata": {
    "ExecuteTime": {
     "end_time": "2022-11-09T09:20:22.363741Z",
     "start_time": "2022-11-09T09:20:22.359524Z"
    },
    "hidden": true
   },
   "outputs": [],
   "source": [
    "# selected dataset - (erro nos notebooks anteriores)\n",
    "cols_selected = ['customer_id', 'gross_revenue', 'recency_days', 'qtde_products', 'frequency', 'qtde_returns']\n",
    "df43 = df4[ cols_selected ].drop( columns='customer_id', axis=1 )"
   ]
  },
  {
   "cell_type": "code",
   "execution_count": 36,
   "metadata": {
    "ExecuteTime": {
     "end_time": "2022-11-09T09:20:22.386083Z",
     "start_time": "2022-11-09T09:20:22.367796Z"
    },
    "hidden": true
   },
   "outputs": [],
   "source": [
    "mm = pp.MinMaxScaler()\n",
    "\n",
    "df43['gross_revenue'] = mm.fit_transform( df43[['gross_revenue']] )\n",
    "df43['recency_days']  = mm.fit_transform( df43[['recency_days']] )\n",
    "df43['qtde_products'] = mm.fit_transform( df43[['qtde_products']])\n",
    "df43['frequency']     = mm.fit_transform( df43[['frequency']])\n",
    "df43['qtde_returns']  = mm.fit_transform( df43[['qtde_returns']])\n",
    "\n",
    "X = df43.copy()"
   ]
  },
  {
   "cell_type": "code",
   "execution_count": 37,
   "metadata": {
    "ExecuteTime": {
     "end_time": "2022-11-09T09:20:22.391338Z",
     "start_time": "2022-11-09T09:20:22.387729Z"
    },
    "hidden": true
   },
   "outputs": [
    {
     "data": {
      "text/plain": [
       "(5695, 5)"
      ]
     },
     "execution_count": 37,
     "metadata": {},
     "output_type": "execute_result"
    }
   ],
   "source": [
    "X.shape"
   ]
  },
  {
   "cell_type": "markdown",
   "metadata": {
    "hidden": true
   },
   "source": [
    "### 4.3.1. PCA"
   ]
  },
  {
   "cell_type": "code",
   "execution_count": 38,
   "metadata": {
    "ExecuteTime": {
     "end_time": "2022-11-09T09:20:22.827376Z",
     "start_time": "2022-11-09T09:20:22.395003Z"
    },
    "hidden": true
   },
   "outputs": [
    {
     "data": {
      "image/png": "[encoded data removed]",
      "text/plain": [
       "<Figure size 432x288 with 1 Axes>"
      ]
     },
     "metadata": {
      "needs_background": "light"
     },
     "output_type": "display_data"
    }
   ],
   "source": [
    "pca = dd.PCA( n_components=X.shape[1] )\n",
    "\n",
    "principal_components = pca.fit_transform( X )\n",
    "\n",
    "# plot explained variable\n",
    "features = range( pca.n_components_ )\n",
    "\n",
    "plt.bar( features, pca.explained_variance_ratio_, color='black' )\n",
    "\n",
    "# pca component\n",
    "df_pca = pd.DataFrame( principal_components )"
   ]
  },
  {
   "cell_type": "code",
   "execution_count": 39,
   "metadata": {
    "ExecuteTime": {
     "end_time": "2022-11-09T09:20:23.014323Z",
     "start_time": "2022-11-09T09:20:22.833197Z"
    },
    "hidden": true
   },
   "outputs": [
    {
     "data": {
      "text/plain": [
       "<AxesSubplot:xlabel='0', ylabel='1'>"
      ]
     },
     "execution_count": 39,
     "metadata": {},
     "output_type": "execute_result"
    },
    {
     "data": {
      "image/png": "[encoded data removed]",
      "text/plain": [
       "<Figure size 432x288 with 1 Axes>"
      ]
     },
     "metadata": {
      "needs_background": "light"
     },
     "output_type": "display_data"
    }
   ],
   "source": [
    "sns.scatterplot( x=0, y=1, data=df_pca )"
   ]
  },
  {
   "cell_type": "markdown",
   "metadata": {
    "hidden": true
   },
   "source": [
    "### 4.3.2. UMAP"
   ]
  },
  {
   "cell_type": "code",
   "execution_count": 40,
   "metadata": {
    "ExecuteTime": {
     "end_time": "2022-11-09T09:20:39.259706Z",
     "start_time": "2022-11-09T09:20:23.015914Z"
    },
    "hidden": true
   },
   "outputs": [
    {
     "data": {
      "text/plain": [
       "<AxesSubplot:xlabel='embedding_x', ylabel='embedding_y'>"
      ]
     },
     "execution_count": 40,
     "metadata": {},
     "output_type": "execute_result"
    },
    {
     "data": {
      "image/png": "[encoded data removed]",
      "text/plain": [
       "<Figure size 432x288 with 1 Axes>"
      ]
     },
     "metadata": {
      "needs_background": "light"
     },
     "output_type": "display_data"
    }
   ],
   "source": [
    "reducer = umap.UMAP( random_state=42 )\n",
    "embedding = reducer.fit_transform( X )\n",
    "\n",
    "# embedding\n",
    "df_umap = pd.DataFrame()\n",
    "df_umap['embedding_x'] = embedding[:, 0]\n",
    "df_umap['embedding_y'] = embedding[:, 1]\n",
    "\n",
    "# plot UMAP\n",
    "sns.scatterplot( x='embedding_x', \n",
    "                 y='embedding_y', \n",
    "                 data=df_umap )"
   ]
  },
  {
   "cell_type": "markdown",
   "metadata": {
    "hidden": true
   },
   "source": [
    "### 4.3.3. t-SNE"
   ]
  },
  {
   "cell_type": "code",
   "execution_count": 41,
   "metadata": {
    "ExecuteTime": {
     "end_time": "2022-11-09T09:21:05.712047Z",
     "start_time": "2022-11-09T09:20:39.260972Z"
    },
    "hidden": true
   },
   "outputs": [
    {
     "name": "stderr",
     "output_type": "stream",
     "text": [
      "/home/alessandra/.local/lib/python3.8/site-packages/sklearn/manifold/_t_sne.py:800: FutureWarning: The default initialization in TSNE will change from 'random' to 'pca' in 1.2.\n",
      "  warnings.warn(\n",
      "/home/alessandra/.local/lib/python3.8/site-packages/sklearn/manifold/_t_sne.py:810: FutureWarning: The default learning rate in TSNE will change from 200.0 to 'auto' in 1.2.\n",
      "  warnings.warn(\n"
     ]
    },
    {
     "data": {
      "text/plain": [
       "<AxesSubplot:xlabel='embedding_x', ylabel='embedding_y'>"
      ]
     },
     "execution_count": 41,
     "metadata": {},
     "output_type": "execute_result"
    },
    {
     "data": {
      "image/png": "[encoded data removed]",
      "text/plain": [
       "<Figure size 432x288 with 1 Axes>"
      ]
     },
     "metadata": {
      "needs_background": "light"
     },
     "output_type": "display_data"
    }
   ],
   "source": [
    "reducer = mn.TSNE( n_components=2, n_jobs=-1, random_state=42 )\n",
    "embedding = reducer.fit_transform( X )\n",
    "\n",
    "# embedding\n",
    "df_tsne = pd.DataFrame()\n",
    "df_tsne['embedding_x'] = embedding[:, 0]\n",
    "df_tsne['embedding_y'] = embedding[:, 1]\n",
    "\n",
    "# plot UMAP\n",
    "sns.scatterplot( x='embedding_x', \n",
    "                 y='embedding_y', \n",
    "                 data=df_tsne )"
   ]
  },
  {
   "cell_type": "markdown",
   "metadata": {
    "hidden": true
   },
   "source": [
    "### 4.3.4. Tree-Based Embedding"
   ]
  },
  {
   "cell_type": "code",
   "execution_count": 42,
   "metadata": {
    "ExecuteTime": {
     "end_time": "2022-11-09T09:21:05.716211Z",
     "start_time": "2022-11-09T09:21:05.713479Z"
    },
    "hidden": true
   },
   "outputs": [],
   "source": [
    "#model = load_picke( 'rf_model.pkl' )\n",
    "#\n",
    "#X1 # 20 new users\n",
    "#\n",
    "#df_leaf = model.apply( X1 )\n",
    "#\n",
    "#KMeans ->"
   ]
  },
  {
   "cell_type": "code",
   "execution_count": 43,
   "metadata": {
    "ExecuteTime": {
     "end_time": "2022-11-09T09:21:06.832693Z",
     "start_time": "2022-11-09T09:21:05.717710Z"
    },
    "hidden": true
   },
   "outputs": [],
   "source": [
    "# training dataset\n",
    "X = df43.drop( columns=['gross_revenue'], axis=1 )\n",
    "y = df43['gross_revenue']\n",
    "\n",
    "# model definition\n",
    "rf_model = en.RandomForestRegressor( n_estimators=100, random_state=42 )\n",
    "\n",
    "# model training\n",
    "rf_model.fit( X, y )\n",
    "\n",
    "# Leaf \n",
    "df_leaf = pd.DataFrame( rf_model.apply( X ) )"
   ]
  },
  {
   "cell_type": "code",
   "execution_count": 44,
   "metadata": {
    "ExecuteTime": {
     "end_time": "2022-11-09T09:21:15.654392Z",
     "start_time": "2022-11-09T09:21:06.834152Z"
    },
    "hidden": true
   },
   "outputs": [
    {
     "name": "stderr",
     "output_type": "stream",
     "text": [
      "/home/alessandra/.local/lib/python3.8/site-packages/sklearn/manifold/_spectral_embedding.py:259: UserWarning: Graph is not fully connected, spectral embedding may not work as expected.\n",
      "  warnings.warn(\n"
     ]
    },
    {
     "data": {
      "text/plain": [
       "<AxesSubplot:xlabel='embedding_x', ylabel='embedding_y'>"
      ]
     },
     "execution_count": 44,
     "metadata": {},
     "output_type": "execute_result"
    },
    {
     "data": {
      "image/png": "[encoded data removed]",
      "text/plain": [
       "<Figure size 432x288 with 1 Axes>"
      ]
     },
     "metadata": {
      "needs_background": "light"
     },
     "output_type": "display_data"
    }
   ],
   "source": [
    "# Reduzer dimensionality\n",
    "reducer = umap.UMAP( random_state=42 )\n",
    "embedding = reducer.fit_transform( df_leaf )\n",
    "\n",
    "# embedding\n",
    "df_tree = pd.DataFrame()\n",
    "df_tree['embedding_x'] = embedding[:, 0]\n",
    "df_tree['embedding_y'] = embedding[:, 1]\n",
    "\n",
    "# plot UMAP\n",
    "sns.scatterplot( x='embedding_x', \n",
    "                 y='embedding_y', \n",
    "                 data=df_tree )"
   ]
  },
  {
   "cell_type": "markdown",
   "metadata": {
    "heading_collapsed": true
   },
   "source": [
    "# <font color='red'> 5.0. Data Preparation </font>"
   ]
  },
  {
   "cell_type": "code",
   "execution_count": 45,
   "metadata": {
    "ExecuteTime": {
     "end_time": "2022-11-09T09:21:15.658760Z",
     "start_time": "2022-11-09T09:21:15.655682Z"
    },
    "hidden": true
   },
   "outputs": [],
   "source": [
    "# Tree-Based Embedding\n",
    "df5 = df_tree.copy()\n",
    "\n",
    "# UMAP Embedding\n",
    "#df5 = df_umap.copy()\n",
    "\n",
    "# TSNE Embedding\n",
    "#df5 = df_tsne.copy()"
   ]
  },
  {
   "cell_type": "markdown",
   "metadata": {},
   "source": [
    "# <font color='red'> 6.0. Hyperparameter Fine-Tunning </font>"
   ]
  },
  {
   "cell_type": "code",
   "execution_count": 46,
   "metadata": {
    "ExecuteTime": {
     "end_time": "2022-11-09T09:21:15.665379Z",
     "start_time": "2022-11-09T09:21:15.660873Z"
    }
   },
   "outputs": [],
   "source": [
    "X = df5.copy()"
   ]
  },
  {
   "cell_type": "code",
   "execution_count": 47,
   "metadata": {
    "ExecuteTime": {
     "end_time": "2022-11-09T09:21:15.673793Z",
     "start_time": "2022-11-09T09:21:15.667014Z"
    }
   },
   "outputs": [
    {
     "data": {
      "text/html": [
       "<div>\n",
       "<style scoped>\n",
       "    .dataframe tbody tr th:only-of-type {\n",
       "        vertical-align: middle;\n",
       "    }\n",
       "\n",
       "    .dataframe tbody tr th {\n",
       "        vertical-align: top;\n",
       "    }\n",
       "\n",
       "    .dataframe thead th {\n",
       "        text-align: right;\n",
       "    }\n",
       "</style>\n",
       "<table border=\"1\" class=\"dataframe\">\n",
       "  <thead>\n",
       "    <tr style=\"text-align: right;\">\n",
       "      <th></th>\n",
       "      <th>embedding_x</th>\n",
       "      <th>embedding_y</th>\n",
       "    </tr>\n",
       "  </thead>\n",
       "  <tbody>\n",
       "    <tr>\n",
       "      <th>0</th>\n",
       "      <td>6.819894</td>\n",
       "      <td>10.761315</td>\n",
       "    </tr>\n",
       "    <tr>\n",
       "      <th>1</th>\n",
       "      <td>9.448581</td>\n",
       "      <td>10.409567</td>\n",
       "    </tr>\n",
       "    <tr>\n",
       "      <th>2</th>\n",
       "      <td>7.312553</td>\n",
       "      <td>10.850374</td>\n",
       "    </tr>\n",
       "    <tr>\n",
       "      <th>3</th>\n",
       "      <td>-5.685145</td>\n",
       "      <td>13.113491</td>\n",
       "    </tr>\n",
       "    <tr>\n",
       "      <th>4</th>\n",
       "      <td>1.157776</td>\n",
       "      <td>-19.696766</td>\n",
       "    </tr>\n",
       "  </tbody>\n",
       "</table>\n",
       "</div>"
      ],
      "text/plain": [
       "   embedding_x  embedding_y\n",
       "0     6.819894    10.761315\n",
       "1     9.448581    10.409567\n",
       "2     7.312553    10.850374\n",
       "3    -5.685145    13.113491\n",
       "4     1.157776   -19.696766"
      ]
     },
     "execution_count": 47,
     "metadata": {},
     "output_type": "execute_result"
    }
   ],
   "source": [
    "X.head()"
   ]
  },
  {
   "cell_type": "code",
   "execution_count": 48,
   "metadata": {
    "ExecuteTime": {
     "end_time": "2022-11-09T09:21:15.681361Z",
     "start_time": "2022-11-09T09:21:15.675376Z"
    }
   },
   "outputs": [
    {
     "data": {
      "text/plain": [
       "array([ 2,  3,  4,  5,  6,  7,  8,  9, 10, 11, 12, 13, 14, 15, 16, 17, 18,\n",
       "       19, 20, 21, 22, 23, 24])"
      ]
     },
     "execution_count": 48,
     "metadata": {},
     "output_type": "execute_result"
    }
   ],
   "source": [
    "#clusters = [2, 3, 4, 5, 6, 7, 8, 9]\n",
    "clusters = np.arange( 2, 25, 1)\n",
    "clusters"
   ]
  },
  {
   "cell_type": "markdown",
   "metadata": {},
   "source": [
    "## 6.1. K-Means"
   ]
  },
  {
   "cell_type": "code",
   "execution_count": 49,
   "metadata": {
    "ExecuteTime": {
     "end_time": "2022-11-09T09:21:49.877222Z",
     "start_time": "2022-11-09T09:21:15.683183Z"
    }
   },
   "outputs": [],
   "source": [
    "kmeans_list = []\n",
    "for k in clusters:\n",
    "    # model definition\n",
    "    kmeans_model = c.KMeans( n_clusters=k, n_init=100, random_state=42 )\n",
    "\n",
    "    # model training\n",
    "    kmeans_model.fit( X )\n",
    "\n",
    "    # model predict\n",
    "    labels = kmeans_model.predict( X )\n",
    "\n",
    "    # model performance\n",
    "    sil = m.silhouette_score( X, labels, metric='euclidean' )\n",
    "    kmeans_list.append( sil )"
   ]
  },
  {
   "cell_type": "code",
   "execution_count": 50,
   "metadata": {
    "ExecuteTime": {
     "end_time": "2022-11-09T09:21:50.018144Z",
     "start_time": "2022-11-09T09:21:49.878773Z"
    }
   },
   "outputs": [
    {
     "data": {
      "image/png": "[encoded data removed]",
      "text/plain": [
       "<Figure size 432x288 with 1 Axes>"
      ]
     },
     "metadata": {
      "needs_background": "light"
     },
     "output_type": "display_data"
    }
   ],
   "source": [
    "plt.plot( clusters, kmeans_list, linestyle='--', marker='o', color='b' )\n",
    "plt.xlabel( 'K' );\n",
    "plt.ylabel( 'Silhouette Score' );\n",
    "plt.title( 'Silhouette Score x K' );"
   ]
  },
  {
   "cell_type": "markdown",
   "metadata": {},
   "source": [
    "## 6.2. GMM"
   ]
  },
  {
   "cell_type": "code",
   "execution_count": 51,
   "metadata": {
    "ExecuteTime": {
     "end_time": "2022-11-09T09:28:08.557057Z",
     "start_time": "2022-11-09T09:21:50.019862Z"
    }
   },
   "outputs": [],
   "source": [
    "gmm_list = []\n",
    "for k in clusters:\n",
    "    # model definition\n",
    "    gmm_model = mx.GaussianMixture( n_components=k, n_init=100, random_state=42 )\n",
    "\n",
    "    # model training\n",
    "    gmm_model.fit( X )\n",
    "\n",
    "    # model predict\n",
    "    labels = gmm_model.predict( X )\n",
    "\n",
    "    # model performance\n",
    "    sil = m.silhouette_score( X, labels, metric='euclidean' )\n",
    "    gmm_list.append( sil )"
   ]
  },
  {
   "cell_type": "code",
   "execution_count": 52,
   "metadata": {
    "ExecuteTime": {
     "end_time": "2022-11-09T09:28:08.638063Z",
     "start_time": "2022-11-09T09:28:08.558354Z"
    }
   },
   "outputs": [
    {
     "data": {
      "image/png": "[encoded data removed]",
      "text/plain": [
       "<Figure size 432x288 with 1 Axes>"
      ]
     },
     "metadata": {
      "needs_background": "light"
     },
     "output_type": "display_data"
    }
   ],
   "source": [
    "plt.plot( clusters, gmm_list, linestyle='--', marker='o', color='b' )\n",
    "plt.xlabel( 'k');\n",
    "plt.ylabel( 'Silhouette Score');\n",
    "plt.title( 'Sil x K');"
   ]
  },
  {
   "cell_type": "markdown",
   "metadata": {},
   "source": [
    "## 6.3. Hierarchical Clustering"
   ]
  },
  {
   "cell_type": "code",
   "execution_count": 53,
   "metadata": {
    "ExecuteTime": {
     "end_time": "2022-11-09T09:28:09.328101Z",
     "start_time": "2022-11-09T09:28:08.639322Z"
    }
   },
   "outputs": [],
   "source": [
    "# model definition and training\n",
    "hc_model = hc.linkage( X, 'ward' )"
   ]
  },
  {
   "cell_type": "markdown",
   "metadata": {},
   "source": [
    "### 6.3.1. HClustering Silhouette Score"
   ]
  },
  {
   "cell_type": "code",
   "execution_count": 54,
   "metadata": {
    "ExecuteTime": {
     "end_time": "2022-11-09T09:28:35.207884Z",
     "start_time": "2022-11-09T09:28:09.329694Z"
    }
   },
   "outputs": [],
   "source": [
    "hc_list = []\n",
    "for k in clusters:\n",
    "    # model definition & training\n",
    "    hc_model = hc.linkage( X, 'ward' )\n",
    "\n",
    "    # model predict\n",
    "    labels = hc.fcluster( hc_model, k, criterion='maxclust' )\n",
    "\n",
    "    # metrics\n",
    "    sil = m.silhouette_score( X, labels, metric='euclidean' )\n",
    "    hc_list.append( sil )"
   ]
  },
  {
   "cell_type": "code",
   "execution_count": 55,
   "metadata": {
    "ExecuteTime": {
     "end_time": "2022-11-09T09:28:35.308660Z",
     "start_time": "2022-11-09T09:28:35.209371Z"
    }
   },
   "outputs": [
    {
     "data": {
      "text/plain": [
       "[<matplotlib.lines.Line2D at 0x7f6d29e93b50>]"
      ]
     },
     "execution_count": 55,
     "metadata": {},
     "output_type": "execute_result"
    },
    {
     "data": {
      "image/png": "[encoded data removed]",
      "text/plain": [
       "<Figure size 432x288 with 1 Axes>"
      ]
     },
     "metadata": {
      "needs_background": "light"
     },
     "output_type": "display_data"
    }
   ],
   "source": [
    "plt.plot( clusters,  hc_list, linestyle='--', marker='o', color='b' )"
   ]
  },
  {
   "cell_type": "code",
   "execution_count": 56,
   "metadata": {
    "ExecuteTime": {
     "end_time": "2022-11-09T09:28:35.406853Z",
     "start_time": "2022-11-09T09:28:35.310729Z"
    },
    "cell_style": "split"
   },
   "outputs": [
    {
     "data": {
      "text/html": [
       "<style type=\"text/css\">\n",
       "#T_c6cec_row0_col22, #T_c6cec_row1_col22, #T_c6cec_row2_col22 {\n",
       "  background-color: lightgreen;\n",
       "}\n",
       "</style>\n",
       "<table id=\"T_c6cec\">\n",
       "  <thead>\n",
       "    <tr>\n",
       "      <th class=\"blank level0\" >&nbsp;</th>\n",
       "      <th id=\"T_c6cec_level0_col0\" class=\"col_heading level0 col0\" >2</th>\n",
       "      <th id=\"T_c6cec_level0_col1\" class=\"col_heading level0 col1\" >3</th>\n",
       "      <th id=\"T_c6cec_level0_col2\" class=\"col_heading level0 col2\" >4</th>\n",
       "      <th id=\"T_c6cec_level0_col3\" class=\"col_heading level0 col3\" >5</th>\n",
       "      <th id=\"T_c6cec_level0_col4\" class=\"col_heading level0 col4\" >6</th>\n",
       "      <th id=\"T_c6cec_level0_col5\" class=\"col_heading level0 col5\" >7</th>\n",
       "      <th id=\"T_c6cec_level0_col6\" class=\"col_heading level0 col6\" >8</th>\n",
       "      <th id=\"T_c6cec_level0_col7\" class=\"col_heading level0 col7\" >9</th>\n",
       "      <th id=\"T_c6cec_level0_col8\" class=\"col_heading level0 col8\" >10</th>\n",
       "      <th id=\"T_c6cec_level0_col9\" class=\"col_heading level0 col9\" >11</th>\n",
       "      <th id=\"T_c6cec_level0_col10\" class=\"col_heading level0 col10\" >12</th>\n",
       "      <th id=\"T_c6cec_level0_col11\" class=\"col_heading level0 col11\" >13</th>\n",
       "      <th id=\"T_c6cec_level0_col12\" class=\"col_heading level0 col12\" >14</th>\n",
       "      <th id=\"T_c6cec_level0_col13\" class=\"col_heading level0 col13\" >15</th>\n",
       "      <th id=\"T_c6cec_level0_col14\" class=\"col_heading level0 col14\" >16</th>\n",
       "      <th id=\"T_c6cec_level0_col15\" class=\"col_heading level0 col15\" >17</th>\n",
       "      <th id=\"T_c6cec_level0_col16\" class=\"col_heading level0 col16\" >18</th>\n",
       "      <th id=\"T_c6cec_level0_col17\" class=\"col_heading level0 col17\" >19</th>\n",
       "      <th id=\"T_c6cec_level0_col18\" class=\"col_heading level0 col18\" >20</th>\n",
       "      <th id=\"T_c6cec_level0_col19\" class=\"col_heading level0 col19\" >21</th>\n",
       "      <th id=\"T_c6cec_level0_col20\" class=\"col_heading level0 col20\" >22</th>\n",
       "      <th id=\"T_c6cec_level0_col21\" class=\"col_heading level0 col21\" >23</th>\n",
       "      <th id=\"T_c6cec_level0_col22\" class=\"col_heading level0 col22\" >24</th>\n",
       "    </tr>\n",
       "  </thead>\n",
       "  <tbody>\n",
       "    <tr>\n",
       "      <th id=\"T_c6cec_level0_row0\" class=\"row_heading level0 row0\" >KMeans</th>\n",
       "      <td id=\"T_c6cec_row0_col0\" class=\"data row0 col0\" >0.398012</td>\n",
       "      <td id=\"T_c6cec_row0_col1\" class=\"data row0 col1\" >0.392463</td>\n",
       "      <td id=\"T_c6cec_row0_col2\" class=\"data row0 col2\" >0.400056</td>\n",
       "      <td id=\"T_c6cec_row0_col3\" class=\"data row0 col3\" >0.398847</td>\n",
       "      <td id=\"T_c6cec_row0_col4\" class=\"data row0 col4\" >0.418199</td>\n",
       "      <td id=\"T_c6cec_row0_col5\" class=\"data row0 col5\" >0.429455</td>\n",
       "      <td id=\"T_c6cec_row0_col6\" class=\"data row0 col6\" >0.438522</td>\n",
       "      <td id=\"T_c6cec_row0_col7\" class=\"data row0 col7\" >0.458682</td>\n",
       "      <td id=\"T_c6cec_row0_col8\" class=\"data row0 col8\" >0.459394</td>\n",
       "      <td id=\"T_c6cec_row0_col9\" class=\"data row0 col9\" >0.474315</td>\n",
       "      <td id=\"T_c6cec_row0_col10\" class=\"data row0 col10\" >0.487300</td>\n",
       "      <td id=\"T_c6cec_row0_col11\" class=\"data row0 col11\" >0.495465</td>\n",
       "      <td id=\"T_c6cec_row0_col12\" class=\"data row0 col12\" >0.499942</td>\n",
       "      <td id=\"T_c6cec_row0_col13\" class=\"data row0 col13\" >0.516626</td>\n",
       "      <td id=\"T_c6cec_row0_col14\" class=\"data row0 col14\" >0.525723</td>\n",
       "      <td id=\"T_c6cec_row0_col15\" class=\"data row0 col15\" >0.531373</td>\n",
       "      <td id=\"T_c6cec_row0_col16\" class=\"data row0 col16\" >0.528151</td>\n",
       "      <td id=\"T_c6cec_row0_col17\" class=\"data row0 col17\" >0.536614</td>\n",
       "      <td id=\"T_c6cec_row0_col18\" class=\"data row0 col18\" >0.540406</td>\n",
       "      <td id=\"T_c6cec_row0_col19\" class=\"data row0 col19\" >0.550221</td>\n",
       "      <td id=\"T_c6cec_row0_col20\" class=\"data row0 col20\" >0.547577</td>\n",
       "      <td id=\"T_c6cec_row0_col21\" class=\"data row0 col21\" >0.557975</td>\n",
       "      <td id=\"T_c6cec_row0_col22\" class=\"data row0 col22\" >0.559947</td>\n",
       "    </tr>\n",
       "    <tr>\n",
       "      <th id=\"T_c6cec_level0_row1\" class=\"row_heading level0 row1\" >GMM</th>\n",
       "      <td id=\"T_c6cec_row1_col0\" class=\"data row1 col0\" >0.360943</td>\n",
       "      <td id=\"T_c6cec_row1_col1\" class=\"data row1 col1\" >0.379582</td>\n",
       "      <td id=\"T_c6cec_row1_col2\" class=\"data row1 col2\" >0.339744</td>\n",
       "      <td id=\"T_c6cec_row1_col3\" class=\"data row1 col3\" >0.345841</td>\n",
       "      <td id=\"T_c6cec_row1_col4\" class=\"data row1 col4\" >0.326584</td>\n",
       "      <td id=\"T_c6cec_row1_col5\" class=\"data row1 col5\" >0.361829</td>\n",
       "      <td id=\"T_c6cec_row1_col6\" class=\"data row1 col6\" >0.380825</td>\n",
       "      <td id=\"T_c6cec_row1_col7\" class=\"data row1 col7\" >0.369629</td>\n",
       "      <td id=\"T_c6cec_row1_col8\" class=\"data row1 col8\" >0.364366</td>\n",
       "      <td id=\"T_c6cec_row1_col9\" class=\"data row1 col9\" >0.377509</td>\n",
       "      <td id=\"T_c6cec_row1_col10\" class=\"data row1 col10\" >0.341269</td>\n",
       "      <td id=\"T_c6cec_row1_col11\" class=\"data row1 col11\" >0.416371</td>\n",
       "      <td id=\"T_c6cec_row1_col12\" class=\"data row1 col12\" >0.414937</td>\n",
       "      <td id=\"T_c6cec_row1_col13\" class=\"data row1 col13\" >0.402688</td>\n",
       "      <td id=\"T_c6cec_row1_col14\" class=\"data row1 col14\" >0.457669</td>\n",
       "      <td id=\"T_c6cec_row1_col15\" class=\"data row1 col15\" >0.460480</td>\n",
       "      <td id=\"T_c6cec_row1_col16\" class=\"data row1 col16\" >0.436551</td>\n",
       "      <td id=\"T_c6cec_row1_col17\" class=\"data row1 col17\" >0.494307</td>\n",
       "      <td id=\"T_c6cec_row1_col18\" class=\"data row1 col18\" >0.463367</td>\n",
       "      <td id=\"T_c6cec_row1_col19\" class=\"data row1 col19\" >0.485173</td>\n",
       "      <td id=\"T_c6cec_row1_col20\" class=\"data row1 col20\" >0.464646</td>\n",
       "      <td id=\"T_c6cec_row1_col21\" class=\"data row1 col21\" >0.530735</td>\n",
       "      <td id=\"T_c6cec_row1_col22\" class=\"data row1 col22\" >0.532191</td>\n",
       "    </tr>\n",
       "    <tr>\n",
       "      <th id=\"T_c6cec_level0_row2\" class=\"row_heading level0 row2\" >HC</th>\n",
       "      <td id=\"T_c6cec_row2_col0\" class=\"data row2 col0\" >0.361062</td>\n",
       "      <td id=\"T_c6cec_row2_col1\" class=\"data row2 col1\" >0.384230</td>\n",
       "      <td id=\"T_c6cec_row2_col2\" class=\"data row2 col2\" >0.383606</td>\n",
       "      <td id=\"T_c6cec_row2_col3\" class=\"data row2 col3\" >0.365494</td>\n",
       "      <td id=\"T_c6cec_row2_col4\" class=\"data row2 col4\" >0.378754</td>\n",
       "      <td id=\"T_c6cec_row2_col5\" class=\"data row2 col5\" >0.404594</td>\n",
       "      <td id=\"T_c6cec_row2_col6\" class=\"data row2 col6\" >0.424325</td>\n",
       "      <td id=\"T_c6cec_row2_col7\" class=\"data row2 col7\" >0.418303</td>\n",
       "      <td id=\"T_c6cec_row2_col8\" class=\"data row2 col8\" >0.432644</td>\n",
       "      <td id=\"T_c6cec_row2_col9\" class=\"data row2 col9\" >0.449777</td>\n",
       "      <td id=\"T_c6cec_row2_col10\" class=\"data row2 col10\" >0.453510</td>\n",
       "      <td id=\"T_c6cec_row2_col11\" class=\"data row2 col11\" >0.480820</td>\n",
       "      <td id=\"T_c6cec_row2_col12\" class=\"data row2 col12\" >0.490416</td>\n",
       "      <td id=\"T_c6cec_row2_col13\" class=\"data row2 col13\" >0.505972</td>\n",
       "      <td id=\"T_c6cec_row2_col14\" class=\"data row2 col14\" >0.513547</td>\n",
       "      <td id=\"T_c6cec_row2_col15\" class=\"data row2 col15\" >0.520999</td>\n",
       "      <td id=\"T_c6cec_row2_col16\" class=\"data row2 col16\" >0.526649</td>\n",
       "      <td id=\"T_c6cec_row2_col17\" class=\"data row2 col17\" >0.538476</td>\n",
       "      <td id=\"T_c6cec_row2_col18\" class=\"data row2 col18\" >0.528429</td>\n",
       "      <td id=\"T_c6cec_row2_col19\" class=\"data row2 col19\" >0.535422</td>\n",
       "      <td id=\"T_c6cec_row2_col20\" class=\"data row2 col20\" >0.540376</td>\n",
       "      <td id=\"T_c6cec_row2_col21\" class=\"data row2 col21\" >0.543264</td>\n",
       "      <td id=\"T_c6cec_row2_col22\" class=\"data row2 col22\" >0.550724</td>\n",
       "    </tr>\n",
       "  </tbody>\n",
       "</table>\n"
      ],
      "text/plain": [
       "<pandas.io.formats.style.Styler at 0x7f6d29e90fd0>"
      ]
     },
     "execution_count": 56,
     "metadata": {},
     "output_type": "execute_result"
    }
   ],
   "source": [
    "## 6.5. Results - Tree Based Embedding\n",
    "\n",
    "df_results = pd.DataFrame( \n",
    "    {'KMeans': kmeans_list, \n",
    "     'GMM': gmm_list, \n",
    "     'HC': hc_list}\n",
    ").T\n",
    "\n",
    "df_results.columns = clusters\n",
    "df_results.style.highlight_max( color='lightgreen', axis=1 )"
   ]
  },
  {
   "cell_type": "code",
   "execution_count": 57,
   "metadata": {
    "ExecuteTime": {
     "end_time": "2022-11-09T09:28:35.419218Z",
     "start_time": "2022-11-09T09:28:35.408157Z"
    },
    "cell_style": "split"
   },
   "outputs": [
    {
     "data": {
      "text/html": [
       "<style type=\"text/css\">\n",
       "#T_dc01e_row0_col22, #T_dc01e_row1_col22, #T_dc01e_row2_col22 {\n",
       "  background-color: lightgreen;\n",
       "}\n",
       "</style>\n",
       "<table id=\"T_dc01e\">\n",
       "  <thead>\n",
       "    <tr>\n",
       "      <th class=\"blank level0\" >&nbsp;</th>\n",
       "      <th id=\"T_dc01e_level0_col0\" class=\"col_heading level0 col0\" >2</th>\n",
       "      <th id=\"T_dc01e_level0_col1\" class=\"col_heading level0 col1\" >3</th>\n",
       "      <th id=\"T_dc01e_level0_col2\" class=\"col_heading level0 col2\" >4</th>\n",
       "      <th id=\"T_dc01e_level0_col3\" class=\"col_heading level0 col3\" >5</th>\n",
       "      <th id=\"T_dc01e_level0_col4\" class=\"col_heading level0 col4\" >6</th>\n",
       "      <th id=\"T_dc01e_level0_col5\" class=\"col_heading level0 col5\" >7</th>\n",
       "      <th id=\"T_dc01e_level0_col6\" class=\"col_heading level0 col6\" >8</th>\n",
       "      <th id=\"T_dc01e_level0_col7\" class=\"col_heading level0 col7\" >9</th>\n",
       "      <th id=\"T_dc01e_level0_col8\" class=\"col_heading level0 col8\" >10</th>\n",
       "      <th id=\"T_dc01e_level0_col9\" class=\"col_heading level0 col9\" >11</th>\n",
       "      <th id=\"T_dc01e_level0_col10\" class=\"col_heading level0 col10\" >12</th>\n",
       "      <th id=\"T_dc01e_level0_col11\" class=\"col_heading level0 col11\" >13</th>\n",
       "      <th id=\"T_dc01e_level0_col12\" class=\"col_heading level0 col12\" >14</th>\n",
       "      <th id=\"T_dc01e_level0_col13\" class=\"col_heading level0 col13\" >15</th>\n",
       "      <th id=\"T_dc01e_level0_col14\" class=\"col_heading level0 col14\" >16</th>\n",
       "      <th id=\"T_dc01e_level0_col15\" class=\"col_heading level0 col15\" >17</th>\n",
       "      <th id=\"T_dc01e_level0_col16\" class=\"col_heading level0 col16\" >18</th>\n",
       "      <th id=\"T_dc01e_level0_col17\" class=\"col_heading level0 col17\" >19</th>\n",
       "      <th id=\"T_dc01e_level0_col18\" class=\"col_heading level0 col18\" >20</th>\n",
       "      <th id=\"T_dc01e_level0_col19\" class=\"col_heading level0 col19\" >21</th>\n",
       "      <th id=\"T_dc01e_level0_col20\" class=\"col_heading level0 col20\" >22</th>\n",
       "      <th id=\"T_dc01e_level0_col21\" class=\"col_heading level0 col21\" >23</th>\n",
       "      <th id=\"T_dc01e_level0_col22\" class=\"col_heading level0 col22\" >24</th>\n",
       "    </tr>\n",
       "  </thead>\n",
       "  <tbody>\n",
       "    <tr>\n",
       "      <th id=\"T_dc01e_level0_row0\" class=\"row_heading level0 row0\" >KMeans</th>\n",
       "      <td id=\"T_dc01e_row0_col0\" class=\"data row0 col0\" >0.398012</td>\n",
       "      <td id=\"T_dc01e_row0_col1\" class=\"data row0 col1\" >0.392463</td>\n",
       "      <td id=\"T_dc01e_row0_col2\" class=\"data row0 col2\" >0.400056</td>\n",
       "      <td id=\"T_dc01e_row0_col3\" class=\"data row0 col3\" >0.398847</td>\n",
       "      <td id=\"T_dc01e_row0_col4\" class=\"data row0 col4\" >0.418199</td>\n",
       "      <td id=\"T_dc01e_row0_col5\" class=\"data row0 col5\" >0.429455</td>\n",
       "      <td id=\"T_dc01e_row0_col6\" class=\"data row0 col6\" >0.438522</td>\n",
       "      <td id=\"T_dc01e_row0_col7\" class=\"data row0 col7\" >0.458682</td>\n",
       "      <td id=\"T_dc01e_row0_col8\" class=\"data row0 col8\" >0.459394</td>\n",
       "      <td id=\"T_dc01e_row0_col9\" class=\"data row0 col9\" >0.474315</td>\n",
       "      <td id=\"T_dc01e_row0_col10\" class=\"data row0 col10\" >0.487300</td>\n",
       "      <td id=\"T_dc01e_row0_col11\" class=\"data row0 col11\" >0.495465</td>\n",
       "      <td id=\"T_dc01e_row0_col12\" class=\"data row0 col12\" >0.499942</td>\n",
       "      <td id=\"T_dc01e_row0_col13\" class=\"data row0 col13\" >0.516626</td>\n",
       "      <td id=\"T_dc01e_row0_col14\" class=\"data row0 col14\" >0.525723</td>\n",
       "      <td id=\"T_dc01e_row0_col15\" class=\"data row0 col15\" >0.531373</td>\n",
       "      <td id=\"T_dc01e_row0_col16\" class=\"data row0 col16\" >0.528151</td>\n",
       "      <td id=\"T_dc01e_row0_col17\" class=\"data row0 col17\" >0.536614</td>\n",
       "      <td id=\"T_dc01e_row0_col18\" class=\"data row0 col18\" >0.540406</td>\n",
       "      <td id=\"T_dc01e_row0_col19\" class=\"data row0 col19\" >0.550221</td>\n",
       "      <td id=\"T_dc01e_row0_col20\" class=\"data row0 col20\" >0.547577</td>\n",
       "      <td id=\"T_dc01e_row0_col21\" class=\"data row0 col21\" >0.557975</td>\n",
       "      <td id=\"T_dc01e_row0_col22\" class=\"data row0 col22\" >0.559947</td>\n",
       "    </tr>\n",
       "    <tr>\n",
       "      <th id=\"T_dc01e_level0_row1\" class=\"row_heading level0 row1\" >GMM</th>\n",
       "      <td id=\"T_dc01e_row1_col0\" class=\"data row1 col0\" >0.360943</td>\n",
       "      <td id=\"T_dc01e_row1_col1\" class=\"data row1 col1\" >0.379582</td>\n",
       "      <td id=\"T_dc01e_row1_col2\" class=\"data row1 col2\" >0.339744</td>\n",
       "      <td id=\"T_dc01e_row1_col3\" class=\"data row1 col3\" >0.345841</td>\n",
       "      <td id=\"T_dc01e_row1_col4\" class=\"data row1 col4\" >0.326584</td>\n",
       "      <td id=\"T_dc01e_row1_col5\" class=\"data row1 col5\" >0.361829</td>\n",
       "      <td id=\"T_dc01e_row1_col6\" class=\"data row1 col6\" >0.380825</td>\n",
       "      <td id=\"T_dc01e_row1_col7\" class=\"data row1 col7\" >0.369629</td>\n",
       "      <td id=\"T_dc01e_row1_col8\" class=\"data row1 col8\" >0.364366</td>\n",
       "      <td id=\"T_dc01e_row1_col9\" class=\"data row1 col9\" >0.377509</td>\n",
       "      <td id=\"T_dc01e_row1_col10\" class=\"data row1 col10\" >0.341269</td>\n",
       "      <td id=\"T_dc01e_row1_col11\" class=\"data row1 col11\" >0.416371</td>\n",
       "      <td id=\"T_dc01e_row1_col12\" class=\"data row1 col12\" >0.414937</td>\n",
       "      <td id=\"T_dc01e_row1_col13\" class=\"data row1 col13\" >0.402688</td>\n",
       "      <td id=\"T_dc01e_row1_col14\" class=\"data row1 col14\" >0.457669</td>\n",
       "      <td id=\"T_dc01e_row1_col15\" class=\"data row1 col15\" >0.460480</td>\n",
       "      <td id=\"T_dc01e_row1_col16\" class=\"data row1 col16\" >0.436551</td>\n",
       "      <td id=\"T_dc01e_row1_col17\" class=\"data row1 col17\" >0.494307</td>\n",
       "      <td id=\"T_dc01e_row1_col18\" class=\"data row1 col18\" >0.463367</td>\n",
       "      <td id=\"T_dc01e_row1_col19\" class=\"data row1 col19\" >0.485173</td>\n",
       "      <td id=\"T_dc01e_row1_col20\" class=\"data row1 col20\" >0.464646</td>\n",
       "      <td id=\"T_dc01e_row1_col21\" class=\"data row1 col21\" >0.530735</td>\n",
       "      <td id=\"T_dc01e_row1_col22\" class=\"data row1 col22\" >0.532191</td>\n",
       "    </tr>\n",
       "    <tr>\n",
       "      <th id=\"T_dc01e_level0_row2\" class=\"row_heading level0 row2\" >HC</th>\n",
       "      <td id=\"T_dc01e_row2_col0\" class=\"data row2 col0\" >0.361062</td>\n",
       "      <td id=\"T_dc01e_row2_col1\" class=\"data row2 col1\" >0.384230</td>\n",
       "      <td id=\"T_dc01e_row2_col2\" class=\"data row2 col2\" >0.383606</td>\n",
       "      <td id=\"T_dc01e_row2_col3\" class=\"data row2 col3\" >0.365494</td>\n",
       "      <td id=\"T_dc01e_row2_col4\" class=\"data row2 col4\" >0.378754</td>\n",
       "      <td id=\"T_dc01e_row2_col5\" class=\"data row2 col5\" >0.404594</td>\n",
       "      <td id=\"T_dc01e_row2_col6\" class=\"data row2 col6\" >0.424325</td>\n",
       "      <td id=\"T_dc01e_row2_col7\" class=\"data row2 col7\" >0.418303</td>\n",
       "      <td id=\"T_dc01e_row2_col8\" class=\"data row2 col8\" >0.432644</td>\n",
       "      <td id=\"T_dc01e_row2_col9\" class=\"data row2 col9\" >0.449777</td>\n",
       "      <td id=\"T_dc01e_row2_col10\" class=\"data row2 col10\" >0.453510</td>\n",
       "      <td id=\"T_dc01e_row2_col11\" class=\"data row2 col11\" >0.480820</td>\n",
       "      <td id=\"T_dc01e_row2_col12\" class=\"data row2 col12\" >0.490416</td>\n",
       "      <td id=\"T_dc01e_row2_col13\" class=\"data row2 col13\" >0.505972</td>\n",
       "      <td id=\"T_dc01e_row2_col14\" class=\"data row2 col14\" >0.513547</td>\n",
       "      <td id=\"T_dc01e_row2_col15\" class=\"data row2 col15\" >0.520999</td>\n",
       "      <td id=\"T_dc01e_row2_col16\" class=\"data row2 col16\" >0.526649</td>\n",
       "      <td id=\"T_dc01e_row2_col17\" class=\"data row2 col17\" >0.538476</td>\n",
       "      <td id=\"T_dc01e_row2_col18\" class=\"data row2 col18\" >0.528429</td>\n",
       "      <td id=\"T_dc01e_row2_col19\" class=\"data row2 col19\" >0.535422</td>\n",
       "      <td id=\"T_dc01e_row2_col20\" class=\"data row2 col20\" >0.540376</td>\n",
       "      <td id=\"T_dc01e_row2_col21\" class=\"data row2 col21\" >0.543264</td>\n",
       "      <td id=\"T_dc01e_row2_col22\" class=\"data row2 col22\" >0.550724</td>\n",
       "    </tr>\n",
       "  </tbody>\n",
       "</table>\n"
      ],
      "text/plain": [
       "<pandas.io.formats.style.Styler at 0x7f6d1b565700>"
      ]
     },
     "execution_count": 57,
     "metadata": {},
     "output_type": "execute_result"
    }
   ],
   "source": [
    "## 6.6. Results - UMAP Embedding\n",
    "\n",
    "df_results = pd.DataFrame( \n",
    "    {'KMeans': kmeans_list, \n",
    "     'GMM': gmm_list, \n",
    "     'HC': hc_list}\n",
    ").T\n",
    "\n",
    "df_results.columns = clusters\n",
    "df_results.style.highlight_max( color='lightgreen', axis=1 )"
   ]
  },
  {
   "cell_type": "code",
   "execution_count": 58,
   "metadata": {
    "ExecuteTime": {
     "end_time": "2022-11-09T09:28:35.433644Z",
     "start_time": "2022-11-09T09:28:35.420474Z"
    },
    "cell_style": "split"
   },
   "outputs": [
    {
     "data": {
      "text/html": [
       "<style type=\"text/css\">\n",
       "#T_d8eb8_row0_col22, #T_d8eb8_row1_col22, #T_d8eb8_row2_col22 {\n",
       "  background-color: lightgreen;\n",
       "}\n",
       "</style>\n",
       "<table id=\"T_d8eb8\">\n",
       "  <thead>\n",
       "    <tr>\n",
       "      <th class=\"blank level0\" >&nbsp;</th>\n",
       "      <th id=\"T_d8eb8_level0_col0\" class=\"col_heading level0 col0\" >2</th>\n",
       "      <th id=\"T_d8eb8_level0_col1\" class=\"col_heading level0 col1\" >3</th>\n",
       "      <th id=\"T_d8eb8_level0_col2\" class=\"col_heading level0 col2\" >4</th>\n",
       "      <th id=\"T_d8eb8_level0_col3\" class=\"col_heading level0 col3\" >5</th>\n",
       "      <th id=\"T_d8eb8_level0_col4\" class=\"col_heading level0 col4\" >6</th>\n",
       "      <th id=\"T_d8eb8_level0_col5\" class=\"col_heading level0 col5\" >7</th>\n",
       "      <th id=\"T_d8eb8_level0_col6\" class=\"col_heading level0 col6\" >8</th>\n",
       "      <th id=\"T_d8eb8_level0_col7\" class=\"col_heading level0 col7\" >9</th>\n",
       "      <th id=\"T_d8eb8_level0_col8\" class=\"col_heading level0 col8\" >10</th>\n",
       "      <th id=\"T_d8eb8_level0_col9\" class=\"col_heading level0 col9\" >11</th>\n",
       "      <th id=\"T_d8eb8_level0_col10\" class=\"col_heading level0 col10\" >12</th>\n",
       "      <th id=\"T_d8eb8_level0_col11\" class=\"col_heading level0 col11\" >13</th>\n",
       "      <th id=\"T_d8eb8_level0_col12\" class=\"col_heading level0 col12\" >14</th>\n",
       "      <th id=\"T_d8eb8_level0_col13\" class=\"col_heading level0 col13\" >15</th>\n",
       "      <th id=\"T_d8eb8_level0_col14\" class=\"col_heading level0 col14\" >16</th>\n",
       "      <th id=\"T_d8eb8_level0_col15\" class=\"col_heading level0 col15\" >17</th>\n",
       "      <th id=\"T_d8eb8_level0_col16\" class=\"col_heading level0 col16\" >18</th>\n",
       "      <th id=\"T_d8eb8_level0_col17\" class=\"col_heading level0 col17\" >19</th>\n",
       "      <th id=\"T_d8eb8_level0_col18\" class=\"col_heading level0 col18\" >20</th>\n",
       "      <th id=\"T_d8eb8_level0_col19\" class=\"col_heading level0 col19\" >21</th>\n",
       "      <th id=\"T_d8eb8_level0_col20\" class=\"col_heading level0 col20\" >22</th>\n",
       "      <th id=\"T_d8eb8_level0_col21\" class=\"col_heading level0 col21\" >23</th>\n",
       "      <th id=\"T_d8eb8_level0_col22\" class=\"col_heading level0 col22\" >24</th>\n",
       "    </tr>\n",
       "  </thead>\n",
       "  <tbody>\n",
       "    <tr>\n",
       "      <th id=\"T_d8eb8_level0_row0\" class=\"row_heading level0 row0\" >KMeans</th>\n",
       "      <td id=\"T_d8eb8_row0_col0\" class=\"data row0 col0\" >0.398012</td>\n",
       "      <td id=\"T_d8eb8_row0_col1\" class=\"data row0 col1\" >0.392463</td>\n",
       "      <td id=\"T_d8eb8_row0_col2\" class=\"data row0 col2\" >0.400056</td>\n",
       "      <td id=\"T_d8eb8_row0_col3\" class=\"data row0 col3\" >0.398847</td>\n",
       "      <td id=\"T_d8eb8_row0_col4\" class=\"data row0 col4\" >0.418199</td>\n",
       "      <td id=\"T_d8eb8_row0_col5\" class=\"data row0 col5\" >0.429455</td>\n",
       "      <td id=\"T_d8eb8_row0_col6\" class=\"data row0 col6\" >0.438522</td>\n",
       "      <td id=\"T_d8eb8_row0_col7\" class=\"data row0 col7\" >0.458682</td>\n",
       "      <td id=\"T_d8eb8_row0_col8\" class=\"data row0 col8\" >0.459394</td>\n",
       "      <td id=\"T_d8eb8_row0_col9\" class=\"data row0 col9\" >0.474315</td>\n",
       "      <td id=\"T_d8eb8_row0_col10\" class=\"data row0 col10\" >0.487300</td>\n",
       "      <td id=\"T_d8eb8_row0_col11\" class=\"data row0 col11\" >0.495465</td>\n",
       "      <td id=\"T_d8eb8_row0_col12\" class=\"data row0 col12\" >0.499942</td>\n",
       "      <td id=\"T_d8eb8_row0_col13\" class=\"data row0 col13\" >0.516626</td>\n",
       "      <td id=\"T_d8eb8_row0_col14\" class=\"data row0 col14\" >0.525723</td>\n",
       "      <td id=\"T_d8eb8_row0_col15\" class=\"data row0 col15\" >0.531373</td>\n",
       "      <td id=\"T_d8eb8_row0_col16\" class=\"data row0 col16\" >0.528151</td>\n",
       "      <td id=\"T_d8eb8_row0_col17\" class=\"data row0 col17\" >0.536614</td>\n",
       "      <td id=\"T_d8eb8_row0_col18\" class=\"data row0 col18\" >0.540406</td>\n",
       "      <td id=\"T_d8eb8_row0_col19\" class=\"data row0 col19\" >0.550221</td>\n",
       "      <td id=\"T_d8eb8_row0_col20\" class=\"data row0 col20\" >0.547577</td>\n",
       "      <td id=\"T_d8eb8_row0_col21\" class=\"data row0 col21\" >0.557975</td>\n",
       "      <td id=\"T_d8eb8_row0_col22\" class=\"data row0 col22\" >0.559947</td>\n",
       "    </tr>\n",
       "    <tr>\n",
       "      <th id=\"T_d8eb8_level0_row1\" class=\"row_heading level0 row1\" >GMM</th>\n",
       "      <td id=\"T_d8eb8_row1_col0\" class=\"data row1 col0\" >0.360943</td>\n",
       "      <td id=\"T_d8eb8_row1_col1\" class=\"data row1 col1\" >0.379582</td>\n",
       "      <td id=\"T_d8eb8_row1_col2\" class=\"data row1 col2\" >0.339744</td>\n",
       "      <td id=\"T_d8eb8_row1_col3\" class=\"data row1 col3\" >0.345841</td>\n",
       "      <td id=\"T_d8eb8_row1_col4\" class=\"data row1 col4\" >0.326584</td>\n",
       "      <td id=\"T_d8eb8_row1_col5\" class=\"data row1 col5\" >0.361829</td>\n",
       "      <td id=\"T_d8eb8_row1_col6\" class=\"data row1 col6\" >0.380825</td>\n",
       "      <td id=\"T_d8eb8_row1_col7\" class=\"data row1 col7\" >0.369629</td>\n",
       "      <td id=\"T_d8eb8_row1_col8\" class=\"data row1 col8\" >0.364366</td>\n",
       "      <td id=\"T_d8eb8_row1_col9\" class=\"data row1 col9\" >0.377509</td>\n",
       "      <td id=\"T_d8eb8_row1_col10\" class=\"data row1 col10\" >0.341269</td>\n",
       "      <td id=\"T_d8eb8_row1_col11\" class=\"data row1 col11\" >0.416371</td>\n",
       "      <td id=\"T_d8eb8_row1_col12\" class=\"data row1 col12\" >0.414937</td>\n",
       "      <td id=\"T_d8eb8_row1_col13\" class=\"data row1 col13\" >0.402688</td>\n",
       "      <td id=\"T_d8eb8_row1_col14\" class=\"data row1 col14\" >0.457669</td>\n",
       "      <td id=\"T_d8eb8_row1_col15\" class=\"data row1 col15\" >0.460480</td>\n",
       "      <td id=\"T_d8eb8_row1_col16\" class=\"data row1 col16\" >0.436551</td>\n",
       "      <td id=\"T_d8eb8_row1_col17\" class=\"data row1 col17\" >0.494307</td>\n",
       "      <td id=\"T_d8eb8_row1_col18\" class=\"data row1 col18\" >0.463367</td>\n",
       "      <td id=\"T_d8eb8_row1_col19\" class=\"data row1 col19\" >0.485173</td>\n",
       "      <td id=\"T_d8eb8_row1_col20\" class=\"data row1 col20\" >0.464646</td>\n",
       "      <td id=\"T_d8eb8_row1_col21\" class=\"data row1 col21\" >0.530735</td>\n",
       "      <td id=\"T_d8eb8_row1_col22\" class=\"data row1 col22\" >0.532191</td>\n",
       "    </tr>\n",
       "    <tr>\n",
       "      <th id=\"T_d8eb8_level0_row2\" class=\"row_heading level0 row2\" >HC</th>\n",
       "      <td id=\"T_d8eb8_row2_col0\" class=\"data row2 col0\" >0.361062</td>\n",
       "      <td id=\"T_d8eb8_row2_col1\" class=\"data row2 col1\" >0.384230</td>\n",
       "      <td id=\"T_d8eb8_row2_col2\" class=\"data row2 col2\" >0.383606</td>\n",
       "      <td id=\"T_d8eb8_row2_col3\" class=\"data row2 col3\" >0.365494</td>\n",
       "      <td id=\"T_d8eb8_row2_col4\" class=\"data row2 col4\" >0.378754</td>\n",
       "      <td id=\"T_d8eb8_row2_col5\" class=\"data row2 col5\" >0.404594</td>\n",
       "      <td id=\"T_d8eb8_row2_col6\" class=\"data row2 col6\" >0.424325</td>\n",
       "      <td id=\"T_d8eb8_row2_col7\" class=\"data row2 col7\" >0.418303</td>\n",
       "      <td id=\"T_d8eb8_row2_col8\" class=\"data row2 col8\" >0.432644</td>\n",
       "      <td id=\"T_d8eb8_row2_col9\" class=\"data row2 col9\" >0.449777</td>\n",
       "      <td id=\"T_d8eb8_row2_col10\" class=\"data row2 col10\" >0.453510</td>\n",
       "      <td id=\"T_d8eb8_row2_col11\" class=\"data row2 col11\" >0.480820</td>\n",
       "      <td id=\"T_d8eb8_row2_col12\" class=\"data row2 col12\" >0.490416</td>\n",
       "      <td id=\"T_d8eb8_row2_col13\" class=\"data row2 col13\" >0.505972</td>\n",
       "      <td id=\"T_d8eb8_row2_col14\" class=\"data row2 col14\" >0.513547</td>\n",
       "      <td id=\"T_d8eb8_row2_col15\" class=\"data row2 col15\" >0.520999</td>\n",
       "      <td id=\"T_d8eb8_row2_col16\" class=\"data row2 col16\" >0.526649</td>\n",
       "      <td id=\"T_d8eb8_row2_col17\" class=\"data row2 col17\" >0.538476</td>\n",
       "      <td id=\"T_d8eb8_row2_col18\" class=\"data row2 col18\" >0.528429</td>\n",
       "      <td id=\"T_d8eb8_row2_col19\" class=\"data row2 col19\" >0.535422</td>\n",
       "      <td id=\"T_d8eb8_row2_col20\" class=\"data row2 col20\" >0.540376</td>\n",
       "      <td id=\"T_d8eb8_row2_col21\" class=\"data row2 col21\" >0.543264</td>\n",
       "      <td id=\"T_d8eb8_row2_col22\" class=\"data row2 col22\" >0.550724</td>\n",
       "    </tr>\n",
       "  </tbody>\n",
       "</table>\n"
      ],
      "text/plain": [
       "<pandas.io.formats.style.Styler at 0x7f6d1b574a60>"
      ]
     },
     "execution_count": 58,
     "metadata": {},
     "output_type": "execute_result"
    }
   ],
   "source": [
    "## 6.7. Results - TSNE Embedding\n",
    "\n",
    "df_results = pd.DataFrame( \n",
    "    {'KMeans': kmeans_list, \n",
    "     'GMM': gmm_list, \n",
    "     'HC': hc_list}\n",
    ").T\n",
    "\n",
    "df_results.columns = clusters\n",
    "df_results.style.highlight_max( color='lightgreen', axis=1 )"
   ]
  },
  {
   "cell_type": "markdown",
   "metadata": {},
   "source": [
    "# <font color='red'> 7.0. Model Training </font>"
   ]
  },
  {
   "cell_type": "markdown",
   "metadata": {},
   "source": [
    "## 7.1. Final model"
   ]
  },
  {
   "cell_type": "code",
   "execution_count": 59,
   "metadata": {
    "ExecuteTime": {
     "end_time": "2022-11-09T09:29:04.924880Z",
     "start_time": "2022-11-09T09:28:35.435242Z"
    }
   },
   "outputs": [],
   "source": [
    "# model definition\n",
    "k = 8\n",
    "\n",
    "## model definition\n",
    "gmm_model = mx.GaussianMixture( n_components=k, n_init=300, random_state=32 )\n",
    "\n",
    "# model training\n",
    "gmm_model.fit( X )\n",
    "\n",
    "# model predict\n",
    "labels = gmm_model.predict( X )"
   ]
  },
  {
   "cell_type": "markdown",
   "metadata": {},
   "source": [
    "## 7.2. Cluster Validation"
   ]
  },
  {
   "cell_type": "code",
   "execution_count": 60,
   "metadata": {
    "ExecuteTime": {
     "end_time": "2022-11-09T09:29:05.389090Z",
     "start_time": "2022-11-09T09:29:04.926233Z"
    }
   },
   "outputs": [
    {
     "name": "stdout",
     "output_type": "stream",
     "text": [
      "SS value: 0.3809504210948944\n"
     ]
    }
   ],
   "source": [
    "## WSS ( Within-cluster sum of square)\n",
    "#print( 'WSS value: {}'.format( kmeans.inertia_ ) )\n",
    "\n",
    "## SS ( Silhouette Score )\n",
    "print( 'SS value: {}'.format( m.silhouette_score( X, labels, metric='euclidean' ) ) )"
   ]
  },
  {
   "cell_type": "markdown",
   "metadata": {},
   "source": [
    "# <font color='red'> 8.0. Cluster Analysis </font>"
   ]
  },
  {
   "cell_type": "code",
   "execution_count": 61,
   "metadata": {
    "ExecuteTime": {
     "end_time": "2022-11-09T09:29:05.393738Z",
     "start_time": "2022-11-09T09:29:05.390329Z"
    }
   },
   "outputs": [],
   "source": [
    "df9 = X.copy()\n",
    "df9['cluster'] = labels"
   ]
  },
  {
   "cell_type": "markdown",
   "metadata": {},
   "source": [
    "## 8.1. Visualization Inspection"
   ]
  },
  {
   "cell_type": "code",
   "execution_count": 62,
   "metadata": {
    "ExecuteTime": {
     "end_time": "2022-11-09T09:29:05.793887Z",
     "start_time": "2022-11-09T09:29:05.395019Z"
    }
   },
   "outputs": [
    {
     "data": {
      "text/plain": [
       "<AxesSubplot:xlabel='embedding_x', ylabel='embedding_y'>"
      ]
     },
     "execution_count": 62,
     "metadata": {},
     "output_type": "execute_result"
    },
    {
     "data": {
      "image/png": "[encoded data removed]",
      "text/plain": [
       "<Figure size 432x288 with 1 Axes>"
      ]
     },
     "metadata": {
      "needs_background": "light"
     },
     "output_type": "display_data"
    }
   ],
   "source": [
    "sns.scatterplot( x='embedding_x', y='embedding_y', hue='cluster', data=df9, palette='deep')"
   ]
  },
  {
   "cell_type": "markdown",
   "metadata": {},
   "source": [
    "## 8.2. Cluster Profile"
   ]
  },
  {
   "cell_type": "code",
   "execution_count": 63,
   "metadata": {
    "ExecuteTime": {
     "end_time": "2022-11-09T09:29:05.809465Z",
     "start_time": "2022-11-09T09:29:05.796093Z"
    }
   },
   "outputs": [
    {
     "data": {
      "text/html": [
       "<div>\n",
       "<style scoped>\n",
       "    .dataframe tbody tr th:only-of-type {\n",
       "        vertical-align: middle;\n",
       "    }\n",
       "\n",
       "    .dataframe tbody tr th {\n",
       "        vertical-align: top;\n",
       "    }\n",
       "\n",
       "    .dataframe thead th {\n",
       "        text-align: right;\n",
       "    }\n",
       "</style>\n",
       "<table border=\"1\" class=\"dataframe\">\n",
       "  <thead>\n",
       "    <tr style=\"text-align: right;\">\n",
       "      <th></th>\n",
       "      <th>customer_id</th>\n",
       "      <th>gross_revenue</th>\n",
       "      <th>recency_days</th>\n",
       "      <th>qtde_products</th>\n",
       "      <th>frequency</th>\n",
       "      <th>qtde_returns</th>\n",
       "      <th>cluster</th>\n",
       "    </tr>\n",
       "  </thead>\n",
       "  <tbody>\n",
       "    <tr>\n",
       "      <th>0</th>\n",
       "      <td>17850</td>\n",
       "      <td>5391.21</td>\n",
       "      <td>372.0</td>\n",
       "      <td>297.0</td>\n",
       "      <td>17.000000</td>\n",
       "      <td>40.0</td>\n",
       "      <td>1</td>\n",
       "    </tr>\n",
       "    <tr>\n",
       "      <th>1</th>\n",
       "      <td>13047</td>\n",
       "      <td>3232.59</td>\n",
       "      <td>56.0</td>\n",
       "      <td>171.0</td>\n",
       "      <td>0.028302</td>\n",
       "      <td>35.0</td>\n",
       "      <td>1</td>\n",
       "    </tr>\n",
       "    <tr>\n",
       "      <th>2</th>\n",
       "      <td>12583</td>\n",
       "      <td>6705.38</td>\n",
       "      <td>2.0</td>\n",
       "      <td>232.0</td>\n",
       "      <td>0.040323</td>\n",
       "      <td>50.0</td>\n",
       "      <td>1</td>\n",
       "    </tr>\n",
       "    <tr>\n",
       "      <th>3</th>\n",
       "      <td>13748</td>\n",
       "      <td>948.25</td>\n",
       "      <td>95.0</td>\n",
       "      <td>28.0</td>\n",
       "      <td>0.017921</td>\n",
       "      <td>0.0</td>\n",
       "      <td>7</td>\n",
       "    </tr>\n",
       "    <tr>\n",
       "      <th>4</th>\n",
       "      <td>15100</td>\n",
       "      <td>876.00</td>\n",
       "      <td>333.0</td>\n",
       "      <td>3.0</td>\n",
       "      <td>0.073171</td>\n",
       "      <td>22.0</td>\n",
       "      <td>0</td>\n",
       "    </tr>\n",
       "  </tbody>\n",
       "</table>\n",
       "</div>"
      ],
      "text/plain": [
       "   customer_id  gross_revenue  recency_days  qtde_products  frequency  \\\n",
       "0        17850        5391.21         372.0          297.0  17.000000   \n",
       "1        13047        3232.59          56.0          171.0   0.028302   \n",
       "2        12583        6705.38           2.0          232.0   0.040323   \n",
       "3        13748         948.25          95.0           28.0   0.017921   \n",
       "4        15100         876.00         333.0            3.0   0.073171   \n",
       "\n",
       "   qtde_returns  cluster  \n",
       "0          40.0        1  \n",
       "1          35.0        1  \n",
       "2          50.0        1  \n",
       "3           0.0        7  \n",
       "4          22.0        0  "
      ]
     },
     "execution_count": 63,
     "metadata": {},
     "output_type": "execute_result"
    }
   ],
   "source": [
    "df92 = df4[ cols_selected ].copy()\n",
    "df92['cluster'] = labels\n",
    "df92.head()"
   ]
  },
  {
   "cell_type": "code",
   "execution_count": 64,
   "metadata": {
    "ExecuteTime": {
     "end_time": "2022-11-09T09:29:05.863539Z",
     "start_time": "2022-11-09T09:29:05.810980Z"
    }
   },
   "outputs": [
    {
     "data": {
      "text/html": [
       "<div>\n",
       "<style scoped>\n",
       "    .dataframe tbody tr th:only-of-type {\n",
       "        vertical-align: middle;\n",
       "    }\n",
       "\n",
       "    .dataframe tbody tr th {\n",
       "        vertical-align: top;\n",
       "    }\n",
       "\n",
       "    .dataframe thead th {\n",
       "        text-align: right;\n",
       "    }\n",
       "</style>\n",
       "<table border=\"1\" class=\"dataframe\">\n",
       "  <thead>\n",
       "    <tr style=\"text-align: right;\">\n",
       "      <th></th>\n",
       "      <th>cluster</th>\n",
       "      <th>customer_id</th>\n",
       "      <th>perc_customer</th>\n",
       "      <th>gross_revenue</th>\n",
       "      <th>recency_days</th>\n",
       "      <th>qtde_products</th>\n",
       "      <th>frequency</th>\n",
       "      <th>qtde_returns</th>\n",
       "    </tr>\n",
       "  </thead>\n",
       "  <tbody>\n",
       "    <tr>\n",
       "      <th>1</th>\n",
       "      <td>1</td>\n",
       "      <td>985</td>\n",
       "      <td>17.295874</td>\n",
       "      <td>5862.414619</td>\n",
       "      <td>69.403046</td>\n",
       "      <td>318.615228</td>\n",
       "      <td>0.317485</td>\n",
       "      <td>157.052792</td>\n",
       "    </tr>\n",
       "    <tr>\n",
       "      <th>2</th>\n",
       "      <td>2</td>\n",
       "      <td>746</td>\n",
       "      <td>13.099210</td>\n",
       "      <td>1933.611595</td>\n",
       "      <td>86.522788</td>\n",
       "      <td>114.558981</td>\n",
       "      <td>0.370107</td>\n",
       "      <td>2.780161</td>\n",
       "    </tr>\n",
       "    <tr>\n",
       "      <th>0</th>\n",
       "      <td>0</td>\n",
       "      <td>1258</td>\n",
       "      <td>22.089552</td>\n",
       "      <td>1057.595604</td>\n",
       "      <td>153.226550</td>\n",
       "      <td>50.410175</td>\n",
       "      <td>0.873500</td>\n",
       "      <td>5.988076</td>\n",
       "    </tr>\n",
       "    <tr>\n",
       "      <th>7</th>\n",
       "      <td>7</td>\n",
       "      <td>310</td>\n",
       "      <td>5.443371</td>\n",
       "      <td>1017.573419</td>\n",
       "      <td>72.377419</td>\n",
       "      <td>34.293548</td>\n",
       "      <td>0.092819</td>\n",
       "      <td>5.112903</td>\n",
       "    </tr>\n",
       "    <tr>\n",
       "      <th>5</th>\n",
       "      <td>5</td>\n",
       "      <td>366</td>\n",
       "      <td>6.426690</td>\n",
       "      <td>967.352732</td>\n",
       "      <td>83.672131</td>\n",
       "      <td>46.079235</td>\n",
       "      <td>0.218727</td>\n",
       "      <td>7.907104</td>\n",
       "    </tr>\n",
       "    <tr>\n",
       "      <th>4</th>\n",
       "      <td>4</td>\n",
       "      <td>490</td>\n",
       "      <td>8.604039</td>\n",
       "      <td>689.251571</td>\n",
       "      <td>118.169388</td>\n",
       "      <td>34.667347</td>\n",
       "      <td>0.521319</td>\n",
       "      <td>3.134694</td>\n",
       "    </tr>\n",
       "    <tr>\n",
       "      <th>3</th>\n",
       "      <td>3</td>\n",
       "      <td>566</td>\n",
       "      <td>9.938543</td>\n",
       "      <td>453.344099</td>\n",
       "      <td>117.533569</td>\n",
       "      <td>13.902827</td>\n",
       "      <td>0.483349</td>\n",
       "      <td>2.565371</td>\n",
       "    </tr>\n",
       "    <tr>\n",
       "      <th>6</th>\n",
       "      <td>6</td>\n",
       "      <td>974</td>\n",
       "      <td>17.102722</td>\n",
       "      <td>301.258255</td>\n",
       "      <td>167.092402</td>\n",
       "      <td>12.675565</td>\n",
       "      <td>0.812443</td>\n",
       "      <td>6.470226</td>\n",
       "    </tr>\n",
       "  </tbody>\n",
       "</table>\n",
       "</div>"
      ],
      "text/plain": [
       "   cluster  customer_id  perc_customer  gross_revenue  recency_days  \\\n",
       "1        1          985      17.295874    5862.414619     69.403046   \n",
       "2        2          746      13.099210    1933.611595     86.522788   \n",
       "0        0         1258      22.089552    1057.595604    153.226550   \n",
       "7        7          310       5.443371    1017.573419     72.377419   \n",
       "5        5          366       6.426690     967.352732     83.672131   \n",
       "4        4          490       8.604039     689.251571    118.169388   \n",
       "3        3          566       9.938543     453.344099    117.533569   \n",
       "6        6          974      17.102722     301.258255    167.092402   \n",
       "\n",
       "   qtde_products  frequency  qtde_returns  \n",
       "1     318.615228   0.317485    157.052792  \n",
       "2     114.558981   0.370107      2.780161  \n",
       "0      50.410175   0.873500      5.988076  \n",
       "7      34.293548   0.092819      5.112903  \n",
       "5      46.079235   0.218727      7.907104  \n",
       "4      34.667347   0.521319      3.134694  \n",
       "3      13.902827   0.483349      2.565371  \n",
       "6      12.675565   0.812443      6.470226  "
      ]
     },
     "execution_count": 64,
     "metadata": {},
     "output_type": "execute_result"
    }
   ],
   "source": [
    "# Number of customer\n",
    "df_cluster = df92[['customer_id', 'cluster']].groupby( 'cluster' ).count().reset_index()\n",
    "df_cluster['perc_customer'] = 100*( df_cluster['customer_id'] / df_cluster['customer_id'].sum() )\n",
    "\n",
    "# Avg Gross revenue\n",
    "df_avg_gross_revenue = df92[['gross_revenue', 'cluster']].groupby( 'cluster' ).mean().reset_index()\n",
    "df_cluster = pd.merge( df_cluster, df_avg_gross_revenue, how='inner', on='cluster' )\n",
    "\n",
    "# Avg recency days\n",
    "df_avg_recency_days = df92[['recency_days', 'cluster']].groupby( 'cluster' ).mean().reset_index()\n",
    "df_cluster = pd.merge( df_cluster, df_avg_recency_days, how='inner', on='cluster' )\n",
    "\n",
    "# Avg invoice_no\n",
    "df_qtde_products = df92[['qtde_products', 'cluster']].groupby( 'cluster' ).mean().reset_index()\n",
    "df_cluster = pd.merge( df_cluster, df_qtde_products, how='inner', on='cluster' )\n",
    "\n",
    "# Frequency\n",
    "df_frequency = df92[['frequency', 'cluster']].groupby( 'cluster' ).mean().reset_index()\n",
    "df_cluster = pd.merge( df_cluster, df_frequency, how='inner', on='cluster' )\n",
    "\n",
    "# Returns\n",
    "df_qtde_returns = df92[['qtde_returns', 'cluster']].groupby( 'cluster' ).mean().reset_index()\n",
    "df_cluster = pd.merge( df_cluster, df_qtde_returns, how='inner', on='cluster' )\n",
    "\n",
    "df_cluster.sort_values( 'gross_revenue', ascending=False )"
   ]
  },
  {
   "cell_type": "code",
   "execution_count": 65,
   "metadata": {
    "ExecuteTime": {
     "end_time": "2022-11-09T09:29:05.867848Z",
     "start_time": "2022-11-09T09:29:05.865224Z"
    }
   },
   "outputs": [],
   "source": [
    "# 6 Cluster Insiders\n",
    "# 3 Cluster More Products\n",
    "# 0 Cluster Spend Money \n",
    "# 1 Cluster Even More Products\n",
    "# 4 Cluster Less Days\n",
    "# 7 Cluster Less 1k\n",
    "# 2 Cluster Stop Returners\n",
    "# 5 Cluster More Buy"
   ]
  },
  {
   "cell_type": "markdown",
   "metadata": {},
   "source": [
    "### Cluster 01:  ( Candidato à Insider )\n",
    "    - Número de customers: 468 (16% do customers )\n",
    "    - Faturamento médio: 8836\n",
    "    - Recência média: 21 dias\n",
    "    - Média de Produtos comprados: 424 produtos\n",
    "    - Frequência de Produtos comprados: 0.09 produtos/dia\n",
    "    - Receita em média: $8836.13,00 dólares\n",
    "        \n",
    "### Cluster 02: \n",
    "    - Número de customers: 31 (0.71 do customers )\n",
    "    - Recência em média: 14 dias\n",
    "    - Compras em média: 53 compras\n",
    "    - Receita em média: $40.543,52 dólares\n",
    "        \n",
    "### Cluster 03: \n",
    "    - Número de customers: 4.335 (99% do customers )\n",
    "    - Recência em média: 92 dias\n",
    "    - Compras em média: 5 compras\n",
    "    - Receita em média: $1.372,57 dólares"
   ]
  },
  {
   "cell_type": "markdown",
   "metadata": {},
   "source": [
    "# <font color='red'> 9.0. Análise Exploratória de Dados </font>"
   ]
  },
  {
   "cell_type": "code",
   "execution_count": 66,
   "metadata": {
    "ExecuteTime": {
     "end_time": "2022-11-09T09:29:05.873689Z",
     "start_time": "2022-11-09T09:29:05.869695Z"
    }
   },
   "outputs": [],
   "source": [
    "df10 = df92.copy()"
   ]
  },
  {
   "cell_type": "code",
   "execution_count": 67,
   "metadata": {
    "ExecuteTime": {
     "end_time": "2022-11-09T09:29:05.885166Z",
     "start_time": "2022-11-09T09:29:05.875274Z"
    }
   },
   "outputs": [
    {
     "data": {
      "text/html": [
       "<div>\n",
       "<style scoped>\n",
       "    .dataframe tbody tr th:only-of-type {\n",
       "        vertical-align: middle;\n",
       "    }\n",
       "\n",
       "    .dataframe tbody tr th {\n",
       "        vertical-align: top;\n",
       "    }\n",
       "\n",
       "    .dataframe thead th {\n",
       "        text-align: right;\n",
       "    }\n",
       "</style>\n",
       "<table border=\"1\" class=\"dataframe\">\n",
       "  <thead>\n",
       "    <tr style=\"text-align: right;\">\n",
       "      <th></th>\n",
       "      <th>customer_id</th>\n",
       "      <th>gross_revenue</th>\n",
       "      <th>recency_days</th>\n",
       "      <th>qtde_products</th>\n",
       "      <th>frequency</th>\n",
       "      <th>qtde_returns</th>\n",
       "      <th>cluster</th>\n",
       "    </tr>\n",
       "  </thead>\n",
       "  <tbody>\n",
       "    <tr>\n",
       "      <th>0</th>\n",
       "      <td>17850</td>\n",
       "      <td>5391.21</td>\n",
       "      <td>372.0</td>\n",
       "      <td>297.0</td>\n",
       "      <td>17.000000</td>\n",
       "      <td>40.0</td>\n",
       "      <td>1</td>\n",
       "    </tr>\n",
       "    <tr>\n",
       "      <th>1</th>\n",
       "      <td>13047</td>\n",
       "      <td>3232.59</td>\n",
       "      <td>56.0</td>\n",
       "      <td>171.0</td>\n",
       "      <td>0.028302</td>\n",
       "      <td>35.0</td>\n",
       "      <td>1</td>\n",
       "    </tr>\n",
       "    <tr>\n",
       "      <th>2</th>\n",
       "      <td>12583</td>\n",
       "      <td>6705.38</td>\n",
       "      <td>2.0</td>\n",
       "      <td>232.0</td>\n",
       "      <td>0.040323</td>\n",
       "      <td>50.0</td>\n",
       "      <td>1</td>\n",
       "    </tr>\n",
       "    <tr>\n",
       "      <th>3</th>\n",
       "      <td>13748</td>\n",
       "      <td>948.25</td>\n",
       "      <td>95.0</td>\n",
       "      <td>28.0</td>\n",
       "      <td>0.017921</td>\n",
       "      <td>0.0</td>\n",
       "      <td>7</td>\n",
       "    </tr>\n",
       "    <tr>\n",
       "      <th>4</th>\n",
       "      <td>15100</td>\n",
       "      <td>876.00</td>\n",
       "      <td>333.0</td>\n",
       "      <td>3.0</td>\n",
       "      <td>0.073171</td>\n",
       "      <td>22.0</td>\n",
       "      <td>0</td>\n",
       "    </tr>\n",
       "  </tbody>\n",
       "</table>\n",
       "</div>"
      ],
      "text/plain": [
       "   customer_id  gross_revenue  recency_days  qtde_products  frequency  \\\n",
       "0        17850        5391.21         372.0          297.0  17.000000   \n",
       "1        13047        3232.59          56.0          171.0   0.028302   \n",
       "2        12583        6705.38           2.0          232.0   0.040323   \n",
       "3        13748         948.25          95.0           28.0   0.017921   \n",
       "4        15100         876.00         333.0            3.0   0.073171   \n",
       "\n",
       "   qtde_returns  cluster  \n",
       "0          40.0        1  \n",
       "1          35.0        1  \n",
       "2          50.0        1  \n",
       "3           0.0        7  \n",
       "4          22.0        0  "
      ]
     },
     "execution_count": 67,
     "metadata": {},
     "output_type": "execute_result"
    }
   ],
   "source": [
    "df10.head()"
   ]
  },
  {
   "cell_type": "markdown",
   "metadata": {},
   "source": [
    "# <font color='red'> 10.0. Deploy To Production </font>"
   ]
  },
  {
   "cell_type": "code",
   "execution_count": 68,
   "metadata": {
    "ExecuteTime": {
     "end_time": "2022-11-09T09:29:05.891020Z",
     "start_time": "2022-11-09T09:29:05.886549Z"
    }
   },
   "outputs": [
    {
     "data": {
      "text/plain": [
       "customer_id        int64\n",
       "gross_revenue    float64\n",
       "recency_days     float64\n",
       "qtde_products    float64\n",
       "frequency        float64\n",
       "qtde_returns     float64\n",
       "cluster            int64\n",
       "dtype: object"
      ]
     },
     "execution_count": 68,
     "metadata": {},
     "output_type": "execute_result"
    }
   ],
   "source": [
    "df92.dtypes"
   ]
  },
  {
   "cell_type": "code",
   "execution_count": 69,
   "metadata": {
    "ExecuteTime": {
     "end_time": "2022-11-09T09:29:05.901297Z",
     "start_time": "2022-11-09T09:29:05.892773Z"
    }
   },
   "outputs": [],
   "source": [
    "df92['recency_days'] = df92['recency_days'].astype( int )\n",
    "df92['qtde_products'] = df92['qtde_products'].astype( int )\n",
    "df92['qtde_returns'] = df92['qtde_returns'].astype( int )"
   ]
  },
  {
   "cell_type": "code",
   "execution_count": 78,
   "metadata": {
    "ExecuteTime": {
     "end_time": "2022-11-09T09:32:02.137981Z",
     "start_time": "2022-11-09T09:32:02.133991Z"
    }
   },
   "outputs": [],
   "source": [
    "# #database conection\n",
    "# conn = create_engine( 'sqlite:///insiders_db.sqlite' )\n",
    "\n",
    "# ## drop table\n",
    "# #query_drop_insiders = \"\"\"\n",
    "# #    DROP TABLE insiders\n",
    "# #\"\"\"\n",
    "\n",
    "# # create table\n",
    "# query_create_insiders = \"\"\"\n",
    "#     CREATE TABLE insiders ( \n",
    "#         customer_id   INTEGER,\n",
    "#         gross_revenue REAL,\n",
    "#         recency_days  INTEGER,\n",
    "#         qtde_products INTEGER,\n",
    "#         frequency     REAL,\n",
    "#         qtde_returns  INTEGER,\n",
    "#         cluster       INTEGER\n",
    "#     )\n",
    "# \"\"\"\n",
    "\n",
    "# conn.execute( query_create_insiders )"
   ]
  },
  {
   "cell_type": "code",
   "execution_count": 79,
   "metadata": {
    "ExecuteTime": {
     "end_time": "2022-11-09T09:32:03.153141Z",
     "start_time": "2022-11-09T09:32:03.075157Z"
    }
   },
   "outputs": [
    {
     "data": {
      "text/plain": [
       "5695"
      ]
     },
     "execution_count": 79,
     "metadata": {},
     "output_type": "execute_result"
    }
   ],
   "source": [
    "# insert data into\n",
    "df92.to_sql( 'insiders', con=conn, if_exists='append', index=False )"
   ]
  },
  {
   "cell_type": "code",
   "execution_count": 80,
   "metadata": {
    "ExecuteTime": {
     "end_time": "2022-11-09T09:32:04.348930Z",
     "start_time": "2022-11-09T09:32:04.345728Z"
    }
   },
   "outputs": [],
   "source": [
    "## get query\n",
    "#query_collect = \"\"\"\n",
    "#    SELECT * from insiders\n",
    "#\"\"\"\n",
    "#\n",
    "#df = pd.read_sql_query( query_collect, conn )\n",
    "#df.head()"
   ]
  },
  {
   "cell_type": "code",
   "execution_count": null,
   "metadata": {},
   "outputs": [],
   "source": []
  }
 ],
 "metadata": {
  "hide_input": false,
  "kernelspec": {
   "display_name": "Python 3 (ipykernel)",
   "language": "python",
   "name": "python3"
  },
  "language_info": {
   "codemirror_mode": {
    "name": "ipython",
    "version": 3
   },
   "file_extension": ".py",
   "mimetype": "text/x-python",
   "name": "python",
   "nbconvert_exporter": "python",
   "pygments_lexer": "ipython3",
   "version": "3.8.10"
  },
  "toc": {
   "base_numbering": "0",
   "nav_menu": {},
   "number_sections": true,
   "sideBar": true,
   "skip_h1_title": false,
   "title_cell": "Table of Contents",
   "title_sidebar": "Contents",
   "toc_cell": false,
   "toc_position": {
    "height": "calc(100% - 180px)",
    "left": "10px",
    "top": "150px",
    "width": "407.326px"
   },
   "toc_section_display": true,
   "toc_window_display": true
  },
  "vscode": {
   "interpreter": {
    "hash": "9d80e433dda83df00890f8efb72e5767e14b0f2f73f7f777b1899b19837ce6d9"
   }
  }
 },
 "nbformat": 4,
 "nbformat_minor": 4
}

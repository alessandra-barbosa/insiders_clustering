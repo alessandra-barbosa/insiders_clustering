{
 "cells": [
  {
   "cell_type": "markdown",
   "metadata": {
    "ExecuteTime": {
     "end_time": "2021-03-27T20:58:22.276780Z",
     "start_time": "2021-03-27T20:58:22.274533Z"
    }
   },
   "source": [
    "# PA005: High Value Customer Identification"
   ]
  },
  {
   "cell_type": "markdown",
   "metadata": {},
   "source": [
    "# 0.0. Imports"
   ]
  },
  {
   "cell_type": "code",
   "execution_count": 14,
   "metadata": {
    "ExecuteTime": {
     "end_time": "2021-09-15T00:36:41.198376Z",
     "start_time": "2021-09-15T00:36:41.181039Z"
    }
   },
   "outputs": [],
   "source": [
    "import re\n",
    "import numpy   as np\n",
    "import pandas  as pd\n",
    "import seaborn as sns\n",
    "\n",
    "import umap.umap_ as umap\n",
    "\n",
    "from matplotlib import pyplot as plt\n",
    "\n",
    "from sklearn import cluster       as c\n",
    "from sklearn import metrics       as m\n",
    "from sklearn import ensemble      as en\n",
    "from sklearn import preprocessing as pp\n",
    "from sklearn import decomposition as dd\n",
    "from sklearn import manifold      as mn\n",
    "from sklearn import mixture       as mx\n",
    "\n",
    "from plotly import express as px\n",
    "from scipy.cluster import hierarchy as hc\n",
    "from sqlalchemy import create_engine"
   ]
  },
  {
   "cell_type": "markdown",
   "metadata": {},
   "source": [
    "## 0.2. Load dataset"
   ]
  },
  {
   "cell_type": "code",
   "execution_count": 15,
   "metadata": {
    "ExecuteTime": {
     "end_time": "2021-09-15T01:11:08.301644Z",
     "start_time": "2021-09-15T01:11:08.283304Z"
    }
   },
   "outputs": [
    {
     "data": {
      "text/plain": [
       "'c:\\\\Users\\\\Utente77\\\\repos\\\\insiders_clustering_ecommerce\\\\notebooks'"
      ]
     },
     "execution_count": 15,
     "metadata": {},
     "output_type": "execute_result"
    }
   ],
   "source": [
    "pwd"
   ]
  },
  {
   "cell_type": "code",
   "execution_count": 16,
   "metadata": {
    "ExecuteTime": {
     "end_time": "2021-09-15T01:11:32.368828Z",
     "start_time": "2021-09-15T01:11:30.080444Z"
    }
   },
   "outputs": [],
   "source": [
    "# load data\n",
    "path = r'C:/Users/Utente77/repos/insiders_clustering_ecommerce'\n",
    "df_raw = pd.read_csv( path + '/data/raw/Ecommerce.csv' )\n",
    "\n",
    "# drop extra column\n",
    "df_raw = df_raw.drop( columns=['Unnamed: 8'], axis=1 )"
   ]
  },
  {
   "cell_type": "markdown",
   "metadata": {},
   "source": [
    "# <font color='red'> 1.0. Descrição dos dados </font>"
   ]
  },
  {
   "cell_type": "code",
   "execution_count": 17,
   "metadata": {
    "ExecuteTime": {
     "end_time": "2021-09-14T23:38:32.608131Z",
     "start_time": "2021-09-14T23:38:32.577483Z"
    }
   },
   "outputs": [],
   "source": [
    "df1 = df_raw.copy()"
   ]
  },
  {
   "cell_type": "code",
   "execution_count": 18,
   "metadata": {
    "ExecuteTime": {
     "end_time": "2021-09-14T23:38:32.674577Z",
     "start_time": "2021-09-14T23:38:32.617551Z"
    }
   },
   "outputs": [
    {
     "data": {
      "text/html": [
       "<div>\n",
       "<style scoped>\n",
       "    .dataframe tbody tr th:only-of-type {\n",
       "        vertical-align: middle;\n",
       "    }\n",
       "\n",
       "    .dataframe tbody tr th {\n",
       "        vertical-align: top;\n",
       "    }\n",
       "\n",
       "    .dataframe thead th {\n",
       "        text-align: right;\n",
       "    }\n",
       "</style>\n",
       "<table border=\"1\" class=\"dataframe\">\n",
       "  <thead>\n",
       "    <tr style=\"text-align: right;\">\n",
       "      <th></th>\n",
       "      <th>InvoiceNo</th>\n",
       "      <th>StockCode</th>\n",
       "      <th>Description</th>\n",
       "      <th>Quantity</th>\n",
       "      <th>InvoiceDate</th>\n",
       "      <th>UnitPrice</th>\n",
       "      <th>CustomerID</th>\n",
       "      <th>Country</th>\n",
       "    </tr>\n",
       "  </thead>\n",
       "  <tbody>\n",
       "    <tr>\n",
       "      <th>0</th>\n",
       "      <td>536365</td>\n",
       "      <td>85123A</td>\n",
       "      <td>WHITE HANGING HEART T-LIGHT HOLDER</td>\n",
       "      <td>6</td>\n",
       "      <td>29-Nov-16</td>\n",
       "      <td>2.55</td>\n",
       "      <td>17850.0</td>\n",
       "      <td>United Kingdom</td>\n",
       "    </tr>\n",
       "    <tr>\n",
       "      <th>1</th>\n",
       "      <td>536365</td>\n",
       "      <td>71053</td>\n",
       "      <td>WHITE METAL LANTERN</td>\n",
       "      <td>6</td>\n",
       "      <td>29-Nov-16</td>\n",
       "      <td>3.39</td>\n",
       "      <td>17850.0</td>\n",
       "      <td>United Kingdom</td>\n",
       "    </tr>\n",
       "    <tr>\n",
       "      <th>2</th>\n",
       "      <td>536365</td>\n",
       "      <td>84406B</td>\n",
       "      <td>CREAM CUPID HEARTS COAT HANGER</td>\n",
       "      <td>8</td>\n",
       "      <td>29-Nov-16</td>\n",
       "      <td>2.75</td>\n",
       "      <td>17850.0</td>\n",
       "      <td>United Kingdom</td>\n",
       "    </tr>\n",
       "    <tr>\n",
       "      <th>3</th>\n",
       "      <td>536365</td>\n",
       "      <td>84029G</td>\n",
       "      <td>KNITTED UNION FLAG HOT WATER BOTTLE</td>\n",
       "      <td>6</td>\n",
       "      <td>29-Nov-16</td>\n",
       "      <td>3.39</td>\n",
       "      <td>17850.0</td>\n",
       "      <td>United Kingdom</td>\n",
       "    </tr>\n",
       "    <tr>\n",
       "      <th>4</th>\n",
       "      <td>536365</td>\n",
       "      <td>84029E</td>\n",
       "      <td>RED WOOLLY HOTTIE WHITE HEART.</td>\n",
       "      <td>6</td>\n",
       "      <td>29-Nov-16</td>\n",
       "      <td>3.39</td>\n",
       "      <td>17850.0</td>\n",
       "      <td>United Kingdom</td>\n",
       "    </tr>\n",
       "  </tbody>\n",
       "</table>\n",
       "</div>"
      ],
      "text/plain": [
       "  InvoiceNo StockCode                          Description  Quantity  \\\n",
       "0    536365    85123A   WHITE HANGING HEART T-LIGHT HOLDER         6   \n",
       "1    536365     71053                  WHITE METAL LANTERN         6   \n",
       "2    536365    84406B       CREAM CUPID HEARTS COAT HANGER         8   \n",
       "3    536365    84029G  KNITTED UNION FLAG HOT WATER BOTTLE         6   \n",
       "4    536365    84029E       RED WOOLLY HOTTIE WHITE HEART.         6   \n",
       "\n",
       "  InvoiceDate  UnitPrice  CustomerID         Country  \n",
       "0   29-Nov-16       2.55     17850.0  United Kingdom  \n",
       "1   29-Nov-16       3.39     17850.0  United Kingdom  \n",
       "2   29-Nov-16       2.75     17850.0  United Kingdom  \n",
       "3   29-Nov-16       3.39     17850.0  United Kingdom  \n",
       "4   29-Nov-16       3.39     17850.0  United Kingdom  "
      ]
     },
     "execution_count": 18,
     "metadata": {},
     "output_type": "execute_result"
    }
   ],
   "source": [
    "df1.head()"
   ]
  },
  {
   "cell_type": "code",
   "execution_count": null,
   "metadata": {},
   "outputs": [],
   "source": []
  },
  {
   "cell_type": "markdown",
   "metadata": {},
   "source": [
    "## 1.1. Rename columuns"
   ]
  },
  {
   "cell_type": "code",
   "execution_count": 19,
   "metadata": {
    "ExecuteTime": {
     "end_time": "2021-09-14T23:38:32.694386Z",
     "start_time": "2021-09-14T23:38:32.679849Z"
    }
   },
   "outputs": [],
   "source": [
    "cols_new = ['invoice_no', 'stock_code', 'description', 'quantity', 'invoice_date', 'unit_price', 'customer_id', 'country']\n",
    "df1.columns = cols_new"
   ]
  },
  {
   "cell_type": "markdown",
   "metadata": {},
   "source": [
    "## 1.2. Data dimensions"
   ]
  },
  {
   "cell_type": "code",
   "execution_count": 20,
   "metadata": {
    "ExecuteTime": {
     "end_time": "2021-09-14T23:38:32.714878Z",
     "start_time": "2021-09-14T23:38:32.704527Z"
    }
   },
   "outputs": [
    {
     "name": "stdout",
     "output_type": "stream",
     "text": [
      "Number of rows: 541909\n",
      "Number of cols: 8\n"
     ]
    }
   ],
   "source": [
    "print( 'Number of rows: {}'.format( df1.shape[0] ) )\n",
    "print( 'Number of cols: {}'.format( df1.shape[1] ) )"
   ]
  },
  {
   "cell_type": "markdown",
   "metadata": {},
   "source": [
    "## 1.3. Data types"
   ]
  },
  {
   "cell_type": "code",
   "execution_count": 21,
   "metadata": {
    "ExecuteTime": {
     "end_time": "2021-09-14T23:38:32.747843Z",
     "start_time": "2021-09-14T23:38:32.725963Z"
    }
   },
   "outputs": [
    {
     "data": {
      "text/plain": [
       "invoice_no       object\n",
       "stock_code       object\n",
       "description      object\n",
       "quantity          int64\n",
       "invoice_date     object\n",
       "unit_price      float64\n",
       "customer_id     float64\n",
       "country          object\n",
       "dtype: object"
      ]
     },
     "execution_count": 21,
     "metadata": {},
     "output_type": "execute_result"
    }
   ],
   "source": [
    "df1.dtypes"
   ]
  },
  {
   "cell_type": "markdown",
   "metadata": {},
   "source": [
    "## 1.4. Check NA"
   ]
  },
  {
   "cell_type": "code",
   "execution_count": 22,
   "metadata": {
    "ExecuteTime": {
     "end_time": "2021-09-14T23:38:33.075316Z",
     "start_time": "2021-09-14T23:38:32.763197Z"
    }
   },
   "outputs": [
    {
     "data": {
      "text/plain": [
       "invoice_no           0\n",
       "stock_code           0\n",
       "description       1454\n",
       "quantity             0\n",
       "invoice_date         0\n",
       "unit_price           0\n",
       "customer_id     135080\n",
       "country              0\n",
       "dtype: int64"
      ]
     },
     "execution_count": 22,
     "metadata": {},
     "output_type": "execute_result"
    }
   ],
   "source": [
    "df1.isna().sum()"
   ]
  },
  {
   "cell_type": "markdown",
   "metadata": {},
   "source": [
    "## 1.5. Replace NA"
   ]
  },
  {
   "cell_type": "code",
   "execution_count": 23,
   "metadata": {
    "ExecuteTime": {
     "end_time": "2021-09-14T23:38:33.092413Z",
     "start_time": "2021-09-14T23:38:33.081511Z"
    }
   },
   "outputs": [],
   "source": [
    "# Precisamos resolver o problema do NA"
   ]
  },
  {
   "cell_type": "code",
   "execution_count": 24,
   "metadata": {
    "ExecuteTime": {
     "end_time": "2021-09-14T23:38:33.183943Z",
     "start_time": "2021-09-14T23:38:33.097757Z"
    }
   },
   "outputs": [],
   "source": [
    "df_missing = df1.loc[df1['customer_id'].isna(), :]\n",
    "df_not_missing = df1.loc[~df1['customer_id'].isna(), :]"
   ]
  },
  {
   "cell_type": "code",
   "execution_count": 25,
   "metadata": {
    "ExecuteTime": {
     "end_time": "2021-09-14T23:38:33.854323Z",
     "start_time": "2021-09-14T23:38:33.190683Z"
    }
   },
   "outputs": [],
   "source": [
    "# create reference\n",
    "df_backup = pd.DataFrame( df_missing['invoice_no'].drop_duplicates() )\n",
    "df_backup['customer_id'] = np.arange( 19000, 19000+len( df_backup ), 1)\n",
    "\n",
    "# merge original with reference dataframe\n",
    "df1 = pd.merge( df1, df_backup, on='invoice_no', how='left' )\n",
    "\n",
    "# coalesce \n",
    "df1['customer_id'] = df1['customer_id_x'].combine_first( df1['customer_id_y'] )\n",
    "\n",
    "# drop extra columns\n",
    "df1 = df1.drop( columns=['customer_id_x', 'customer_id_y'], axis=1 )"
   ]
  },
  {
   "cell_type": "code",
   "execution_count": 26,
   "metadata": {
    "ExecuteTime": {
     "end_time": "2021-09-14T23:38:34.112281Z",
     "start_time": "2021-09-14T23:38:33.862664Z"
    }
   },
   "outputs": [
    {
     "data": {
      "text/plain": [
       "invoice_no         0\n",
       "stock_code         0\n",
       "description     1454\n",
       "quantity           0\n",
       "invoice_date       0\n",
       "unit_price         0\n",
       "country            0\n",
       "customer_id        0\n",
       "dtype: int64"
      ]
     },
     "execution_count": 26,
     "metadata": {},
     "output_type": "execute_result"
    }
   ],
   "source": [
    "df1.isna().sum()"
   ]
  },
  {
   "cell_type": "markdown",
   "metadata": {},
   "source": [
    "## 1.6. Change dtypes"
   ]
  },
  {
   "cell_type": "code",
   "execution_count": 27,
   "metadata": {
    "ExecuteTime": {
     "end_time": "2021-09-14T23:38:34.323776Z",
     "start_time": "2021-09-14T23:38:34.116970Z"
    }
   },
   "outputs": [
    {
     "data": {
      "text/html": [
       "<div>\n",
       "<style scoped>\n",
       "    .dataframe tbody tr th:only-of-type {\n",
       "        vertical-align: middle;\n",
       "    }\n",
       "\n",
       "    .dataframe tbody tr th {\n",
       "        vertical-align: top;\n",
       "    }\n",
       "\n",
       "    .dataframe thead th {\n",
       "        text-align: right;\n",
       "    }\n",
       "</style>\n",
       "<table border=\"1\" class=\"dataframe\">\n",
       "  <thead>\n",
       "    <tr style=\"text-align: right;\">\n",
       "      <th></th>\n",
       "      <th>invoice_no</th>\n",
       "      <th>stock_code</th>\n",
       "      <th>description</th>\n",
       "      <th>quantity</th>\n",
       "      <th>invoice_date</th>\n",
       "      <th>unit_price</th>\n",
       "      <th>country</th>\n",
       "      <th>customer_id</th>\n",
       "    </tr>\n",
       "  </thead>\n",
       "  <tbody>\n",
       "    <tr>\n",
       "      <th>0</th>\n",
       "      <td>536365</td>\n",
       "      <td>85123A</td>\n",
       "      <td>WHITE HANGING HEART T-LIGHT HOLDER</td>\n",
       "      <td>6</td>\n",
       "      <td>2016-11-29</td>\n",
       "      <td>2.55</td>\n",
       "      <td>United Kingdom</td>\n",
       "      <td>17850</td>\n",
       "    </tr>\n",
       "    <tr>\n",
       "      <th>1</th>\n",
       "      <td>536365</td>\n",
       "      <td>71053</td>\n",
       "      <td>WHITE METAL LANTERN</td>\n",
       "      <td>6</td>\n",
       "      <td>2016-11-29</td>\n",
       "      <td>3.39</td>\n",
       "      <td>United Kingdom</td>\n",
       "      <td>17850</td>\n",
       "    </tr>\n",
       "    <tr>\n",
       "      <th>2</th>\n",
       "      <td>536365</td>\n",
       "      <td>84406B</td>\n",
       "      <td>CREAM CUPID HEARTS COAT HANGER</td>\n",
       "      <td>8</td>\n",
       "      <td>2016-11-29</td>\n",
       "      <td>2.75</td>\n",
       "      <td>United Kingdom</td>\n",
       "      <td>17850</td>\n",
       "    </tr>\n",
       "    <tr>\n",
       "      <th>3</th>\n",
       "      <td>536365</td>\n",
       "      <td>84029G</td>\n",
       "      <td>KNITTED UNION FLAG HOT WATER BOTTLE</td>\n",
       "      <td>6</td>\n",
       "      <td>2016-11-29</td>\n",
       "      <td>3.39</td>\n",
       "      <td>United Kingdom</td>\n",
       "      <td>17850</td>\n",
       "    </tr>\n",
       "    <tr>\n",
       "      <th>4</th>\n",
       "      <td>536365</td>\n",
       "      <td>84029E</td>\n",
       "      <td>RED WOOLLY HOTTIE WHITE HEART.</td>\n",
       "      <td>6</td>\n",
       "      <td>2016-11-29</td>\n",
       "      <td>3.39</td>\n",
       "      <td>United Kingdom</td>\n",
       "      <td>17850</td>\n",
       "    </tr>\n",
       "  </tbody>\n",
       "</table>\n",
       "</div>"
      ],
      "text/plain": [
       "  invoice_no stock_code                          description  quantity  \\\n",
       "0     536365     85123A   WHITE HANGING HEART T-LIGHT HOLDER         6   \n",
       "1     536365      71053                  WHITE METAL LANTERN         6   \n",
       "2     536365     84406B       CREAM CUPID HEARTS COAT HANGER         8   \n",
       "3     536365     84029G  KNITTED UNION FLAG HOT WATER BOTTLE         6   \n",
       "4     536365     84029E       RED WOOLLY HOTTIE WHITE HEART.         6   \n",
       "\n",
       "  invoice_date  unit_price         country  customer_id  \n",
       "0   2016-11-29        2.55  United Kingdom        17850  \n",
       "1   2016-11-29        3.39  United Kingdom        17850  \n",
       "2   2016-11-29        2.75  United Kingdom        17850  \n",
       "3   2016-11-29        3.39  United Kingdom        17850  \n",
       "4   2016-11-29        3.39  United Kingdom        17850  "
      ]
     },
     "execution_count": 27,
     "metadata": {},
     "output_type": "execute_result"
    }
   ],
   "source": [
    "# invoice date\n",
    "df1['invoice_date'] = pd.to_datetime( df1['invoice_date'], format='%d-%b-%y' )\n",
    "\n",
    "# customer id\n",
    "df1['customer_id'] = df1['customer_id'].astype( int )\n",
    "df1.head()"
   ]
  },
  {
   "cell_type": "code",
   "execution_count": 28,
   "metadata": {
    "ExecuteTime": {
     "end_time": "2021-09-14T23:38:34.334365Z",
     "start_time": "2021-09-14T23:38:34.326260Z"
    }
   },
   "outputs": [
    {
     "data": {
      "text/plain": [
       "invoice_no              object\n",
       "stock_code              object\n",
       "description             object\n",
       "quantity                 int64\n",
       "invoice_date    datetime64[ns]\n",
       "unit_price             float64\n",
       "country                 object\n",
       "customer_id              int32\n",
       "dtype: object"
      ]
     },
     "execution_count": 28,
     "metadata": {},
     "output_type": "execute_result"
    }
   ],
   "source": [
    "df1.dtypes"
   ]
  },
  {
   "cell_type": "markdown",
   "metadata": {},
   "source": [
    "## 1.7. Descriptive Statistics"
   ]
  },
  {
   "cell_type": "code",
   "execution_count": 29,
   "metadata": {
    "ExecuteTime": {
     "end_time": "2021-09-14T23:38:34.402478Z",
     "start_time": "2021-09-14T23:38:34.343277Z"
    }
   },
   "outputs": [],
   "source": [
    "num_attributes = df1.select_dtypes( include=['int64', 'float64'] )\n",
    "cat_attributes = df1.select_dtypes( exclude=['int64', 'float64', 'datetime64[ns]'] )"
   ]
  },
  {
   "cell_type": "markdown",
   "metadata": {},
   "source": [
    "### 1.7.1. Numerical Attributs"
   ]
  },
  {
   "cell_type": "code",
   "execution_count": 30,
   "metadata": {
    "ExecuteTime": {
     "end_time": "2021-09-14T23:52:00.849112Z",
     "start_time": "2021-09-14T23:52:00.369660Z"
    }
   },
   "outputs": [
    {
     "data": {
      "text/html": [
       "<div>\n",
       "<style scoped>\n",
       "    .dataframe tbody tr th:only-of-type {\n",
       "        vertical-align: middle;\n",
       "    }\n",
       "\n",
       "    .dataframe tbody tr th {\n",
       "        vertical-align: top;\n",
       "    }\n",
       "\n",
       "    .dataframe thead th {\n",
       "        text-align: right;\n",
       "    }\n",
       "</style>\n",
       "<table border=\"1\" class=\"dataframe\">\n",
       "  <thead>\n",
       "    <tr style=\"text-align: right;\">\n",
       "      <th></th>\n",
       "      <th>attributes</th>\n",
       "      <th>min</th>\n",
       "      <th>max</th>\n",
       "      <th>range</th>\n",
       "      <th>mean</th>\n",
       "      <th>mediana</th>\n",
       "      <th>std</th>\n",
       "      <th>skew</th>\n",
       "      <th>kurtosis</th>\n",
       "    </tr>\n",
       "  </thead>\n",
       "  <tbody>\n",
       "    <tr>\n",
       "      <th>0</th>\n",
       "      <td>quantity</td>\n",
       "      <td>-80995.00</td>\n",
       "      <td>80995.0</td>\n",
       "      <td>161990.00</td>\n",
       "      <td>9.552250</td>\n",
       "      <td>3.00</td>\n",
       "      <td>218.080957</td>\n",
       "      <td>-0.264076</td>\n",
       "      <td>119769.160031</td>\n",
       "    </tr>\n",
       "    <tr>\n",
       "      <th>1</th>\n",
       "      <td>unit_price</td>\n",
       "      <td>-11062.06</td>\n",
       "      <td>38970.0</td>\n",
       "      <td>50032.06</td>\n",
       "      <td>4.611114</td>\n",
       "      <td>2.08</td>\n",
       "      <td>96.759764</td>\n",
       "      <td>186.506972</td>\n",
       "      <td>59005.719097</td>\n",
       "    </tr>\n",
       "  </tbody>\n",
       "</table>\n",
       "</div>"
      ],
      "text/plain": [
       "   attributes       min      max      range      mean  mediana         std  \\\n",
       "0    quantity -80995.00  80995.0  161990.00  9.552250     3.00  218.080957   \n",
       "1  unit_price -11062.06  38970.0   50032.06  4.611114     2.08   96.759764   \n",
       "\n",
       "         skew       kurtosis  \n",
       "0   -0.264076  119769.160031  \n",
       "1  186.506972   59005.719097  "
      ]
     },
     "execution_count": 30,
     "metadata": {},
     "output_type": "execute_result"
    }
   ],
   "source": [
    "# central tendency - mean, median\n",
    "ct1 = pd.DataFrame( num_attributes.apply( np.mean ) ).T\n",
    "ct2 = pd.DataFrame( num_attributes.apply( np.median ) ).T\n",
    "             \n",
    "# dispersion - desvio padrão, minimo, maximo, range, skew, kurtosis\n",
    "d1 = pd.DataFrame( num_attributes.apply( np.std ) ).T\n",
    "d2 = pd.DataFrame( num_attributes.apply( np.min ) ).T\n",
    "d3 = pd.DataFrame( num_attributes.apply( np.max ) ).T\n",
    "d4 = pd.DataFrame( num_attributes.apply( lambda x: x.max() - x.min() ) ).T\n",
    "d5 = pd.DataFrame( num_attributes.apply( lambda x: x.skew() ) ).T\n",
    "d6 = pd.DataFrame( num_attributes.apply( lambda x: x.kurtosis() ) ).T\n",
    "\n",
    "# concatenate\n",
    "m1 = pd.concat( [d2, d3, d4, ct1, ct2, d1, d5, d6] ).T.reset_index()\n",
    "m1.columns = ['attributes', 'min', 'max', 'range', 'mean', 'mediana', 'std', 'skew', 'kurtosis']\n",
    "m1"
   ]
  },
  {
   "cell_type": "markdown",
   "metadata": {},
   "source": [
    "### 1.7.2. Categorical Attributs"
   ]
  },
  {
   "cell_type": "markdown",
   "metadata": {},
   "source": [
    "#### Invoice No"
   ]
  },
  {
   "cell_type": "code",
   "execution_count": 31,
   "metadata": {
    "ExecuteTime": {
     "end_time": "2021-09-14T23:38:59.875795Z",
     "start_time": "2021-09-14T23:38:57.872578Z"
    }
   },
   "outputs": [
    {
     "name": "stdout",
     "output_type": "stream",
     "text": [
      "Total number of invoices: 9291\n",
      "Total number of negative quantity: 9288\n"
     ]
    }
   ],
   "source": [
    "# problema: Temos invoice com letras e numeros\n",
    "#df1['invoice_no'].astype( int )\n",
    "\n",
    "# identficacao: \n",
    "df_letter_invoices = df1.loc[df1['invoice_no'].apply( lambda x: bool( re.search( '[^0-9]+', x ) ) ), :]\n",
    "df_letter_invoices.head()\n",
    "\n",
    "print( 'Total number of invoices: {}'.format( len( df_letter_invoices ) ) )\n",
    "print( 'Total number of negative quantity: {}'.format( len( df_letter_invoices[ df_letter_invoices['quantity'] < 0 ] ) ) )"
   ]
  },
  {
   "cell_type": "markdown",
   "metadata": {},
   "source": [
    "#### Stock Code"
   ]
  },
  {
   "cell_type": "code",
   "execution_count": 32,
   "metadata": {
    "ExecuteTime": {
     "end_time": "2021-09-14T23:39:02.477039Z",
     "start_time": "2021-09-14T23:39:00.505700Z"
    }
   },
   "outputs": [
    {
     "data": {
      "text/plain": [
       "array(['POST', 'D', 'DOT', 'M', 'S', 'AMAZONFEE', 'm', 'DCGSSBOY',\n",
       "       'DCGSSGIRL', 'PADS', 'B', 'CRUK'], dtype=object)"
      ]
     },
     "execution_count": 32,
     "metadata": {},
     "output_type": "execute_result"
    }
   ],
   "source": [
    "# check stock codes only characters\n",
    "df1.loc[df1['stock_code'].apply( lambda x: bool( re.search( '^[a-zA-Z]+$', x ) ) ), 'stock_code'].unique()\n",
    "\n",
    "# Acão:\n",
    "## 1. Remove stock_code in ['POST', 'D', 'M', 'PADS', 'DOT', 'CRUK']"
   ]
  },
  {
   "cell_type": "markdown",
   "metadata": {},
   "source": [
    "# <font color='red'> 2.0. Filtragem de Variáveis </font>"
   ]
  },
  {
   "cell_type": "code",
   "execution_count": 33,
   "metadata": {
    "ExecuteTime": {
     "end_time": "2021-09-14T23:39:02.606423Z",
     "start_time": "2021-09-14T23:39:02.563210Z"
    }
   },
   "outputs": [],
   "source": [
    "df2 = df1.copy()"
   ]
  },
  {
   "cell_type": "code",
   "execution_count": 34,
   "metadata": {
    "ExecuteTime": {
     "end_time": "2021-09-14T23:39:03.014328Z",
     "start_time": "2021-09-14T23:39:02.998841Z"
    }
   },
   "outputs": [
    {
     "data": {
      "text/plain": [
       "invoice_no              object\n",
       "stock_code              object\n",
       "description             object\n",
       "quantity                 int64\n",
       "invoice_date    datetime64[ns]\n",
       "unit_price             float64\n",
       "country                 object\n",
       "customer_id              int32\n",
       "dtype: object"
      ]
     },
     "execution_count": 34,
     "metadata": {},
     "output_type": "execute_result"
    }
   ],
   "source": [
    "df2.dtypes"
   ]
  },
  {
   "cell_type": "code",
   "execution_count": 35,
   "metadata": {
    "ExecuteTime": {
     "end_time": "2021-09-14T23:39:04.824481Z",
     "start_time": "2021-09-14T23:39:04.267409Z"
    }
   },
   "outputs": [],
   "source": [
    "# === Numerical attributes ====\n",
    "df2 = df2.loc[df2['unit_price'] >= 0.04, :]\n",
    "\n",
    "# === Categorical attributes ====\n",
    "df2 = df2[~df2['stock_code'].isin( ['POST', 'D', 'DOT', 'M', 'S', 'AMAZONFEE', 'm', 'DCGSSBOY', 'DCGSSGIRL', 'PADS', 'B', 'CRUK'] ) ]\n",
    "\n",
    "# description\n",
    "df2 = df2.drop( columns='description', axis=1 )\n",
    "\n",
    "# map -  \n",
    "df2 = df2[~df2['country'].isin( ['European Community', 'Unspecified' ] ) ]\n",
    "\n",
    "# bad users\n",
    "df2 = df2[~df2['customer_id'].isin( [16446] )]\n",
    "\n",
    "# quantity\n",
    "df2_returns = df2.loc[df1['quantity'] < 0, :]\n",
    "df2_purchases = df2.loc[df1['quantity'] >= 0, :]"
   ]
  },
  {
   "cell_type": "markdown",
   "metadata": {},
   "source": [
    "# <font color='red'> 3.0. Feature Engineering </font>"
   ]
  },
  {
   "cell_type": "code",
   "execution_count": 36,
   "metadata": {
    "ExecuteTime": {
     "end_time": "2021-09-14T23:39:09.954705Z",
     "start_time": "2021-09-14T23:39:09.911937Z"
    }
   },
   "outputs": [],
   "source": [
    "df3 = df2.copy()"
   ]
  },
  {
   "cell_type": "markdown",
   "metadata": {},
   "source": [
    "## 3.1. Feature Creation"
   ]
  },
  {
   "cell_type": "code",
   "execution_count": 37,
   "metadata": {
    "ExecuteTime": {
     "end_time": "2021-09-14T23:41:51.533963Z",
     "start_time": "2021-09-14T23:41:51.473077Z"
    }
   },
   "outputs": [],
   "source": [
    "# data reference\n",
    "df_ref = df3.drop( ['invoice_no', 'stock_code', 'quantity', 'invoice_date', 'unit_price', 'country'], axis=1 ).drop_duplicates( ignore_index=True )"
   ]
  },
  {
   "cell_type": "code",
   "execution_count": 38,
   "metadata": {
    "ExecuteTime": {
     "end_time": "2021-09-14T23:41:51.830811Z",
     "start_time": "2021-09-14T23:41:51.826243Z"
    }
   },
   "outputs": [
    {
     "data": {
      "text/plain": [
       "(5786, 1)"
      ]
     },
     "execution_count": 38,
     "metadata": {},
     "output_type": "execute_result"
    }
   ],
   "source": [
    "df_ref.shape"
   ]
  },
  {
   "cell_type": "code",
   "execution_count": 39,
   "metadata": {
    "ExecuteTime": {
     "end_time": "2021-09-14T23:41:52.366872Z",
     "start_time": "2021-09-14T23:41:52.348446Z"
    }
   },
   "outputs": [
    {
     "data": {
      "text/plain": [
       "customer_id    0\n",
       "dtype: int64"
      ]
     },
     "execution_count": 39,
     "metadata": {},
     "output_type": "execute_result"
    }
   ],
   "source": [
    "df_ref.isna().sum()"
   ]
  },
  {
   "cell_type": "markdown",
   "metadata": {},
   "source": [
    "### 3.1.1. Gross Revenue"
   ]
  },
  {
   "cell_type": "code",
   "execution_count": 40,
   "metadata": {
    "ExecuteTime": {
     "end_time": "2021-09-14T23:41:54.324201Z",
     "start_time": "2021-09-14T23:41:54.234659Z"
    }
   },
   "outputs": [
    {
     "name": "stderr",
     "output_type": "stream",
     "text": [
      "C:\\Users\\Utente77\\AppData\\Local\\Temp\\ipykernel_21892\\206990356.py:2: SettingWithCopyWarning: \n",
      "A value is trying to be set on a copy of a slice from a DataFrame.\n",
      "Try using .loc[row_indexer,col_indexer] = value instead\n",
      "\n",
      "See the caveats in the documentation: https://pandas.pydata.org/pandas-docs/stable/user_guide/indexing.html#returning-a-view-versus-a-copy\n",
      "  df2_purchases.loc[:, 'gross_revenue'] = df2_purchases.loc[:, 'quantity'] * df2_purchases.loc[:, 'unit_price']\n"
     ]
    },
    {
     "data": {
      "text/plain": [
       "customer_id       0\n",
       "gross_revenue    91\n",
       "dtype: int64"
      ]
     },
     "execution_count": 40,
     "metadata": {},
     "output_type": "execute_result"
    }
   ],
   "source": [
    "# Gross Revenue ( Faturamento ) quantity * price\n",
    "df2_purchases.loc[:, 'gross_revenue'] = df2_purchases.loc[:, 'quantity'] * df2_purchases.loc[:, 'unit_price']\n",
    "\n",
    "# Monetary\n",
    "df_monetary = df2_purchases.loc[:, ['customer_id', 'gross_revenue']].groupby( 'customer_id' ).sum().reset_index()\n",
    "df_ref = pd.merge( df_ref, df_monetary, on='customer_id', how='left' )\n",
    "df_ref.isna().sum()"
   ]
  },
  {
   "cell_type": "markdown",
   "metadata": {},
   "source": [
    "### 3.1.2. Recency - Day from last purchase"
   ]
  },
  {
   "cell_type": "code",
   "execution_count": 41,
   "metadata": {
    "ExecuteTime": {
     "end_time": "2021-09-14T23:41:54.928214Z",
     "start_time": "2021-09-14T23:41:54.831394Z"
    }
   },
   "outputs": [
    {
     "data": {
      "text/plain": [
       "customer_id       0\n",
       "gross_revenue    91\n",
       "recency_days     91\n",
       "dtype: int64"
      ]
     },
     "execution_count": 41,
     "metadata": {},
     "output_type": "execute_result"
    }
   ],
   "source": [
    "# Recency - Last day purchase\n",
    "df_recency = df2_purchases.loc[:, ['customer_id', 'invoice_date']].groupby( 'customer_id' ).max().reset_index()\n",
    "df_recency['recency_days'] = ( df2['invoice_date'].max() - df_recency['invoice_date'] ).dt.days\n",
    "df_recency = df_recency[['customer_id', 'recency_days']].copy()\n",
    "df_ref = pd.merge( df_ref, df_recency, on='customer_id', how='left' )\n",
    "df_ref.isna().sum()"
   ]
  },
  {
   "cell_type": "markdown",
   "metadata": {},
   "source": [
    "### 3.1.5. Quantity of products purchased "
   ]
  },
  {
   "cell_type": "code",
   "execution_count": 42,
   "metadata": {
    "ExecuteTime": {
     "end_time": "2021-09-14T23:41:56.911690Z",
     "start_time": "2021-09-14T23:41:56.777879Z"
    }
   },
   "outputs": [
    {
     "data": {
      "text/plain": [
       "customer_id       0\n",
       "gross_revenue    91\n",
       "recency_days     91\n",
       "qtde_products    91\n",
       "dtype: int64"
      ]
     },
     "execution_count": 42,
     "metadata": {},
     "output_type": "execute_result"
    }
   ],
   "source": [
    "# Numero de produtos\n",
    "df_freq = (df2_purchases.loc[:, ['customer_id', 'stock_code']].groupby( 'customer_id' ).count()\n",
    "                                                           .reset_index()\n",
    "                                                           .rename( columns={'stock_code': 'qtde_products'} ) )\n",
    "df_ref = pd.merge( df_ref, df_freq, on='customer_id', how='left' )\n",
    "df_ref.isna().sum()"
   ]
  },
  {
   "cell_type": "markdown",
   "metadata": {},
   "source": [
    "### 3.1.8. Frequency Purchase "
   ]
  },
  {
   "cell_type": "code",
   "execution_count": 43,
   "metadata": {
    "ExecuteTime": {
     "end_time": "2021-09-14T23:42:02.227672Z",
     "start_time": "2021-09-14T23:41:58.129922Z"
    }
   },
   "outputs": [
    {
     "data": {
      "text/plain": [
       "customer_id       0\n",
       "gross_revenue    91\n",
       "recency_days     91\n",
       "qtde_products    91\n",
       "frequency        91\n",
       "dtype: int64"
      ]
     },
     "execution_count": 43,
     "metadata": {},
     "output_type": "execute_result"
    }
   ],
   "source": [
    "df_aux = ( df2_purchases[['customer_id', 'invoice_no', 'invoice_date']].drop_duplicates()\n",
    "                                                             .groupby( 'customer_id')\n",
    "                                                             .agg( max_ = ( 'invoice_date', 'max' ), \n",
    "                                                                   min_ = ( 'invoice_date', 'min' ),\n",
    "                                                                   days_= ( 'invoice_date', lambda x: ( ( x.max() - x.min() ).days ) + 1 ),\n",
    "                                                                   buy_ = ( 'invoice_no', 'count' ) ) ).reset_index()\n",
    "# Frequency\n",
    "df_aux['frequency'] = df_aux[['buy_', 'days_']].apply( lambda x: x['buy_'] / x['days_'] if  x['days_'] != 0 else 0, axis=1 )\n",
    "\n",
    "# Merge\n",
    "df_ref = pd.merge( df_ref, df_aux[['customer_id', 'frequency']], on='customer_id', how='left' )\n",
    "\n",
    "df_ref.isna().sum()"
   ]
  },
  {
   "cell_type": "markdown",
   "metadata": {},
   "source": [
    "### 3.1.9. Number of Returns "
   ]
  },
  {
   "cell_type": "code",
   "execution_count": 44,
   "metadata": {
    "ExecuteTime": {
     "end_time": "2021-09-14T23:42:02.313581Z",
     "start_time": "2021-09-14T23:42:02.233384Z"
    }
   },
   "outputs": [
    {
     "data": {
      "text/plain": [
       "customer_id       0\n",
       "gross_revenue    91\n",
       "recency_days     91\n",
       "qtde_products    91\n",
       "frequency        91\n",
       "qtde_returns      0\n",
       "dtype: int64"
      ]
     },
     "execution_count": 44,
     "metadata": {},
     "output_type": "execute_result"
    }
   ],
   "source": [
    "# Number of Returns\n",
    "df_returns = df2_returns[['customer_id', 'quantity']].groupby( 'customer_id' ).sum().reset_index().rename( columns={'quantity':'qtde_returns'} )\n",
    "df_returns['qtde_returns'] = df_returns['qtde_returns'] * -1\n",
    "\n",
    "df_ref = pd.merge( df_ref, df_returns, how='left', on='customer_id' )\n",
    "df_ref.loc[df_ref['qtde_returns'].isna(), 'qtde_returns'] = 0\n",
    "\n",
    "df_ref.isna().sum()"
   ]
  },
  {
   "cell_type": "markdown",
   "metadata": {},
   "source": [
    "# <font color='red'> 4.0. EDA ( Exploratory Data Analysis ) </font>"
   ]
  },
  {
   "cell_type": "code",
   "execution_count": 45,
   "metadata": {
    "ExecuteTime": {
     "end_time": "2021-09-14T23:42:33.696456Z",
     "start_time": "2021-09-14T23:42:33.678430Z"
    }
   },
   "outputs": [
    {
     "data": {
      "text/plain": [
       "customer_id      0\n",
       "gross_revenue    0\n",
       "recency_days     0\n",
       "qtde_products    0\n",
       "frequency        0\n",
       "qtde_returns     0\n",
       "dtype: int64"
      ]
     },
     "execution_count": 45,
     "metadata": {},
     "output_type": "execute_result"
    }
   ],
   "source": [
    "df4 = df_ref.dropna()\n",
    "df4.isna().sum()"
   ]
  },
  {
   "cell_type": "markdown",
   "metadata": {},
   "source": [
    "## 4.3. Estudo do Espaço"
   ]
  },
  {
   "cell_type": "code",
   "execution_count": 46,
   "metadata": {
    "ExecuteTime": {
     "end_time": "2021-09-14T23:43:50.129178Z",
     "start_time": "2021-09-14T23:43:50.121864Z"
    }
   },
   "outputs": [],
   "source": [
    "# selected dataset - (erro nos notebooks anteriores)\n",
    "cols_selected = ['customer_id', 'gross_revenue', 'recency_days', 'qtde_products', 'frequency', 'qtde_returns']\n",
    "df43 = df4[ cols_selected ].drop( columns='customer_id', axis=1 )"
   ]
  },
  {
   "cell_type": "code",
   "execution_count": 47,
   "metadata": {
    "ExecuteTime": {
     "end_time": "2021-09-14T23:44:21.224175Z",
     "start_time": "2021-09-14T23:44:21.173202Z"
    }
   },
   "outputs": [],
   "source": [
    "mm = pp.MinMaxScaler()\n",
    "\n",
    "df43['gross_revenue'] = mm.fit_transform( df43[['gross_revenue']] )\n",
    "df43['recency_days']  = mm.fit_transform( df43[['recency_days']] )\n",
    "df43['qtde_products'] = mm.fit_transform( df43[['qtde_products']])\n",
    "df43['frequency']     = mm.fit_transform( df43[['frequency']])\n",
    "df43['qtde_returns']  = mm.fit_transform( df43[['qtde_returns']])\n",
    "\n",
    "X = df43.copy()"
   ]
  },
  {
   "cell_type": "code",
   "execution_count": 48,
   "metadata": {
    "ExecuteTime": {
     "end_time": "2021-09-14T23:44:38.114956Z",
     "start_time": "2021-09-14T23:44:38.101576Z"
    }
   },
   "outputs": [
    {
     "data": {
      "text/plain": [
       "(5695, 5)"
      ]
     },
     "execution_count": 48,
     "metadata": {},
     "output_type": "execute_result"
    }
   ],
   "source": [
    "X.shape"
   ]
  },
  {
   "cell_type": "markdown",
   "metadata": {},
   "source": [
    "### 4.3.1. PCA"
   ]
  },
  {
   "cell_type": "code",
   "execution_count": 49,
   "metadata": {
    "ExecuteTime": {
     "end_time": "2021-09-14T23:44:40.710081Z",
     "start_time": "2021-09-14T23:44:40.354524Z"
    }
   },
   "outputs": [
    {
     "data": {
      "image/png": "[encoded data removed]",
      "text/plain": [
       "<Figure size 432x288 with 1 Axes>"
      ]
     },
     "metadata": {
      "needs_background": "light"
     },
     "output_type": "display_data"
    }
   ],
   "source": [
    "pca = dd.PCA( n_components=X.shape[1] )\n",
    "\n",
    "principal_components = pca.fit_transform( X )\n",
    "\n",
    "# plot explained variable\n",
    "features = range( pca.n_components_ )\n",
    "\n",
    "plt.bar( features, pca.explained_variance_ratio_, color='black' )\n",
    "\n",
    "# pca component\n",
    "df_pca = pd.DataFrame( principal_components )"
   ]
  },
  {
   "cell_type": "code",
   "execution_count": 50,
   "metadata": {
    "ExecuteTime": {
     "end_time": "2021-09-14T23:44:46.203615Z",
     "start_time": "2021-09-14T23:44:45.812401Z"
    }
   },
   "outputs": [
    {
     "data": {
      "text/plain": [
       "<AxesSubplot:xlabel='0', ylabel='1'>"
      ]
     },
     "execution_count": 50,
     "metadata": {},
     "output_type": "execute_result"
    },
    {
     "data": {
      "image/png": "[encoded data removed]",
      "text/plain": [
       "<Figure size 432x288 with 1 Axes>"
      ]
     },
     "metadata": {
      "needs_background": "light"
     },
     "output_type": "display_data"
    }
   ],
   "source": [
    "sns.scatterplot( x=0, y=1, data=df_pca )"
   ]
  },
  {
   "cell_type": "markdown",
   "metadata": {},
   "source": [
    "### 4.3.2. UMAP"
   ]
  },
  {
   "cell_type": "code",
   "execution_count": 51,
   "metadata": {
    "ExecuteTime": {
     "end_time": "2021-09-14T23:46:16.339325Z",
     "start_time": "2021-09-14T23:45:11.233289Z"
    }
   },
   "outputs": [
    {
     "data": {
      "text/plain": [
       "<AxesSubplot:xlabel='embedding_x', ylabel='embedding_y'>"
      ]
     },
     "execution_count": 51,
     "metadata": {},
     "output_type": "execute_result"
    },
    {
     "data": {
      "image/png": "[encoded data removed]",
      "text/plain": [
       "<Figure size 432x288 with 1 Axes>"
      ]
     },
     "metadata": {
      "needs_background": "light"
     },
     "output_type": "display_data"
    }
   ],
   "source": [
    "reducer = umap.UMAP( random_state=42 )\n",
    "embedding = reducer.fit_transform( X )\n",
    "\n",
    "# embedding\n",
    "df_umap = pd.DataFrame()\n",
    "df_umap['embedding_x'] = embedding[:, 0]\n",
    "df_umap['embedding_y'] = embedding[:, 1]\n",
    "\n",
    "# plot UMAP\n",
    "sns.scatterplot( x='embedding_x', \n",
    "                 y='embedding_y', \n",
    "                 data=df_umap )"
   ]
  },
  {
   "cell_type": "markdown",
   "metadata": {},
   "source": [
    "### 4.3.3. t-SNE"
   ]
  },
  {
   "cell_type": "code",
   "execution_count": 52,
   "metadata": {
    "ExecuteTime": {
     "end_time": "2021-09-14T23:48:31.891507Z",
     "start_time": "2021-09-14T23:47:31.637085Z"
    }
   },
   "outputs": [
    {
     "name": "stderr",
     "output_type": "stream",
     "text": [
      "c:\\Users\\Utente77\\Anaconda3\\envs\\pa005\\lib\\site-packages\\sklearn\\manifold\\_t_sne.py:795: FutureWarning: The default initialization in TSNE will change from 'random' to 'pca' in 1.2.\n",
      "  warnings.warn(\n",
      "c:\\Users\\Utente77\\Anaconda3\\envs\\pa005\\lib\\site-packages\\sklearn\\manifold\\_t_sne.py:805: FutureWarning: The default learning rate in TSNE will change from 200.0 to 'auto' in 1.2.\n",
      "  warnings.warn(\n"
     ]
    },
    {
     "data": {
      "text/plain": [
       "<AxesSubplot:xlabel='embedding_x', ylabel='embedding_y'>"
      ]
     },
     "execution_count": 52,
     "metadata": {},
     "output_type": "execute_result"
    },
    {
     "data": {
      "image/png": "[encoded data removed]",
      "text/plain": [
       "<Figure size 432x288 with 1 Axes>"
      ]
     },
     "metadata": {
      "needs_background": "light"
     },
     "output_type": "display_data"
    }
   ],
   "source": [
    "reducer = mn.TSNE( n_components=2, n_jobs=-1, random_state=42 )\n",
    "embedding = reducer.fit_transform( X )\n",
    "\n",
    "# embedding\n",
    "df_tsne = pd.DataFrame()\n",
    "df_tsne['embedding_x'] = embedding[:, 0]\n",
    "df_tsne['embedding_y'] = embedding[:, 1]\n",
    "\n",
    "# plot UMAP\n",
    "sns.scatterplot( x='embedding_x', \n",
    "                 y='embedding_y', \n",
    "                 data=df_tsne )"
   ]
  },
  {
   "cell_type": "markdown",
   "metadata": {},
   "source": [
    "### 4.3.4. Tree-Based Embedding"
   ]
  },
  {
   "cell_type": "code",
   "execution_count": 53,
   "metadata": {},
   "outputs": [],
   "source": [
    "#model = load_picke( 'rf_model.pkl' )\n",
    "#\n",
    "#X1 # 20 new users\n",
    "#\n",
    "#df_leaf = model.apply( X1 )\n",
    "#\n",
    "#KMeans ->"
   ]
  },
  {
   "cell_type": "code",
   "execution_count": 54,
   "metadata": {
    "ExecuteTime": {
     "end_time": "2021-09-14T23:48:35.453525Z",
     "start_time": "2021-09-14T23:48:31.905368Z"
    }
   },
   "outputs": [],
   "source": [
    "# training dataset\n",
    "X = df43.drop( columns=['gross_revenue'], axis=1 )\n",
    "y = df43['gross_revenue']\n",
    "\n",
    "# model definition\n",
    "rf_model = en.RandomForestRegressor( n_estimators=100, random_state=42 )\n",
    "\n",
    "# model training\n",
    "rf_model.fit( X, y )\n",
    "\n",
    "# Leaf \n",
    "df_leaf = pd.DataFrame( rf_model.apply( X ) )"
   ]
  },
  {
   "cell_type": "code",
   "execution_count": 55,
   "metadata": {
    "ExecuteTime": {
     "end_time": "2021-09-14T23:49:00.797747Z",
     "start_time": "2021-09-14T23:48:35.475144Z"
    }
   },
   "outputs": [
    {
     "name": "stderr",
     "output_type": "stream",
     "text": [
      "c:\\Users\\Utente77\\Anaconda3\\envs\\pa005\\lib\\site-packages\\sklearn\\manifold\\_spectral_embedding.py:259: UserWarning: Graph is not fully connected, spectral embedding may not work as expected.\n",
      "  warnings.warn(\n"
     ]
    },
    {
     "data": {
      "text/plain": [
       "<AxesSubplot:xlabel='embedding_x', ylabel='embedding_y'>"
      ]
     },
     "execution_count": 55,
     "metadata": {},
     "output_type": "execute_result"
    },
    {
     "data": {
      "image/png": "[encoded data removed]",
      "text/plain": [
       "<Figure size 432x288 with 1 Axes>"
      ]
     },
     "metadata": {
      "needs_background": "light"
     },
     "output_type": "display_data"
    }
   ],
   "source": [
    "# Reduzer dimensionality\n",
    "reducer = umap.UMAP( random_state=42 )\n",
    "embedding = reducer.fit_transform( df_leaf )\n",
    "\n",
    "# embedding\n",
    "df_tree = pd.DataFrame()\n",
    "df_tree['embedding_x'] = embedding[:, 0]\n",
    "df_tree['embedding_y'] = embedding[:, 1]\n",
    "\n",
    "# plot UMAP\n",
    "sns.scatterplot( x='embedding_x', \n",
    "                 y='embedding_y', \n",
    "                 data=df_tree )"
   ]
  },
  {
   "cell_type": "markdown",
   "metadata": {},
   "source": [
    "# <font color='red'> 5.0. Data Preparation </font>"
   ]
  },
  {
   "cell_type": "code",
   "execution_count": 56,
   "metadata": {
    "ExecuteTime": {
     "end_time": "2021-09-15T00:30:06.193237Z",
     "start_time": "2021-09-15T00:30:06.122370Z"
    }
   },
   "outputs": [],
   "source": [
    "# Tree-Based Embedding\n",
    "df5 = df_tree.copy()\n",
    "\n",
    "# UMAP Embedding\n",
    "#df5 = df_umap.copy()\n",
    "\n",
    "# TSNE Embedding\n",
    "#df5 = df_tsne.copy()"
   ]
  },
  {
   "cell_type": "markdown",
   "metadata": {},
   "source": [
    "# <font color='red'> 6.0. Hyperparameter Fine-Tunning </font>"
   ]
  },
  {
   "cell_type": "code",
   "execution_count": 57,
   "metadata": {
    "ExecuteTime": {
     "end_time": "2021-09-15T00:11:56.575498Z",
     "start_time": "2021-09-15T00:11:56.567389Z"
    }
   },
   "outputs": [],
   "source": [
    "X = df5.copy()"
   ]
  },
  {
   "cell_type": "code",
   "execution_count": 58,
   "metadata": {
    "ExecuteTime": {
     "end_time": "2021-09-15T00:11:56.745669Z",
     "start_time": "2021-09-15T00:11:56.724116Z"
    }
   },
   "outputs": [
    {
     "data": {
      "text/html": [
       "<div>\n",
       "<style scoped>\n",
       "    .dataframe tbody tr th:only-of-type {\n",
       "        vertical-align: middle;\n",
       "    }\n",
       "\n",
       "    .dataframe tbody tr th {\n",
       "        vertical-align: top;\n",
       "    }\n",
       "\n",
       "    .dataframe thead th {\n",
       "        text-align: right;\n",
       "    }\n",
       "</style>\n",
       "<table border=\"1\" class=\"dataframe\">\n",
       "  <thead>\n",
       "    <tr style=\"text-align: right;\">\n",
       "      <th></th>\n",
       "      <th>embedding_x</th>\n",
       "      <th>embedding_y</th>\n",
       "    </tr>\n",
       "  </thead>\n",
       "  <tbody>\n",
       "    <tr>\n",
       "      <th>0</th>\n",
       "      <td>-8.333260</td>\n",
       "      <td>4.208062</td>\n",
       "    </tr>\n",
       "    <tr>\n",
       "      <th>1</th>\n",
       "      <td>-0.516423</td>\n",
       "      <td>7.140542</td>\n",
       "    </tr>\n",
       "    <tr>\n",
       "      <th>2</th>\n",
       "      <td>-8.006021</td>\n",
       "      <td>4.491998</td>\n",
       "    </tr>\n",
       "    <tr>\n",
       "      <th>3</th>\n",
       "      <td>15.915444</td>\n",
       "      <td>-3.675546</td>\n",
       "    </tr>\n",
       "    <tr>\n",
       "      <th>4</th>\n",
       "      <td>-14.869764</td>\n",
       "      <td>-10.958814</td>\n",
       "    </tr>\n",
       "  </tbody>\n",
       "</table>\n",
       "</div>"
      ],
      "text/plain": [
       "   embedding_x  embedding_y\n",
       "0    -8.333260     4.208062\n",
       "1    -0.516423     7.140542\n",
       "2    -8.006021     4.491998\n",
       "3    15.915444    -3.675546\n",
       "4   -14.869764   -10.958814"
      ]
     },
     "execution_count": 58,
     "metadata": {},
     "output_type": "execute_result"
    }
   ],
   "source": [
    "X.head()"
   ]
  },
  {
   "cell_type": "code",
   "execution_count": 59,
   "metadata": {
    "ExecuteTime": {
     "end_time": "2021-09-15T00:11:56.927758Z",
     "start_time": "2021-09-15T00:11:56.920223Z"
    }
   },
   "outputs": [
    {
     "data": {
      "text/plain": [
       "array([ 2,  3,  4,  5,  6,  7,  8,  9, 10, 11, 12, 13, 14, 15, 16, 17, 18,\n",
       "       19, 20, 21, 22, 23, 24])"
      ]
     },
     "execution_count": 59,
     "metadata": {},
     "output_type": "execute_result"
    }
   ],
   "source": [
    "#clusters = [2, 3, 4, 5, 6, 7, 8, 9]\n",
    "clusters = np.arange( 2, 25, 1)\n",
    "clusters"
   ]
  },
  {
   "cell_type": "markdown",
   "metadata": {},
   "source": [
    "## 6.1. K-Means"
   ]
  },
  {
   "cell_type": "code",
   "execution_count": 60,
   "metadata": {
    "ExecuteTime": {
     "end_time": "2021-09-15T00:15:33.548662Z",
     "start_time": "2021-09-15T00:11:57.210591Z"
    }
   },
   "outputs": [],
   "source": [
    "kmeans_list = []\n",
    "for k in clusters:\n",
    "    # model definition\n",
    "    kmeans_model = c.KMeans( n_clusters=k, n_init=100, random_state=42 )\n",
    "\n",
    "    # model training\n",
    "    kmeans_model.fit( X )\n",
    "\n",
    "    # model predict\n",
    "    labels = kmeans_model.predict( X )\n",
    "\n",
    "    # model performance\n",
    "    sil = m.silhouette_score( X, labels, metric='euclidean' )\n",
    "    kmeans_list.append( sil )"
   ]
  },
  {
   "cell_type": "code",
   "execution_count": 61,
   "metadata": {
    "ExecuteTime": {
     "end_time": "2021-09-15T00:15:34.091920Z",
     "start_time": "2021-09-15T00:15:33.559193Z"
    }
   },
   "outputs": [
    {
     "data": {
      "image/png": "[encoded data removed]",
      "text/plain": [
       "<Figure size 432x288 with 1 Axes>"
      ]
     },
     "metadata": {
      "needs_background": "light"
     },
     "output_type": "display_data"
    }
   ],
   "source": [
    "plt.plot( clusters, kmeans_list, linestyle='--', marker='o', color='b' )\n",
    "plt.xlabel( 'K' );\n",
    "plt.ylabel( 'Silhouette Score' );\n",
    "plt.title( 'Silhouette Score x K' );"
   ]
  },
  {
   "cell_type": "markdown",
   "metadata": {},
   "source": [
    "## 6.2. GMM"
   ]
  },
  {
   "cell_type": "code",
   "execution_count": 87,
   "metadata": {
    "ExecuteTime": {
     "end_time": "2021-09-15T00:18:07.269999Z",
     "start_time": "2021-09-15T00:15:34.101375Z"
    }
   },
   "outputs": [],
   "source": [
    "gmm_list = []\n",
    "for k in clusters:\n",
    "    # model definition\n",
    "    gmm_model = mx.GaussianMixture( n_components=k, n_init=100, random_state=42 )\n",
    "\n",
    "    # model training\n",
    "    gmm_model.fit( X )\n",
    "\n",
    "    # model predict\n",
    "    labels = gmm_model.predict( X )\n",
    "\n",
    "    # model performance\n",
    "    sil = m.silhouette_score( X, labels, metric='euclidean' )\n",
    "    gmm_list.append( sil )"
   ]
  },
  {
   "cell_type": "code",
   "execution_count": 109,
   "metadata": {
    "ExecuteTime": {
     "end_time": "2021-09-15T00:18:07.697602Z",
     "start_time": "2021-09-15T00:18:07.274947Z"
    }
   },
   "outputs": [
    {
     "data": {
      "image/png": "[encoded data removed]",
      "text/plain": [
       "<Figure size 432x288 with 1 Axes>"
      ]
     },
     "metadata": {
      "needs_background": "light"
     },
     "output_type": "display_data"
    }
   ],
   "source": [
    "plt.plot( clusters, gmm_list, linestyle='--', marker='o', color='b' )\n",
    "plt.xlabel( 'k');\n",
    "plt.ylabel( 'Silhouette Score');\n",
    "plt.title( 'Sil x K');"
   ]
  },
  {
   "cell_type": "markdown",
   "metadata": {},
   "source": [
    "## 6.3. Hierarchical Clustering"
   ]
  },
  {
   "cell_type": "code",
   "execution_count": 110,
   "metadata": {
    "ExecuteTime": {
     "end_time": "2021-09-15T00:18:09.505993Z",
     "start_time": "2021-09-15T00:18:07.702695Z"
    }
   },
   "outputs": [],
   "source": [
    "# model definition and training\n",
    "hc_model = hc.linkage( X, 'ward' )"
   ]
  },
  {
   "cell_type": "markdown",
   "metadata": {},
   "source": [
    "### 6.3.1. HClustering Silhouette Score"
   ]
  },
  {
   "cell_type": "code",
   "execution_count": 111,
   "metadata": {
    "ExecuteTime": {
     "end_time": "2021-09-15T00:19:15.247420Z",
     "start_time": "2021-09-15T00:18:09.520162Z"
    }
   },
   "outputs": [],
   "source": [
    "hc_list = []\n",
    "for k in clusters:\n",
    "    # model definition & training\n",
    "    hc_model = hc.linkage( X, 'ward' )\n",
    "\n",
    "    # model predict\n",
    "    labels = hc.fcluster( hc_model, k, criterion='maxclust' )\n",
    "\n",
    "    # metrics\n",
    "    sil = m.silhouette_score( X, labels, metric='euclidean' )\n",
    "    hc_list.append( sil )"
   ]
  },
  {
   "cell_type": "code",
   "execution_count": 112,
   "metadata": {
    "ExecuteTime": {
     "end_time": "2021-09-15T00:19:15.776428Z",
     "start_time": "2021-09-15T00:19:15.252332Z"
    }
   },
   "outputs": [
    {
     "data": {
      "text/plain": [
       "[<matplotlib.lines.Line2D at 0x1b9b2f104c0>]"
      ]
     },
     "execution_count": 112,
     "metadata": {},
     "output_type": "execute_result"
    },
    {
     "data": {
      "image/png": "[encoded data removed]",
      "text/plain": [
       "<Figure size 432x288 with 1 Axes>"
      ]
     },
     "metadata": {
      "needs_background": "light"
     },
     "output_type": "display_data"
    }
   ],
   "source": [
    "plt.plot( clusters,  hc_list, linestyle='--', marker='o', color='b' )"
   ]
  },
  {
   "cell_type": "code",
   "execution_count": 113,
   "metadata": {
    "ExecuteTime": {
     "end_time": "2021-09-14T23:58:52.153423Z",
     "start_time": "2021-09-14T23:58:51.953768Z"
    },
    "cell_style": "split"
   },
   "outputs": [
    {
     "data": {
      "text/html": [
       "<style type=\"text/css\">\n",
       "#T_e3ba4_row0_col17, #T_e3ba4_row1_col22, #T_e3ba4_row2_col22 {\n",
       "  background-color: lightgreen;\n",
       "}\n",
       "</style>\n",
       "<table id=\"T_e3ba4\">\n",
       "  <thead>\n",
       "    <tr>\n",
       "      <th class=\"blank level0\" >&nbsp;</th>\n",
       "      <th id=\"T_e3ba4_level0_col0\" class=\"col_heading level0 col0\" >2</th>\n",
       "      <th id=\"T_e3ba4_level0_col1\" class=\"col_heading level0 col1\" >3</th>\n",
       "      <th id=\"T_e3ba4_level0_col2\" class=\"col_heading level0 col2\" >4</th>\n",
       "      <th id=\"T_e3ba4_level0_col3\" class=\"col_heading level0 col3\" >5</th>\n",
       "      <th id=\"T_e3ba4_level0_col4\" class=\"col_heading level0 col4\" >6</th>\n",
       "      <th id=\"T_e3ba4_level0_col5\" class=\"col_heading level0 col5\" >7</th>\n",
       "      <th id=\"T_e3ba4_level0_col6\" class=\"col_heading level0 col6\" >8</th>\n",
       "      <th id=\"T_e3ba4_level0_col7\" class=\"col_heading level0 col7\" >9</th>\n",
       "      <th id=\"T_e3ba4_level0_col8\" class=\"col_heading level0 col8\" >10</th>\n",
       "      <th id=\"T_e3ba4_level0_col9\" class=\"col_heading level0 col9\" >11</th>\n",
       "      <th id=\"T_e3ba4_level0_col10\" class=\"col_heading level0 col10\" >12</th>\n",
       "      <th id=\"T_e3ba4_level0_col11\" class=\"col_heading level0 col11\" >13</th>\n",
       "      <th id=\"T_e3ba4_level0_col12\" class=\"col_heading level0 col12\" >14</th>\n",
       "      <th id=\"T_e3ba4_level0_col13\" class=\"col_heading level0 col13\" >15</th>\n",
       "      <th id=\"T_e3ba4_level0_col14\" class=\"col_heading level0 col14\" >16</th>\n",
       "      <th id=\"T_e3ba4_level0_col15\" class=\"col_heading level0 col15\" >17</th>\n",
       "      <th id=\"T_e3ba4_level0_col16\" class=\"col_heading level0 col16\" >18</th>\n",
       "      <th id=\"T_e3ba4_level0_col17\" class=\"col_heading level0 col17\" >19</th>\n",
       "      <th id=\"T_e3ba4_level0_col18\" class=\"col_heading level0 col18\" >20</th>\n",
       "      <th id=\"T_e3ba4_level0_col19\" class=\"col_heading level0 col19\" >21</th>\n",
       "      <th id=\"T_e3ba4_level0_col20\" class=\"col_heading level0 col20\" >22</th>\n",
       "      <th id=\"T_e3ba4_level0_col21\" class=\"col_heading level0 col21\" >23</th>\n",
       "      <th id=\"T_e3ba4_level0_col22\" class=\"col_heading level0 col22\" >24</th>\n",
       "    </tr>\n",
       "  </thead>\n",
       "  <tbody>\n",
       "    <tr>\n",
       "      <th id=\"T_e3ba4_level0_row0\" class=\"row_heading level0 row0\" >KMeans</th>\n",
       "      <td id=\"T_e3ba4_row0_col0\" class=\"data row0 col0\" >0.397213</td>\n",
       "      <td id=\"T_e3ba4_row0_col1\" class=\"data row0 col1\" >0.418320</td>\n",
       "      <td id=\"T_e3ba4_row0_col2\" class=\"data row0 col2\" >0.425786</td>\n",
       "      <td id=\"T_e3ba4_row0_col3\" class=\"data row0 col3\" >0.421770</td>\n",
       "      <td id=\"T_e3ba4_row0_col4\" class=\"data row0 col4\" >0.406009</td>\n",
       "      <td id=\"T_e3ba4_row0_col5\" class=\"data row0 col5\" >0.441153</td>\n",
       "      <td id=\"T_e3ba4_row0_col6\" class=\"data row0 col6\" >0.445064</td>\n",
       "      <td id=\"T_e3ba4_row0_col7\" class=\"data row0 col7\" >0.474998</td>\n",
       "      <td id=\"T_e3ba4_row0_col8\" class=\"data row0 col8\" >0.512975</td>\n",
       "      <td id=\"T_e3ba4_row0_col9\" class=\"data row0 col9\" >0.523191</td>\n",
       "      <td id=\"T_e3ba4_row0_col10\" class=\"data row0 col10\" >0.523716</td>\n",
       "      <td id=\"T_e3ba4_row0_col11\" class=\"data row0 col11\" >0.531408</td>\n",
       "      <td id=\"T_e3ba4_row0_col12\" class=\"data row0 col12\" >0.535454</td>\n",
       "      <td id=\"T_e3ba4_row0_col13\" class=\"data row0 col13\" >0.539929</td>\n",
       "      <td id=\"T_e3ba4_row0_col14\" class=\"data row0 col14\" >0.542379</td>\n",
       "      <td id=\"T_e3ba4_row0_col15\" class=\"data row0 col15\" >0.544997</td>\n",
       "      <td id=\"T_e3ba4_row0_col16\" class=\"data row0 col16\" >0.552448</td>\n",
       "      <td id=\"T_e3ba4_row0_col17\" class=\"data row0 col17\" >0.575766</td>\n",
       "      <td id=\"T_e3ba4_row0_col18\" class=\"data row0 col18\" >0.539346</td>\n",
       "      <td id=\"T_e3ba4_row0_col19\" class=\"data row0 col19\" >0.544882</td>\n",
       "      <td id=\"T_e3ba4_row0_col20\" class=\"data row0 col20\" >0.546803</td>\n",
       "      <td id=\"T_e3ba4_row0_col21\" class=\"data row0 col21\" >0.551639</td>\n",
       "      <td id=\"T_e3ba4_row0_col22\" class=\"data row0 col22\" >0.569755</td>\n",
       "    </tr>\n",
       "    <tr>\n",
       "      <th id=\"T_e3ba4_level0_row1\" class=\"row_heading level0 row1\" >GMM</th>\n",
       "      <td id=\"T_e3ba4_row1_col0\" class=\"data row1 col0\" >0.393079</td>\n",
       "      <td id=\"T_e3ba4_row1_col1\" class=\"data row1 col1\" >0.403215</td>\n",
       "      <td id=\"T_e3ba4_row1_col2\" class=\"data row1 col2\" >0.348875</td>\n",
       "      <td id=\"T_e3ba4_row1_col3\" class=\"data row1 col3\" >0.342665</td>\n",
       "      <td id=\"T_e3ba4_row1_col4\" class=\"data row1 col4\" >0.302389</td>\n",
       "      <td id=\"T_e3ba4_row1_col5\" class=\"data row1 col5\" >0.290801</td>\n",
       "      <td id=\"T_e3ba4_row1_col6\" class=\"data row1 col6\" >0.351306</td>\n",
       "      <td id=\"T_e3ba4_row1_col7\" class=\"data row1 col7\" >0.426385</td>\n",
       "      <td id=\"T_e3ba4_row1_col8\" class=\"data row1 col8\" >0.438101</td>\n",
       "      <td id=\"T_e3ba4_row1_col9\" class=\"data row1 col9\" >0.437358</td>\n",
       "      <td id=\"T_e3ba4_row1_col10\" class=\"data row1 col10\" >0.476678</td>\n",
       "      <td id=\"T_e3ba4_row1_col11\" class=\"data row1 col11\" >0.485544</td>\n",
       "      <td id=\"T_e3ba4_row1_col12\" class=\"data row1 col12\" >0.459012</td>\n",
       "      <td id=\"T_e3ba4_row1_col13\" class=\"data row1 col13\" >0.496734</td>\n",
       "      <td id=\"T_e3ba4_row1_col14\" class=\"data row1 col14\" >0.490487</td>\n",
       "      <td id=\"T_e3ba4_row1_col15\" class=\"data row1 col15\" >0.534650</td>\n",
       "      <td id=\"T_e3ba4_row1_col16\" class=\"data row1 col16\" >0.525189</td>\n",
       "      <td id=\"T_e3ba4_row1_col17\" class=\"data row1 col17\" >0.541205</td>\n",
       "      <td id=\"T_e3ba4_row1_col18\" class=\"data row1 col18\" >0.533208</td>\n",
       "      <td id=\"T_e3ba4_row1_col19\" class=\"data row1 col19\" >0.529612</td>\n",
       "      <td id=\"T_e3ba4_row1_col20\" class=\"data row1 col20\" >0.519574</td>\n",
       "      <td id=\"T_e3ba4_row1_col21\" class=\"data row1 col21\" >0.529535</td>\n",
       "      <td id=\"T_e3ba4_row1_col22\" class=\"data row1 col22\" >0.554264</td>\n",
       "    </tr>\n",
       "    <tr>\n",
       "      <th id=\"T_e3ba4_level0_row2\" class=\"row_heading level0 row2\" >HC</th>\n",
       "      <td id=\"T_e3ba4_row2_col0\" class=\"data row2 col0\" >0.377311</td>\n",
       "      <td id=\"T_e3ba4_row2_col1\" class=\"data row2 col1\" >0.376103</td>\n",
       "      <td id=\"T_e3ba4_row2_col2\" class=\"data row2 col2\" >0.393633</td>\n",
       "      <td id=\"T_e3ba4_row2_col3\" class=\"data row2 col3\" >0.395241</td>\n",
       "      <td id=\"T_e3ba4_row2_col4\" class=\"data row2 col4\" >0.403459</td>\n",
       "      <td id=\"T_e3ba4_row2_col5\" class=\"data row2 col5\" >0.389780</td>\n",
       "      <td id=\"T_e3ba4_row2_col6\" class=\"data row2 col6\" >0.394479</td>\n",
       "      <td id=\"T_e3ba4_row2_col7\" class=\"data row2 col7\" >0.437786</td>\n",
       "      <td id=\"T_e3ba4_row2_col8\" class=\"data row2 col8\" >0.478772</td>\n",
       "      <td id=\"T_e3ba4_row2_col9\" class=\"data row2 col9\" >0.486964</td>\n",
       "      <td id=\"T_e3ba4_row2_col10\" class=\"data row2 col10\" >0.515840</td>\n",
       "      <td id=\"T_e3ba4_row2_col11\" class=\"data row2 col11\" >0.524143</td>\n",
       "      <td id=\"T_e3ba4_row2_col12\" class=\"data row2 col12\" >0.526128</td>\n",
       "      <td id=\"T_e3ba4_row2_col13\" class=\"data row2 col13\" >0.526594</td>\n",
       "      <td id=\"T_e3ba4_row2_col14\" class=\"data row2 col14\" >0.511242</td>\n",
       "      <td id=\"T_e3ba4_row2_col15\" class=\"data row2 col15\" >0.517926</td>\n",
       "      <td id=\"T_e3ba4_row2_col16\" class=\"data row2 col16\" >0.534616</td>\n",
       "      <td id=\"T_e3ba4_row2_col17\" class=\"data row2 col17\" >0.535130</td>\n",
       "      <td id=\"T_e3ba4_row2_col18\" class=\"data row2 col18\" >0.542474</td>\n",
       "      <td id=\"T_e3ba4_row2_col19\" class=\"data row2 col19\" >0.551210</td>\n",
       "      <td id=\"T_e3ba4_row2_col20\" class=\"data row2 col20\" >0.553238</td>\n",
       "      <td id=\"T_e3ba4_row2_col21\" class=\"data row2 col21\" >0.552785</td>\n",
       "      <td id=\"T_e3ba4_row2_col22\" class=\"data row2 col22\" >0.560796</td>\n",
       "    </tr>\n",
       "  </tbody>\n",
       "</table>\n"
      ],
      "text/plain": [
       "<pandas.io.formats.style.Styler at 0x1b9b2e1e490>"
      ]
     },
     "execution_count": 113,
     "metadata": {},
     "output_type": "execute_result"
    }
   ],
   "source": [
    "## 6.5. Results - Tree Based Embedding\n",
    "\n",
    "df_results = pd.DataFrame( \n",
    "    {'KMeans': kmeans_list, \n",
    "     'GMM': gmm_list, \n",
    "     'HC': hc_list}\n",
    ").T\n",
    "\n",
    "df_results.columns = clusters\n",
    "df_results.style.highlight_max( color='lightgreen', axis=1 )"
   ]
  },
  {
   "cell_type": "code",
   "execution_count": 114,
   "metadata": {
    "ExecuteTime": {
     "end_time": "2021-09-15T00:19:15.903309Z",
     "start_time": "2021-09-15T00:19:15.782467Z"
    },
    "cell_style": "split"
   },
   "outputs": [
    {
     "data": {
      "text/html": [
       "<style type=\"text/css\">\n",
       "#T_43178_row0_col17, #T_43178_row1_col22, #T_43178_row2_col22 {\n",
       "  background-color: lightgreen;\n",
       "}\n",
       "</style>\n",
       "<table id=\"T_43178\">\n",
       "  <thead>\n",
       "    <tr>\n",
       "      <th class=\"blank level0\" >&nbsp;</th>\n",
       "      <th id=\"T_43178_level0_col0\" class=\"col_heading level0 col0\" >2</th>\n",
       "      <th id=\"T_43178_level0_col1\" class=\"col_heading level0 col1\" >3</th>\n",
       "      <th id=\"T_43178_level0_col2\" class=\"col_heading level0 col2\" >4</th>\n",
       "      <th id=\"T_43178_level0_col3\" class=\"col_heading level0 col3\" >5</th>\n",
       "      <th id=\"T_43178_level0_col4\" class=\"col_heading level0 col4\" >6</th>\n",
       "      <th id=\"T_43178_level0_col5\" class=\"col_heading level0 col5\" >7</th>\n",
       "      <th id=\"T_43178_level0_col6\" class=\"col_heading level0 col6\" >8</th>\n",
       "      <th id=\"T_43178_level0_col7\" class=\"col_heading level0 col7\" >9</th>\n",
       "      <th id=\"T_43178_level0_col8\" class=\"col_heading level0 col8\" >10</th>\n",
       "      <th id=\"T_43178_level0_col9\" class=\"col_heading level0 col9\" >11</th>\n",
       "      <th id=\"T_43178_level0_col10\" class=\"col_heading level0 col10\" >12</th>\n",
       "      <th id=\"T_43178_level0_col11\" class=\"col_heading level0 col11\" >13</th>\n",
       "      <th id=\"T_43178_level0_col12\" class=\"col_heading level0 col12\" >14</th>\n",
       "      <th id=\"T_43178_level0_col13\" class=\"col_heading level0 col13\" >15</th>\n",
       "      <th id=\"T_43178_level0_col14\" class=\"col_heading level0 col14\" >16</th>\n",
       "      <th id=\"T_43178_level0_col15\" class=\"col_heading level0 col15\" >17</th>\n",
       "      <th id=\"T_43178_level0_col16\" class=\"col_heading level0 col16\" >18</th>\n",
       "      <th id=\"T_43178_level0_col17\" class=\"col_heading level0 col17\" >19</th>\n",
       "      <th id=\"T_43178_level0_col18\" class=\"col_heading level0 col18\" >20</th>\n",
       "      <th id=\"T_43178_level0_col19\" class=\"col_heading level0 col19\" >21</th>\n",
       "      <th id=\"T_43178_level0_col20\" class=\"col_heading level0 col20\" >22</th>\n",
       "      <th id=\"T_43178_level0_col21\" class=\"col_heading level0 col21\" >23</th>\n",
       "      <th id=\"T_43178_level0_col22\" class=\"col_heading level0 col22\" >24</th>\n",
       "    </tr>\n",
       "  </thead>\n",
       "  <tbody>\n",
       "    <tr>\n",
       "      <th id=\"T_43178_level0_row0\" class=\"row_heading level0 row0\" >KMeans</th>\n",
       "      <td id=\"T_43178_row0_col0\" class=\"data row0 col0\" >0.397213</td>\n",
       "      <td id=\"T_43178_row0_col1\" class=\"data row0 col1\" >0.418320</td>\n",
       "      <td id=\"T_43178_row0_col2\" class=\"data row0 col2\" >0.425786</td>\n",
       "      <td id=\"T_43178_row0_col3\" class=\"data row0 col3\" >0.421770</td>\n",
       "      <td id=\"T_43178_row0_col4\" class=\"data row0 col4\" >0.406009</td>\n",
       "      <td id=\"T_43178_row0_col5\" class=\"data row0 col5\" >0.441153</td>\n",
       "      <td id=\"T_43178_row0_col6\" class=\"data row0 col6\" >0.445064</td>\n",
       "      <td id=\"T_43178_row0_col7\" class=\"data row0 col7\" >0.474998</td>\n",
       "      <td id=\"T_43178_row0_col8\" class=\"data row0 col8\" >0.512975</td>\n",
       "      <td id=\"T_43178_row0_col9\" class=\"data row0 col9\" >0.523191</td>\n",
       "      <td id=\"T_43178_row0_col10\" class=\"data row0 col10\" >0.523716</td>\n",
       "      <td id=\"T_43178_row0_col11\" class=\"data row0 col11\" >0.531408</td>\n",
       "      <td id=\"T_43178_row0_col12\" class=\"data row0 col12\" >0.535454</td>\n",
       "      <td id=\"T_43178_row0_col13\" class=\"data row0 col13\" >0.539929</td>\n",
       "      <td id=\"T_43178_row0_col14\" class=\"data row0 col14\" >0.542379</td>\n",
       "      <td id=\"T_43178_row0_col15\" class=\"data row0 col15\" >0.544997</td>\n",
       "      <td id=\"T_43178_row0_col16\" class=\"data row0 col16\" >0.552448</td>\n",
       "      <td id=\"T_43178_row0_col17\" class=\"data row0 col17\" >0.575766</td>\n",
       "      <td id=\"T_43178_row0_col18\" class=\"data row0 col18\" >0.539346</td>\n",
       "      <td id=\"T_43178_row0_col19\" class=\"data row0 col19\" >0.544882</td>\n",
       "      <td id=\"T_43178_row0_col20\" class=\"data row0 col20\" >0.546803</td>\n",
       "      <td id=\"T_43178_row0_col21\" class=\"data row0 col21\" >0.551639</td>\n",
       "      <td id=\"T_43178_row0_col22\" class=\"data row0 col22\" >0.569755</td>\n",
       "    </tr>\n",
       "    <tr>\n",
       "      <th id=\"T_43178_level0_row1\" class=\"row_heading level0 row1\" >GMM</th>\n",
       "      <td id=\"T_43178_row1_col0\" class=\"data row1 col0\" >0.393079</td>\n",
       "      <td id=\"T_43178_row1_col1\" class=\"data row1 col1\" >0.403215</td>\n",
       "      <td id=\"T_43178_row1_col2\" class=\"data row1 col2\" >0.348875</td>\n",
       "      <td id=\"T_43178_row1_col3\" class=\"data row1 col3\" >0.342665</td>\n",
       "      <td id=\"T_43178_row1_col4\" class=\"data row1 col4\" >0.302389</td>\n",
       "      <td id=\"T_43178_row1_col5\" class=\"data row1 col5\" >0.290801</td>\n",
       "      <td id=\"T_43178_row1_col6\" class=\"data row1 col6\" >0.351306</td>\n",
       "      <td id=\"T_43178_row1_col7\" class=\"data row1 col7\" >0.426385</td>\n",
       "      <td id=\"T_43178_row1_col8\" class=\"data row1 col8\" >0.438101</td>\n",
       "      <td id=\"T_43178_row1_col9\" class=\"data row1 col9\" >0.437358</td>\n",
       "      <td id=\"T_43178_row1_col10\" class=\"data row1 col10\" >0.476678</td>\n",
       "      <td id=\"T_43178_row1_col11\" class=\"data row1 col11\" >0.485544</td>\n",
       "      <td id=\"T_43178_row1_col12\" class=\"data row1 col12\" >0.459012</td>\n",
       "      <td id=\"T_43178_row1_col13\" class=\"data row1 col13\" >0.496734</td>\n",
       "      <td id=\"T_43178_row1_col14\" class=\"data row1 col14\" >0.490487</td>\n",
       "      <td id=\"T_43178_row1_col15\" class=\"data row1 col15\" >0.534650</td>\n",
       "      <td id=\"T_43178_row1_col16\" class=\"data row1 col16\" >0.525189</td>\n",
       "      <td id=\"T_43178_row1_col17\" class=\"data row1 col17\" >0.541205</td>\n",
       "      <td id=\"T_43178_row1_col18\" class=\"data row1 col18\" >0.533208</td>\n",
       "      <td id=\"T_43178_row1_col19\" class=\"data row1 col19\" >0.529612</td>\n",
       "      <td id=\"T_43178_row1_col20\" class=\"data row1 col20\" >0.519574</td>\n",
       "      <td id=\"T_43178_row1_col21\" class=\"data row1 col21\" >0.529535</td>\n",
       "      <td id=\"T_43178_row1_col22\" class=\"data row1 col22\" >0.554264</td>\n",
       "    </tr>\n",
       "    <tr>\n",
       "      <th id=\"T_43178_level0_row2\" class=\"row_heading level0 row2\" >HC</th>\n",
       "      <td id=\"T_43178_row2_col0\" class=\"data row2 col0\" >0.377311</td>\n",
       "      <td id=\"T_43178_row2_col1\" class=\"data row2 col1\" >0.376103</td>\n",
       "      <td id=\"T_43178_row2_col2\" class=\"data row2 col2\" >0.393633</td>\n",
       "      <td id=\"T_43178_row2_col3\" class=\"data row2 col3\" >0.395241</td>\n",
       "      <td id=\"T_43178_row2_col4\" class=\"data row2 col4\" >0.403459</td>\n",
       "      <td id=\"T_43178_row2_col5\" class=\"data row2 col5\" >0.389780</td>\n",
       "      <td id=\"T_43178_row2_col6\" class=\"data row2 col6\" >0.394479</td>\n",
       "      <td id=\"T_43178_row2_col7\" class=\"data row2 col7\" >0.437786</td>\n",
       "      <td id=\"T_43178_row2_col8\" class=\"data row2 col8\" >0.478772</td>\n",
       "      <td id=\"T_43178_row2_col9\" class=\"data row2 col9\" >0.486964</td>\n",
       "      <td id=\"T_43178_row2_col10\" class=\"data row2 col10\" >0.515840</td>\n",
       "      <td id=\"T_43178_row2_col11\" class=\"data row2 col11\" >0.524143</td>\n",
       "      <td id=\"T_43178_row2_col12\" class=\"data row2 col12\" >0.526128</td>\n",
       "      <td id=\"T_43178_row2_col13\" class=\"data row2 col13\" >0.526594</td>\n",
       "      <td id=\"T_43178_row2_col14\" class=\"data row2 col14\" >0.511242</td>\n",
       "      <td id=\"T_43178_row2_col15\" class=\"data row2 col15\" >0.517926</td>\n",
       "      <td id=\"T_43178_row2_col16\" class=\"data row2 col16\" >0.534616</td>\n",
       "      <td id=\"T_43178_row2_col17\" class=\"data row2 col17\" >0.535130</td>\n",
       "      <td id=\"T_43178_row2_col18\" class=\"data row2 col18\" >0.542474</td>\n",
       "      <td id=\"T_43178_row2_col19\" class=\"data row2 col19\" >0.551210</td>\n",
       "      <td id=\"T_43178_row2_col20\" class=\"data row2 col20\" >0.553238</td>\n",
       "      <td id=\"T_43178_row2_col21\" class=\"data row2 col21\" >0.552785</td>\n",
       "      <td id=\"T_43178_row2_col22\" class=\"data row2 col22\" >0.560796</td>\n",
       "    </tr>\n",
       "  </tbody>\n",
       "</table>\n"
      ],
      "text/plain": [
       "<pandas.io.formats.style.Styler at 0x1b9b2df0700>"
      ]
     },
     "execution_count": 114,
     "metadata": {},
     "output_type": "execute_result"
    }
   ],
   "source": [
    "## 6.6. Results - UMAP Embedding\n",
    "\n",
    "df_results = pd.DataFrame( \n",
    "    {'KMeans': kmeans_list, \n",
    "     'GMM': gmm_list, \n",
    "     'HC': hc_list}\n",
    ").T\n",
    "\n",
    "df_results.columns = clusters\n",
    "df_results.style.highlight_max( color='lightgreen', axis=1 )"
   ]
  },
  {
   "cell_type": "code",
   "execution_count": 115,
   "metadata": {
    "ExecuteTime": {
     "end_time": "2021-09-15T00:19:15.903309Z",
     "start_time": "2021-09-15T00:19:15.782467Z"
    },
    "cell_style": "split"
   },
   "outputs": [
    {
     "data": {
      "text/html": [
       "<style type=\"text/css\">\n",
       "#T_df2ff_row0_col17, #T_df2ff_row1_col22, #T_df2ff_row2_col22 {\n",
       "  background-color: lightgreen;\n",
       "}\n",
       "</style>\n",
       "<table id=\"T_df2ff\">\n",
       "  <thead>\n",
       "    <tr>\n",
       "      <th class=\"blank level0\" >&nbsp;</th>\n",
       "      <th id=\"T_df2ff_level0_col0\" class=\"col_heading level0 col0\" >2</th>\n",
       "      <th id=\"T_df2ff_level0_col1\" class=\"col_heading level0 col1\" >3</th>\n",
       "      <th id=\"T_df2ff_level0_col2\" class=\"col_heading level0 col2\" >4</th>\n",
       "      <th id=\"T_df2ff_level0_col3\" class=\"col_heading level0 col3\" >5</th>\n",
       "      <th id=\"T_df2ff_level0_col4\" class=\"col_heading level0 col4\" >6</th>\n",
       "      <th id=\"T_df2ff_level0_col5\" class=\"col_heading level0 col5\" >7</th>\n",
       "      <th id=\"T_df2ff_level0_col6\" class=\"col_heading level0 col6\" >8</th>\n",
       "      <th id=\"T_df2ff_level0_col7\" class=\"col_heading level0 col7\" >9</th>\n",
       "      <th id=\"T_df2ff_level0_col8\" class=\"col_heading level0 col8\" >10</th>\n",
       "      <th id=\"T_df2ff_level0_col9\" class=\"col_heading level0 col9\" >11</th>\n",
       "      <th id=\"T_df2ff_level0_col10\" class=\"col_heading level0 col10\" >12</th>\n",
       "      <th id=\"T_df2ff_level0_col11\" class=\"col_heading level0 col11\" >13</th>\n",
       "      <th id=\"T_df2ff_level0_col12\" class=\"col_heading level0 col12\" >14</th>\n",
       "      <th id=\"T_df2ff_level0_col13\" class=\"col_heading level0 col13\" >15</th>\n",
       "      <th id=\"T_df2ff_level0_col14\" class=\"col_heading level0 col14\" >16</th>\n",
       "      <th id=\"T_df2ff_level0_col15\" class=\"col_heading level0 col15\" >17</th>\n",
       "      <th id=\"T_df2ff_level0_col16\" class=\"col_heading level0 col16\" >18</th>\n",
       "      <th id=\"T_df2ff_level0_col17\" class=\"col_heading level0 col17\" >19</th>\n",
       "      <th id=\"T_df2ff_level0_col18\" class=\"col_heading level0 col18\" >20</th>\n",
       "      <th id=\"T_df2ff_level0_col19\" class=\"col_heading level0 col19\" >21</th>\n",
       "      <th id=\"T_df2ff_level0_col20\" class=\"col_heading level0 col20\" >22</th>\n",
       "      <th id=\"T_df2ff_level0_col21\" class=\"col_heading level0 col21\" >23</th>\n",
       "      <th id=\"T_df2ff_level0_col22\" class=\"col_heading level0 col22\" >24</th>\n",
       "    </tr>\n",
       "  </thead>\n",
       "  <tbody>\n",
       "    <tr>\n",
       "      <th id=\"T_df2ff_level0_row0\" class=\"row_heading level0 row0\" >KMeans</th>\n",
       "      <td id=\"T_df2ff_row0_col0\" class=\"data row0 col0\" >0.397213</td>\n",
       "      <td id=\"T_df2ff_row0_col1\" class=\"data row0 col1\" >0.418320</td>\n",
       "      <td id=\"T_df2ff_row0_col2\" class=\"data row0 col2\" >0.425786</td>\n",
       "      <td id=\"T_df2ff_row0_col3\" class=\"data row0 col3\" >0.421770</td>\n",
       "      <td id=\"T_df2ff_row0_col4\" class=\"data row0 col4\" >0.406009</td>\n",
       "      <td id=\"T_df2ff_row0_col5\" class=\"data row0 col5\" >0.441153</td>\n",
       "      <td id=\"T_df2ff_row0_col6\" class=\"data row0 col6\" >0.445064</td>\n",
       "      <td id=\"T_df2ff_row0_col7\" class=\"data row0 col7\" >0.474998</td>\n",
       "      <td id=\"T_df2ff_row0_col8\" class=\"data row0 col8\" >0.512975</td>\n",
       "      <td id=\"T_df2ff_row0_col9\" class=\"data row0 col9\" >0.523191</td>\n",
       "      <td id=\"T_df2ff_row0_col10\" class=\"data row0 col10\" >0.523716</td>\n",
       "      <td id=\"T_df2ff_row0_col11\" class=\"data row0 col11\" >0.531408</td>\n",
       "      <td id=\"T_df2ff_row0_col12\" class=\"data row0 col12\" >0.535454</td>\n",
       "      <td id=\"T_df2ff_row0_col13\" class=\"data row0 col13\" >0.539929</td>\n",
       "      <td id=\"T_df2ff_row0_col14\" class=\"data row0 col14\" >0.542379</td>\n",
       "      <td id=\"T_df2ff_row0_col15\" class=\"data row0 col15\" >0.544997</td>\n",
       "      <td id=\"T_df2ff_row0_col16\" class=\"data row0 col16\" >0.552448</td>\n",
       "      <td id=\"T_df2ff_row0_col17\" class=\"data row0 col17\" >0.575766</td>\n",
       "      <td id=\"T_df2ff_row0_col18\" class=\"data row0 col18\" >0.539346</td>\n",
       "      <td id=\"T_df2ff_row0_col19\" class=\"data row0 col19\" >0.544882</td>\n",
       "      <td id=\"T_df2ff_row0_col20\" class=\"data row0 col20\" >0.546803</td>\n",
       "      <td id=\"T_df2ff_row0_col21\" class=\"data row0 col21\" >0.551639</td>\n",
       "      <td id=\"T_df2ff_row0_col22\" class=\"data row0 col22\" >0.569755</td>\n",
       "    </tr>\n",
       "    <tr>\n",
       "      <th id=\"T_df2ff_level0_row1\" class=\"row_heading level0 row1\" >GMM</th>\n",
       "      <td id=\"T_df2ff_row1_col0\" class=\"data row1 col0\" >0.393079</td>\n",
       "      <td id=\"T_df2ff_row1_col1\" class=\"data row1 col1\" >0.403215</td>\n",
       "      <td id=\"T_df2ff_row1_col2\" class=\"data row1 col2\" >0.348875</td>\n",
       "      <td id=\"T_df2ff_row1_col3\" class=\"data row1 col3\" >0.342665</td>\n",
       "      <td id=\"T_df2ff_row1_col4\" class=\"data row1 col4\" >0.302389</td>\n",
       "      <td id=\"T_df2ff_row1_col5\" class=\"data row1 col5\" >0.290801</td>\n",
       "      <td id=\"T_df2ff_row1_col6\" class=\"data row1 col6\" >0.351306</td>\n",
       "      <td id=\"T_df2ff_row1_col7\" class=\"data row1 col7\" >0.426385</td>\n",
       "      <td id=\"T_df2ff_row1_col8\" class=\"data row1 col8\" >0.438101</td>\n",
       "      <td id=\"T_df2ff_row1_col9\" class=\"data row1 col9\" >0.437358</td>\n",
       "      <td id=\"T_df2ff_row1_col10\" class=\"data row1 col10\" >0.476678</td>\n",
       "      <td id=\"T_df2ff_row1_col11\" class=\"data row1 col11\" >0.485544</td>\n",
       "      <td id=\"T_df2ff_row1_col12\" class=\"data row1 col12\" >0.459012</td>\n",
       "      <td id=\"T_df2ff_row1_col13\" class=\"data row1 col13\" >0.496734</td>\n",
       "      <td id=\"T_df2ff_row1_col14\" class=\"data row1 col14\" >0.490487</td>\n",
       "      <td id=\"T_df2ff_row1_col15\" class=\"data row1 col15\" >0.534650</td>\n",
       "      <td id=\"T_df2ff_row1_col16\" class=\"data row1 col16\" >0.525189</td>\n",
       "      <td id=\"T_df2ff_row1_col17\" class=\"data row1 col17\" >0.541205</td>\n",
       "      <td id=\"T_df2ff_row1_col18\" class=\"data row1 col18\" >0.533208</td>\n",
       "      <td id=\"T_df2ff_row1_col19\" class=\"data row1 col19\" >0.529612</td>\n",
       "      <td id=\"T_df2ff_row1_col20\" class=\"data row1 col20\" >0.519574</td>\n",
       "      <td id=\"T_df2ff_row1_col21\" class=\"data row1 col21\" >0.529535</td>\n",
       "      <td id=\"T_df2ff_row1_col22\" class=\"data row1 col22\" >0.554264</td>\n",
       "    </tr>\n",
       "    <tr>\n",
       "      <th id=\"T_df2ff_level0_row2\" class=\"row_heading level0 row2\" >HC</th>\n",
       "      <td id=\"T_df2ff_row2_col0\" class=\"data row2 col0\" >0.377311</td>\n",
       "      <td id=\"T_df2ff_row2_col1\" class=\"data row2 col1\" >0.376103</td>\n",
       "      <td id=\"T_df2ff_row2_col2\" class=\"data row2 col2\" >0.393633</td>\n",
       "      <td id=\"T_df2ff_row2_col3\" class=\"data row2 col3\" >0.395241</td>\n",
       "      <td id=\"T_df2ff_row2_col4\" class=\"data row2 col4\" >0.403459</td>\n",
       "      <td id=\"T_df2ff_row2_col5\" class=\"data row2 col5\" >0.389780</td>\n",
       "      <td id=\"T_df2ff_row2_col6\" class=\"data row2 col6\" >0.394479</td>\n",
       "      <td id=\"T_df2ff_row2_col7\" class=\"data row2 col7\" >0.437786</td>\n",
       "      <td id=\"T_df2ff_row2_col8\" class=\"data row2 col8\" >0.478772</td>\n",
       "      <td id=\"T_df2ff_row2_col9\" class=\"data row2 col9\" >0.486964</td>\n",
       "      <td id=\"T_df2ff_row2_col10\" class=\"data row2 col10\" >0.515840</td>\n",
       "      <td id=\"T_df2ff_row2_col11\" class=\"data row2 col11\" >0.524143</td>\n",
       "      <td id=\"T_df2ff_row2_col12\" class=\"data row2 col12\" >0.526128</td>\n",
       "      <td id=\"T_df2ff_row2_col13\" class=\"data row2 col13\" >0.526594</td>\n",
       "      <td id=\"T_df2ff_row2_col14\" class=\"data row2 col14\" >0.511242</td>\n",
       "      <td id=\"T_df2ff_row2_col15\" class=\"data row2 col15\" >0.517926</td>\n",
       "      <td id=\"T_df2ff_row2_col16\" class=\"data row2 col16\" >0.534616</td>\n",
       "      <td id=\"T_df2ff_row2_col17\" class=\"data row2 col17\" >0.535130</td>\n",
       "      <td id=\"T_df2ff_row2_col18\" class=\"data row2 col18\" >0.542474</td>\n",
       "      <td id=\"T_df2ff_row2_col19\" class=\"data row2 col19\" >0.551210</td>\n",
       "      <td id=\"T_df2ff_row2_col20\" class=\"data row2 col20\" >0.553238</td>\n",
       "      <td id=\"T_df2ff_row2_col21\" class=\"data row2 col21\" >0.552785</td>\n",
       "      <td id=\"T_df2ff_row2_col22\" class=\"data row2 col22\" >0.560796</td>\n",
       "    </tr>\n",
       "  </tbody>\n",
       "</table>\n"
      ],
      "text/plain": [
       "<pandas.io.formats.style.Styler at 0x1b9b2e1eaf0>"
      ]
     },
     "execution_count": 115,
     "metadata": {},
     "output_type": "execute_result"
    }
   ],
   "source": [
    "## 6.7. Results - TSNE Embedding\n",
    "\n",
    "df_results = pd.DataFrame( \n",
    "    {'KMeans': kmeans_list, \n",
    "     'GMM': gmm_list, \n",
    "     'HC': hc_list}\n",
    ").T\n",
    "\n",
    "df_results.columns = clusters\n",
    "df_results.style.highlight_max( color='lightgreen', axis=1 )"
   ]
  },
  {
   "cell_type": "markdown",
   "metadata": {},
   "source": [
    "# <font color='red'> 7.0. Model Training </font>"
   ]
  },
  {
   "cell_type": "markdown",
   "metadata": {},
   "source": [
    "## 7.1. Final model"
   ]
  },
  {
   "cell_type": "code",
   "execution_count": 116,
   "metadata": {
    "ExecuteTime": {
     "end_time": "2021-09-15T00:32:05.075376Z",
     "start_time": "2021-09-15T00:30:22.201437Z"
    }
   },
   "outputs": [],
   "source": [
    "# model definition\n",
    "k = 8\n",
    "\n",
    "## model definition\n",
    "gmm_model = mx.GaussianMixture( n_components=k, n_init=300, random_state=32 )\n",
    "\n",
    "# model training\n",
    "gmm_model.fit( X )\n",
    "\n",
    "# model predict\n",
    "labels = gmm_model.predict( X )"
   ]
  },
  {
   "cell_type": "markdown",
   "metadata": {},
   "source": [
    "## 7.2. Cluster Validation"
   ]
  },
  {
   "cell_type": "code",
   "execution_count": 117,
   "metadata": {
    "ExecuteTime": {
     "end_time": "2021-09-15T00:32:06.658872Z",
     "start_time": "2021-09-15T00:32:05.082535Z"
    }
   },
   "outputs": [
    {
     "name": "stdout",
     "output_type": "stream",
     "text": [
      "SS value: 0.34301814436912537\n"
     ]
    }
   ],
   "source": [
    "## WSS ( Within-cluster sum of square)\n",
    "#print( 'WSS value: {}'.format( kmeans.inertia_ ) )\n",
    "\n",
    "## SS ( Silhouette Score )\n",
    "print( 'SS value: {}'.format( m.silhouette_score( X, labels, metric='euclidean' ) ) )"
   ]
  },
  {
   "cell_type": "markdown",
   "metadata": {},
   "source": [
    "# <font color='red'> 8.0. Cluster Analysis </font>"
   ]
  },
  {
   "cell_type": "code",
   "execution_count": 118,
   "metadata": {
    "ExecuteTime": {
     "end_time": "2021-09-15T00:32:06.678747Z",
     "start_time": "2021-09-15T00:32:06.666942Z"
    }
   },
   "outputs": [],
   "source": [
    "df9 = X.copy()\n",
    "df9['cluster'] = labels"
   ]
  },
  {
   "cell_type": "markdown",
   "metadata": {},
   "source": [
    "## 8.1. Visualization Inspection"
   ]
  },
  {
   "cell_type": "code",
   "execution_count": 119,
   "metadata": {
    "ExecuteTime": {
     "end_time": "2021-09-15T00:32:08.701568Z",
     "start_time": "2021-09-15T00:32:06.689889Z"
    }
   },
   "outputs": [
    {
     "data": {
      "text/plain": [
       "<AxesSubplot:xlabel='embedding_x', ylabel='embedding_y'>"
      ]
     },
     "execution_count": 119,
     "metadata": {},
     "output_type": "execute_result"
    },
    {
     "data": {
      "image/png": "[encoded data removed]",
      "text/plain": [
       "<Figure size 432x288 with 1 Axes>"
      ]
     },
     "metadata": {
      "needs_background": "light"
     },
     "output_type": "display_data"
    }
   ],
   "source": [
    "sns.scatterplot( x='embedding_x', y='embedding_y', hue='cluster', data=df9, palette='deep')"
   ]
  },
  {
   "cell_type": "markdown",
   "metadata": {},
   "source": [
    "## 8.2. Cluster Profile"
   ]
  },
  {
   "cell_type": "code",
   "execution_count": 120,
   "metadata": {
    "ExecuteTime": {
     "end_time": "2021-09-15T00:32:08.783901Z",
     "start_time": "2021-09-15T00:32:08.707181Z"
    }
   },
   "outputs": [
    {
     "data": {
      "text/html": [
       "<div>\n",
       "<style scoped>\n",
       "    .dataframe tbody tr th:only-of-type {\n",
       "        vertical-align: middle;\n",
       "    }\n",
       "\n",
       "    .dataframe tbody tr th {\n",
       "        vertical-align: top;\n",
       "    }\n",
       "\n",
       "    .dataframe thead th {\n",
       "        text-align: right;\n",
       "    }\n",
       "</style>\n",
       "<table border=\"1\" class=\"dataframe\">\n",
       "  <thead>\n",
       "    <tr style=\"text-align: right;\">\n",
       "      <th></th>\n",
       "      <th>customer_id</th>\n",
       "      <th>gross_revenue</th>\n",
       "      <th>recency_days</th>\n",
       "      <th>qtde_products</th>\n",
       "      <th>frequency</th>\n",
       "      <th>qtde_returns</th>\n",
       "      <th>cluster</th>\n",
       "    </tr>\n",
       "  </thead>\n",
       "  <tbody>\n",
       "    <tr>\n",
       "      <th>0</th>\n",
       "      <td>17850</td>\n",
       "      <td>5391.21</td>\n",
       "      <td>372.0</td>\n",
       "      <td>297.0</td>\n",
       "      <td>17.000000</td>\n",
       "      <td>40.0</td>\n",
       "      <td>5</td>\n",
       "    </tr>\n",
       "    <tr>\n",
       "      <th>1</th>\n",
       "      <td>13047</td>\n",
       "      <td>3232.59</td>\n",
       "      <td>56.0</td>\n",
       "      <td>171.0</td>\n",
       "      <td>0.028302</td>\n",
       "      <td>35.0</td>\n",
       "      <td>2</td>\n",
       "    </tr>\n",
       "    <tr>\n",
       "      <th>2</th>\n",
       "      <td>12583</td>\n",
       "      <td>6705.38</td>\n",
       "      <td>2.0</td>\n",
       "      <td>232.0</td>\n",
       "      <td>0.040323</td>\n",
       "      <td>50.0</td>\n",
       "      <td>5</td>\n",
       "    </tr>\n",
       "    <tr>\n",
       "      <th>3</th>\n",
       "      <td>13748</td>\n",
       "      <td>948.25</td>\n",
       "      <td>95.0</td>\n",
       "      <td>28.0</td>\n",
       "      <td>0.017921</td>\n",
       "      <td>0.0</td>\n",
       "      <td>4</td>\n",
       "    </tr>\n",
       "    <tr>\n",
       "      <th>4</th>\n",
       "      <td>15100</td>\n",
       "      <td>876.00</td>\n",
       "      <td>333.0</td>\n",
       "      <td>3.0</td>\n",
       "      <td>0.073171</td>\n",
       "      <td>22.0</td>\n",
       "      <td>3</td>\n",
       "    </tr>\n",
       "  </tbody>\n",
       "</table>\n",
       "</div>"
      ],
      "text/plain": [
       "   customer_id  gross_revenue  recency_days  qtde_products  frequency  \\\n",
       "0        17850        5391.21         372.0          297.0  17.000000   \n",
       "1        13047        3232.59          56.0          171.0   0.028302   \n",
       "2        12583        6705.38           2.0          232.0   0.040323   \n",
       "3        13748         948.25          95.0           28.0   0.017921   \n",
       "4        15100         876.00         333.0            3.0   0.073171   \n",
       "\n",
       "   qtde_returns  cluster  \n",
       "0          40.0        5  \n",
       "1          35.0        2  \n",
       "2          50.0        5  \n",
       "3           0.0        4  \n",
       "4          22.0        3  "
      ]
     },
     "execution_count": 120,
     "metadata": {},
     "output_type": "execute_result"
    }
   ],
   "source": [
    "df92 = df4[ cols_selected ].copy()\n",
    "df92['cluster'] = labels\n",
    "df92.head()"
   ]
  },
  {
   "cell_type": "code",
   "execution_count": 121,
   "metadata": {
    "ExecuteTime": {
     "end_time": "2021-09-15T00:32:09.016039Z",
     "start_time": "2021-09-15T00:32:08.800774Z"
    }
   },
   "outputs": [
    {
     "data": {
      "text/html": [
       "<div>\n",
       "<style scoped>\n",
       "    .dataframe tbody tr th:only-of-type {\n",
       "        vertical-align: middle;\n",
       "    }\n",
       "\n",
       "    .dataframe tbody tr th {\n",
       "        vertical-align: top;\n",
       "    }\n",
       "\n",
       "    .dataframe thead th {\n",
       "        text-align: right;\n",
       "    }\n",
       "</style>\n",
       "<table border=\"1\" class=\"dataframe\">\n",
       "  <thead>\n",
       "    <tr style=\"text-align: right;\">\n",
       "      <th></th>\n",
       "      <th>cluster</th>\n",
       "      <th>customer_id</th>\n",
       "      <th>perc_customer</th>\n",
       "      <th>gross_revenue</th>\n",
       "      <th>recency_days</th>\n",
       "      <th>qtde_products</th>\n",
       "      <th>frequency</th>\n",
       "      <th>qtde_returns</th>\n",
       "    </tr>\n",
       "  </thead>\n",
       "  <tbody>\n",
       "    <tr>\n",
       "      <th>5</th>\n",
       "      <td>5</td>\n",
       "      <td>1012</td>\n",
       "      <td>17.769974</td>\n",
       "      <td>4616.256334</td>\n",
       "      <td>112.485178</td>\n",
       "      <td>231.659091</td>\n",
       "      <td>0.466410</td>\n",
       "      <td>146.523715</td>\n",
       "    </tr>\n",
       "    <tr>\n",
       "      <th>0</th>\n",
       "      <td>0</td>\n",
       "      <td>443</td>\n",
       "      <td>7.778753</td>\n",
       "      <td>2205.623476</td>\n",
       "      <td>63.160271</td>\n",
       "      <td>143.837472</td>\n",
       "      <td>0.311462</td>\n",
       "      <td>0.090293</td>\n",
       "    </tr>\n",
       "    <tr>\n",
       "      <th>2</th>\n",
       "      <td>2</td>\n",
       "      <td>1103</td>\n",
       "      <td>19.367867</td>\n",
       "      <td>2061.064705</td>\n",
       "      <td>87.511333</td>\n",
       "      <td>127.148685</td>\n",
       "      <td>0.468345</td>\n",
       "      <td>13.218495</td>\n",
       "    </tr>\n",
       "    <tr>\n",
       "      <th>4</th>\n",
       "      <td>4</td>\n",
       "      <td>736</td>\n",
       "      <td>12.923617</td>\n",
       "      <td>979.786793</td>\n",
       "      <td>161.812500</td>\n",
       "      <td>24.331522</td>\n",
       "      <td>0.735534</td>\n",
       "      <td>3.433424</td>\n",
       "    </tr>\n",
       "    <tr>\n",
       "      <th>7</th>\n",
       "      <td>7</td>\n",
       "      <td>365</td>\n",
       "      <td>6.409131</td>\n",
       "      <td>920.141342</td>\n",
       "      <td>111.704110</td>\n",
       "      <td>58.265753</td>\n",
       "      <td>0.355980</td>\n",
       "      <td>3.575342</td>\n",
       "    </tr>\n",
       "    <tr>\n",
       "      <th>6</th>\n",
       "      <td>6</td>\n",
       "      <td>703</td>\n",
       "      <td>12.344162</td>\n",
       "      <td>846.095619</td>\n",
       "      <td>116.586060</td>\n",
       "      <td>41.229018</td>\n",
       "      <td>0.443835</td>\n",
       "      <td>5.577525</td>\n",
       "    </tr>\n",
       "    <tr>\n",
       "      <th>3</th>\n",
       "      <td>3</td>\n",
       "      <td>430</td>\n",
       "      <td>7.550483</td>\n",
       "      <td>558.206023</td>\n",
       "      <td>106.444186</td>\n",
       "      <td>12.916279</td>\n",
       "      <td>0.278793</td>\n",
       "      <td>5.358140</td>\n",
       "    </tr>\n",
       "    <tr>\n",
       "      <th>1</th>\n",
       "      <td>1</td>\n",
       "      <td>903</td>\n",
       "      <td>15.856014</td>\n",
       "      <td>321.985482</td>\n",
       "      <td>155.001107</td>\n",
       "      <td>16.936877</td>\n",
       "      <td>0.982395</td>\n",
       "      <td>5.663344</td>\n",
       "    </tr>\n",
       "  </tbody>\n",
       "</table>\n",
       "</div>"
      ],
      "text/plain": [
       "   cluster  customer_id  perc_customer  gross_revenue  recency_days  \\\n",
       "5        5         1012      17.769974    4616.256334    112.485178   \n",
       "0        0          443       7.778753    2205.623476     63.160271   \n",
       "2        2         1103      19.367867    2061.064705     87.511333   \n",
       "4        4          736      12.923617     979.786793    161.812500   \n",
       "7        7          365       6.409131     920.141342    111.704110   \n",
       "6        6          703      12.344162     846.095619    116.586060   \n",
       "3        3          430       7.550483     558.206023    106.444186   \n",
       "1        1          903      15.856014     321.985482    155.001107   \n",
       "\n",
       "   qtde_products  frequency  qtde_returns  \n",
       "5     231.659091   0.466410    146.523715  \n",
       "0     143.837472   0.311462      0.090293  \n",
       "2     127.148685   0.468345     13.218495  \n",
       "4      24.331522   0.735534      3.433424  \n",
       "7      58.265753   0.355980      3.575342  \n",
       "6      41.229018   0.443835      5.577525  \n",
       "3      12.916279   0.278793      5.358140  \n",
       "1      16.936877   0.982395      5.663344  "
      ]
     },
     "execution_count": 121,
     "metadata": {},
     "output_type": "execute_result"
    }
   ],
   "source": [
    "# Number of customer\n",
    "df_cluster = df92[['customer_id', 'cluster']].groupby( 'cluster' ).count().reset_index()\n",
    "df_cluster['perc_customer'] = 100*( df_cluster['customer_id'] / df_cluster['customer_id'].sum() )\n",
    "\n",
    "# Avg Gross revenue\n",
    "df_avg_gross_revenue = df92[['gross_revenue', 'cluster']].groupby( 'cluster' ).mean().reset_index()\n",
    "df_cluster = pd.merge( df_cluster, df_avg_gross_revenue, how='inner', on='cluster' )\n",
    "\n",
    "# Avg recency days\n",
    "df_avg_recency_days = df92[['recency_days', 'cluster']].groupby( 'cluster' ).mean().reset_index()\n",
    "df_cluster = pd.merge( df_cluster, df_avg_recency_days, how='inner', on='cluster' )\n",
    "\n",
    "# Avg invoice_no\n",
    "df_qtde_products = df92[['qtde_products', 'cluster']].groupby( 'cluster' ).mean().reset_index()\n",
    "df_cluster = pd.merge( df_cluster, df_qtde_products, how='inner', on='cluster' )\n",
    "\n",
    "# Frequency\n",
    "df_frequency = df92[['frequency', 'cluster']].groupby( 'cluster' ).mean().reset_index()\n",
    "df_cluster = pd.merge( df_cluster, df_frequency, how='inner', on='cluster' )\n",
    "\n",
    "# Returns\n",
    "df_qtde_returns = df92[['qtde_returns', 'cluster']].groupby( 'cluster' ).mean().reset_index()\n",
    "df_cluster = pd.merge( df_cluster, df_qtde_returns, how='inner', on='cluster' )\n",
    "\n",
    "df_cluster.sort_values( 'gross_revenue', ascending=False )"
   ]
  },
  {
   "cell_type": "code",
   "execution_count": 122,
   "metadata": {
    "ExecuteTime": {
     "end_time": "2021-09-15T00:32:09.032710Z",
     "start_time": "2021-09-15T00:32:09.025968Z"
    }
   },
   "outputs": [],
   "source": [
    "# 6 Cluster Insiders\n",
    "# 3 Cluster More Products\n",
    "# 0 Cluster Spend Money \n",
    "# 1 Cluster Even More Products\n",
    "# 4 Cluster Less Days\n",
    "# 7 Cluster Less 1k\n",
    "# 2 Cluster Stop Returners\n",
    "# 5 Cluster More Buy"
   ]
  },
  {
   "cell_type": "markdown",
   "metadata": {},
   "source": [
    "### Cluster 01:  ( Candidato à Insider )\n",
    "    - Número de customers: 468 (16% do customers )\n",
    "    - Faturamento médio: 8836\n",
    "    - Recência média: 21 dias\n",
    "    - Média de Produtos comprados: 424 produtos\n",
    "    - Frequência de Produtos comprados: 0.09 produtos/dia\n",
    "    - Receita em média: $8836.13,00 dólares\n",
    "        \n",
    "### Cluster 02: \n",
    "    - Número de customers: 31 (0.71 do customers )\n",
    "    - Recência em média: 14 dias\n",
    "    - Compras em média: 53 compras\n",
    "    - Receita em média: $40.543,52 dólares\n",
    "        \n",
    "### Cluster 03: \n",
    "    - Número de customers: 4.335 (99% do customers )\n",
    "    - Recência em média: 92 dias\n",
    "    - Compras em média: 5 compras\n",
    "    - Receita em média: $1.372,57 dólares"
   ]
  },
  {
   "cell_type": "markdown",
   "metadata": {},
   "source": [
    "# <font color='red'> 9.0. Análise Exploratória de Dados </font>"
   ]
  },
  {
   "cell_type": "code",
   "execution_count": 123,
   "metadata": {
    "ExecuteTime": {
     "end_time": "2021-09-15T00:32:39.068282Z",
     "start_time": "2021-09-15T00:32:39.061362Z"
    }
   },
   "outputs": [],
   "source": [
    "df10 = df92.copy()"
   ]
  },
  {
   "cell_type": "code",
   "execution_count": 124,
   "metadata": {
    "ExecuteTime": {
     "end_time": "2021-09-15T00:32:40.568550Z",
     "start_time": "2021-09-15T00:32:40.540164Z"
    }
   },
   "outputs": [
    {
     "data": {
      "text/html": [
       "<div>\n",
       "<style scoped>\n",
       "    .dataframe tbody tr th:only-of-type {\n",
       "        vertical-align: middle;\n",
       "    }\n",
       "\n",
       "    .dataframe tbody tr th {\n",
       "        vertical-align: top;\n",
       "    }\n",
       "\n",
       "    .dataframe thead th {\n",
       "        text-align: right;\n",
       "    }\n",
       "</style>\n",
       "<table border=\"1\" class=\"dataframe\">\n",
       "  <thead>\n",
       "    <tr style=\"text-align: right;\">\n",
       "      <th></th>\n",
       "      <th>customer_id</th>\n",
       "      <th>gross_revenue</th>\n",
       "      <th>recency_days</th>\n",
       "      <th>qtde_products</th>\n",
       "      <th>frequency</th>\n",
       "      <th>qtde_returns</th>\n",
       "      <th>cluster</th>\n",
       "    </tr>\n",
       "  </thead>\n",
       "  <tbody>\n",
       "    <tr>\n",
       "      <th>0</th>\n",
       "      <td>17850</td>\n",
       "      <td>5391.21</td>\n",
       "      <td>372.0</td>\n",
       "      <td>297.0</td>\n",
       "      <td>17.000000</td>\n",
       "      <td>40.0</td>\n",
       "      <td>5</td>\n",
       "    </tr>\n",
       "    <tr>\n",
       "      <th>1</th>\n",
       "      <td>13047</td>\n",
       "      <td>3232.59</td>\n",
       "      <td>56.0</td>\n",
       "      <td>171.0</td>\n",
       "      <td>0.028302</td>\n",
       "      <td>35.0</td>\n",
       "      <td>2</td>\n",
       "    </tr>\n",
       "    <tr>\n",
       "      <th>2</th>\n",
       "      <td>12583</td>\n",
       "      <td>6705.38</td>\n",
       "      <td>2.0</td>\n",
       "      <td>232.0</td>\n",
       "      <td>0.040323</td>\n",
       "      <td>50.0</td>\n",
       "      <td>5</td>\n",
       "    </tr>\n",
       "    <tr>\n",
       "      <th>3</th>\n",
       "      <td>13748</td>\n",
       "      <td>948.25</td>\n",
       "      <td>95.0</td>\n",
       "      <td>28.0</td>\n",
       "      <td>0.017921</td>\n",
       "      <td>0.0</td>\n",
       "      <td>4</td>\n",
       "    </tr>\n",
       "    <tr>\n",
       "      <th>4</th>\n",
       "      <td>15100</td>\n",
       "      <td>876.00</td>\n",
       "      <td>333.0</td>\n",
       "      <td>3.0</td>\n",
       "      <td>0.073171</td>\n",
       "      <td>22.0</td>\n",
       "      <td>3</td>\n",
       "    </tr>\n",
       "  </tbody>\n",
       "</table>\n",
       "</div>"
      ],
      "text/plain": [
       "   customer_id  gross_revenue  recency_days  qtde_products  frequency  \\\n",
       "0        17850        5391.21         372.0          297.0  17.000000   \n",
       "1        13047        3232.59          56.0          171.0   0.028302   \n",
       "2        12583        6705.38           2.0          232.0   0.040323   \n",
       "3        13748         948.25          95.0           28.0   0.017921   \n",
       "4        15100         876.00         333.0            3.0   0.073171   \n",
       "\n",
       "   qtde_returns  cluster  \n",
       "0          40.0        5  \n",
       "1          35.0        2  \n",
       "2          50.0        5  \n",
       "3           0.0        4  \n",
       "4          22.0        3  "
      ]
     },
     "execution_count": 124,
     "metadata": {},
     "output_type": "execute_result"
    }
   ],
   "source": [
    "df10.head()"
   ]
  },
  {
   "cell_type": "markdown",
   "metadata": {},
   "source": [
    "# <font color='red'> 10.0. Deploy To Production </font>"
   ]
  },
  {
   "cell_type": "code",
   "execution_count": 125,
   "metadata": {
    "ExecuteTime": {
     "end_time": "2021-09-15T00:36:16.034741Z",
     "start_time": "2021-09-15T00:36:16.021141Z"
    }
   },
   "outputs": [
    {
     "data": {
      "text/plain": [
       "customer_id        int32\n",
       "gross_revenue    float64\n",
       "recency_days     float64\n",
       "qtde_products    float64\n",
       "frequency        float64\n",
       "qtde_returns     float64\n",
       "cluster            int64\n",
       "dtype: object"
      ]
     },
     "execution_count": 125,
     "metadata": {},
     "output_type": "execute_result"
    }
   ],
   "source": [
    "df92.dtypes"
   ]
  },
  {
   "cell_type": "code",
   "execution_count": 126,
   "metadata": {
    "ExecuteTime": {
     "end_time": "2021-09-15T00:36:28.051555Z",
     "start_time": "2021-09-15T00:36:28.045439Z"
    }
   },
   "outputs": [],
   "source": [
    "df92['recency_days'] = df92['recency_days'].astype( int )\n",
    "df92['qtde_products'] = df92['qtde_products'].astype( int )\n",
    "df92['qtde_returns'] = df92['qtde_returns'].astype( int )"
   ]
  },
  {
   "cell_type": "code",
   "execution_count": 127,
   "metadata": {
    "ExecuteTime": {
     "end_time": "2021-09-15T00:37:23.711329Z",
     "start_time": "2021-09-15T00:37:23.701033Z"
    }
   },
   "outputs": [],
   "source": [
    "# database conection\n",
    "# conn = create_engine( 'sqlite:///insiders_db.sqlite' )\n",
    "\n",
    "# ## drop table\n",
    "# #query_drop_insiders = \"\"\"\n",
    "# #    DROP TABLE insiders\n",
    "# #\"\"\"\n",
    "\n",
    "# # create table\n",
    "# query_create_insiders = \"\"\"\n",
    "#     CREATE TABLE insiders ( \n",
    "#         customer_id   INTEGER,\n",
    "#         gross_revenue REAL,\n",
    "#         recency_days  INTEGER,\n",
    "#         qtde_products INTEGER,\n",
    "#         frequency     REAL,\n",
    "#         qtde_returns  INTEGER,\n",
    "#         cluster       INTEGER\n",
    "#     )\n",
    "# \"\"\"\n",
    "\n",
    "# conn.execute( query_create_insiders )"
   ]
  },
  {
   "cell_type": "code",
   "execution_count": 128,
   "metadata": {
    "ExecuteTime": {
     "end_time": "2021-09-15T00:37:35.735105Z",
     "start_time": "2021-09-15T00:37:35.582689Z"
    }
   },
   "outputs": [
    {
     "data": {
      "text/plain": [
       "5695"
      ]
     },
     "execution_count": 128,
     "metadata": {},
     "output_type": "execute_result"
    }
   ],
   "source": [
    "# insert data into\n",
    "df92.to_sql( 'insiders', con=conn, if_exists='append', index=False )"
   ]
  },
  {
   "cell_type": "code",
   "execution_count": 129,
   "metadata": {
    "ExecuteTime": {
     "end_time": "2021-09-15T00:37:57.210555Z",
     "start_time": "2021-09-15T00:37:57.207606Z"
    }
   },
   "outputs": [],
   "source": [
    "## get query\n",
    "#query_collect = \"\"\"\n",
    "#    SELECT * from insiders\n",
    "#\"\"\"\n",
    "#\n",
    "#df = pd.read_sql_query( query_collect, conn )\n",
    "#df.head()"
   ]
  }
 ],
 "metadata": {
  "kernelspec": {
   "display_name": "Python 3.8.13 ('pa005')",
   "language": "python",
   "name": "python3"
  },
  "language_info": {
   "codemirror_mode": {
    "name": "ipython",
    "version": 3
   },
   "file_extension": ".py",
   "mimetype": "text/x-python",
   "name": "python",
   "nbconvert_exporter": "python",
   "pygments_lexer": "ipython3",
   "version": "3.8.13"
  },
  "vscode": {
   "interpreter": {
    "hash": "9d80e433dda83df00890f8efb72e5767e14b0f2f73f7f777b1899b19837ce6d9"
   }
  }
 },
 "nbformat": 4,
 "nbformat_minor": 4
}
